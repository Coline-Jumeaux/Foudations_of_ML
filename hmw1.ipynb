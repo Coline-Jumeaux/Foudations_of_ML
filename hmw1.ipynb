{
 "cells": [
  {
   "cell_type": "markdown",
   "metadata": {},
   "source": [
    "# Machine Learning and Computational Statistics\n",
    "# Homework 1: Ridge Regression, Gradient Descent, SGD"
   ]
  },
  {
   "cell_type": "code",
   "execution_count": 1,
   "metadata": {},
   "outputs": [],
   "source": [
    "import pandas as pd\n",
    "import logging\n",
    "import numpy as np\n",
    "import sys\n",
    "import matplotlib.pyplot as plt\n",
    "from sklearn.model_selection import train_test_split"
   ]
  },
  {
   "cell_type": "markdown",
   "metadata": {},
   "source": [
    "Assignment Owner: Tian Wang"
   ]
  },
  {
   "cell_type": "markdown",
   "metadata": {},
   "source": [
    "## Normalization"
   ]
  },
  {
   "cell_type": "markdown",
   "metadata": {},
   "source": [
    "When features differ greatly, we can get much slower rates of convergence of gradient-based algorithms. Furthermore, when we start using regularization, features with larger values are treated as 'more important', which is not usually what you want. One common approach to feature normalization is to perform an affine transformation (i.e. shift and rescale) on each feature so that all feature values in the training set are in \\[0,1\\]. Each feature gets its own transformation. We then apply the same transformations to each feature on the test set.  \n",
    "It's important that the transformation is 'learned' on the training set, and then applied to the test set. It is possible that some transformed test set values will lie outside of the \\[0,1\\] intervall.  \n",
    "Modify function feature_normalization to normalize all the features to \\[0,1\\]. Note that a feature with constant value cannot be normalized in this way. Your function should discard features that are constant in the training set."
   ]
  },
  {
   "cell_type": "code",
   "execution_count": 2,
   "metadata": {},
   "outputs": [],
   "source": [
    "def feature_normalization(train, test):\n",
    "    \"\"\"Rescale the data so that each feature in the training set is in\n",
    "    the interval [0,1], and apply the same transformations to the test\n",
    "    set, using the statistics computed on the training set.\n",
    "\n",
    "    Args:\n",
    "        train - training set, a 2D numpy array of size (num_instances, num_features)\n",
    "        test  - test set, a 2D numpy array of size (num_instances, num_features)\n",
    "    Returns:\n",
    "        train_normalized - training set after normalization\n",
    "        test_normalized  - test set after normalization\n",
    "\n",
    "    \"\"\"\n",
    "    train_normalized = (train - train.min(axis=0))/(train.max(axis=0)-train.min(axis=0))\n",
    "    test_normalized = (test - train.min(axis=0))/(train.max(axis=0)-train.min(axis=0))\n",
    "    return (train_normalized, test_normalized)"
   ]
  },
  {
   "cell_type": "markdown",
   "metadata": {},
   "source": [
    "## Gradient Descent Setup"
   ]
  },
  {
   "cell_type": "markdown",
   "metadata": {},
   "source": [
    "In linear regression, we consider the hypothesis space of linear functions $h_\\theta : R^d \\to R$, where  \n",
    "  \n",
    "$$h_\\theta(x) = \\theta^Tx,$$  \n",
    "  \n",
    "for $\\theta, x \\in R^d$, and we choose  $\\theta$ that minimizes the following “square loss” objective function:  \n",
    "\n",
    "$$ J(\\theta) = \\frac{1}{m} \\sum_{i=1}^n (h_\\theta(x_i)−y_i)^2,$$  \n",
    "\n",
    "where $(x_1, y_1), ..., (x_m, y_m) \\in R^d \\times R$ is our training data.\n",
    "While this formulation of linear regression is very convenient, it’s more standard to use a hypothesis space of “affine” functions:\n",
    "$$h_\\theta(x) = \\theta^Tx + b,$$  \n",
    "\n",
    "which allows a “bias” or nonzero intercept term. The standard way to achieve this, while still maintaining the convenience of the first representation, is to add an extra dimension to x that is always a fixed value, such as 1. You should convince yourself that this is equivalent. We’ll assume this representation, and thus we’ll actually take  $\\theta, x \\in R^{d+1}$."
   ]
  },
  {
   "cell_type": "markdown",
   "metadata": {},
   "source": [
    "1. Let $X \\in R^{m\\times(d+1)}$ be the design matrix, where the *i*’th row of $X$ is $x_i$. Let $y = (y_1, ...,y_m)^T \\in R^{m\\times1}$ be the “response”. Write the objective function $J(\\theta)$ as a matrix/vector expression, without using an explicit summation sign."
   ]
  },
  {
   "cell_type": "markdown",
   "metadata": {},
   "source": [
    "$$J(\\theta) = \\frac{1}{m} (X\\theta - y)^T(X\\theta-y)$$"
   ]
  },
  {
   "cell_type": "markdown",
   "metadata": {},
   "source": [
    "2. Write down an expression for the gradient of J"
   ]
  },
  {
   "cell_type": "markdown",
   "metadata": {},
   "source": [
    "Using the chain rule: if $ h(x) = f(g(x)) $, then $ h'(x) = f'(g(x))\\cdot g'(x) $  "
   ]
  },
  {
   "cell_type": "markdown",
   "metadata": {},
   "source": [
    "$$ \\nabla J(\\theta) = \\frac{2}{m}(X\\theta - y)X $$"
   ]
  },
  {
   "cell_type": "markdown",
   "metadata": {},
   "source": [
    "3. In our search for a $\\theta $ that minimizes J, suppose we take a step from $\\theta$ to $\\theta + \\eta h$, where $h \\in R^{d+1}$ is the “step direction” (recall, this is not necessarily a unit vector) and $\\eta \\in (0, \\infty)$ is the “step size” (note that this is not the actual length of the step, which is $\\eta \\| h\\|$). Use the gradient to write down an approximate expression for the change in objective function value $J(\\theta + \\eta h) - J(\\theta)$ This approximation is called a “linear” or “first-order” approximation."
   ]
  },
  {
   "cell_type": "markdown",
   "metadata": {},
   "source": [
    "We have: $$ \\nabla J(\\theta, h) = \\lim\\limits_{\\eta \\to 0} \\frac {J(\\theta + \\eta h)- J(\\theta)}{\\eta}$$\n",
    "  \n",
    "Therefore:\n",
    "$J(\\theta + \\eta h) - J(\\theta) \\approx \\eta \\nabla J(\\theta,h) $"
   ]
  },
  {
   "cell_type": "markdown",
   "metadata": {},
   "source": [
    "4. Write down the expression for updating $\\theta$ in the gradient descent algorithm. Let $\\eta$ be the step size."
   ]
  },
  {
   "cell_type": "markdown",
   "metadata": {},
   "source": [
    "$\\theta = \\theta - \\eta \\nabla J(\\theta) $\n",
    "  \n",
    "We 'take a step' (change $\\theta$) in the direction of fastest decrease of the objective function $J(\\theta)$"
   ]
  },
  {
   "cell_type": "markdown",
   "metadata": {},
   "source": [
    "### The square loss function"
   ]
  },
  {
   "cell_type": "code",
   "execution_count": 3,
   "metadata": {},
   "outputs": [],
   "source": [
    "def compute_square_loss(X, y, theta):\n",
    "    \"\"\"\n",
    "    Given a set of X, y, theta, compute the square loss for predicting y with X*theta\n",
    "\n",
    "    Args:\n",
    "        X - the feature vector, 2D numpy array of size (num_instances, num_features)\n",
    "        y - the label vector, 1D numpy array of size (num_instances)\n",
    "        theta - the parameter vector, 1D array of size (num_features)\n",
    "\n",
    "    Returns:\n",
    "        loss - the square loss, scalar\n",
    "    \"\"\"\n",
    "    loss = 0 #initialize the square_loss\n",
    "    \n",
    "    m = len(y)\n",
    "    loss = (1/(m))*np.transpose((X@theta - y))@(X@theta - y)\n",
    "    \n",
    "    return loss"
   ]
  },
  {
   "cell_type": "markdown",
   "metadata": {},
   "source": [
    "### Square loss gradient"
   ]
  },
  {
   "cell_type": "code",
   "execution_count": 4,
   "metadata": {},
   "outputs": [],
   "source": [
    "### compute the gradient of square loss function\n",
    "def compute_square_loss_gradient(X, y, theta):\n",
    "    \"\"\"\n",
    "    Compute gradient of the square loss (as defined in compute_square_loss), at the point theta.\n",
    "\n",
    "    Args:\n",
    "        X - the feature vector, 2D numpy array of size (num_instances, num_features)\n",
    "        y - the label vector, 1D numpy array of size (num_instances)\n",
    "        theta - the parameter vector, 1D numpy array of size (num_features)\n",
    "\n",
    "    Returns:\n",
    "        grad - gradient vector, 1D numpy array of size (num_features)\n",
    "    \"\"\"\n",
    "    m = len(y)\n",
    "    grad = (2/m)*np.transpose(X)@(X@theta - y)\n",
    "    \n",
    "    \n",
    "    return grad\n"
   ]
  },
  {
   "cell_type": "markdown",
   "metadata": {},
   "source": [
    "## Gradient checker"
   ]
  },
  {
   "cell_type": "markdown",
   "metadata": {},
   "source": [
    "Getting the gradient calculation correct is often the trickiest part of any gradient-based optimization algorithm.  Fortunately, it's very easy to check that the gradient calculation is correct using the definition of gradient.\n",
    "See http://ufldl.stanford.edu/wiki/index.php/Gradient_checking_and_advanced_optimization"
   ]
  },
  {
   "cell_type": "markdown",
   "metadata": {},
   "source": [
    "If $J: R^d \\to R$ is differentiable, then for any vector $h \\in R^d$, the directional derivative of $J$ at $\\theta$ in the direction $h$ is given by: \n",
    "$$ \\lim\\limits_{\\varepsilon \\to 0} \\frac {J(\\theta + \\varepsilon h)- J(\\theta - \\varepsilon h)}{2\\varepsilon}.$$\n",
    "\n",
    "We can approximate this directional derivative by choosing a small value of $\\varepsilon > 0$ and evaluating the quotient above. We can get an approximation to the gradient by approximating the directional derivatives in each coordinate direction and putting them together into a vector. In other words, take $h = (1, 0, 0,... ,0)$ to get the first component of the gradient. Then take $h = (0, 1, 0,... ,0)$ to get the second component. And so on."
   ]
  },
  {
   "cell_type": "markdown",
   "metadata": {},
   "source": [
    "1. Complete the function grad_checker according to the documentation given. Alternatively, you may complete the function generic_grad_checker so that it works for any objective function. It should take as parameters a function that computes the objective function and a function that computes the gradient of the objective function. Note: Running the gradient checker takes extra time. In practice, once you’re convinced your gradient calculator is correct, you should stop calling the checker so things run faster."
   ]
  },
  {
   "cell_type": "code",
   "execution_count": 5,
   "metadata": {},
   "outputs": [],
   "source": [
    "def grad_checker(X, y, theta, epsilon=0.01, tolerance=1e-4):\n",
    "    \"\"\"Implement Gradient Checker\n",
    "    Check that the function compute_square_loss_gradient returns the\n",
    "    correct gradient for the given X, y, and theta.\n",
    "\n",
    "    Let d be the number of features. Here we numerically estimate the\n",
    "    gradient by approximating the directional derivative in each of\n",
    "    the d coordinate directions:\n",
    "    (e_1 = (1,0,0,...,0), e_2 = (0,1,0,...,0), ..., e_d = (0,...,0,1)\n",
    "\n",
    "    The approximation for the directional derivative of J at the point\n",
    "    theta in the direction e_i is given by:\n",
    "    ( J(theta + epsilon * e_i) - J(theta - epsilon * e_i) ) / (2*epsilon).\n",
    "\n",
    "    We then look at the Euclidean distance between the gradient\n",
    "    computed using this approximation and the gradient computed by\n",
    "    compute_square_loss_gradient(X, y, theta).  If the Euclidean\n",
    "    distance exceeds tolerance, we say the gradient is incorrect.\n",
    "\n",
    "    Args:\n",
    "        X - the feature vector, 2D numpy array of size (num_instances, num_features)\n",
    "        y - the label vector, 1D numpy array of size (num_instances)\n",
    "        theta - the parameter vector, 1D numpy array of size (num_features)\n",
    "        epsilon - the epsilon used in approximation\n",
    "        tolerance - the tolerance error\n",
    "\n",
    "    Return:\n",
    "        A boolean value indicate whether the gradient is correct or not\n",
    "\n",
    "    \"\"\"\n",
    "    true_gradient = compute_square_loss_gradient(X, y, theta) #the true gradient\n",
    "    num_features = theta.shape[0]\n",
    "    approx_grad = np.zeros(num_features) #Initialize the gradient we approximate\n",
    "    \n",
    "    for i in range(num_features):\n",
    "        approx_grad[i] = (compute_square_loss(X, y, theta[i] + epsilon) - compute_square_loss(X, y, theta[i] - epsilon)) / (2*epsilon)\n",
    "    \n",
    "    \n",
    "    dist = np.linalg.norm(true_gradient-approx_grad)\n",
    "    \n",
    "    if dist > tolerance:\n",
    "        return False\n",
    "    else:\n",
    "        return True"
   ]
  },
  {
   "cell_type": "markdown",
   "metadata": {},
   "source": [
    "## Generic Gradient Checker"
   ]
  },
  {
   "cell_type": "code",
   "execution_count": 6,
   "metadata": {},
   "outputs": [],
   "source": [
    "def generic_gradient_checker(X, y, theta, objective_func, gradient_func, epsilon=0.01, tolerance=1e-4):\n",
    "    \"\"\"\n",
    "    The functions takes objective_func and gradient_func as parameters. And check whether gradient_func(X, y, theta) \n",
    "    returned the true gradient for objective_func(X, y, theta).\n",
    "    Eg: In LSR, the objective_func = compute_square_loss, and gradient_func = compute_square_loss_gradient\n",
    "    \"\"\"\n",
    "    true_gradient = gradient_func(X, y, theta) #the true gradient\n",
    "    num_features = theta.shape[0]\n",
    "    approx_grad = np.zeros(num_features) #Initialize the gradient we approximate\n",
    "    \n",
    "    for i in range(num_features):\n",
    "        approx_grad[i] = (objective_func(X, y, theta[i] + epsilon) - objective_func(X, y, theta[i] - epsilon)) / (2*epsilon)\n",
    "    \n",
    "    \n",
    "    dist = np.linalg.norm(true_gradient-approx_grad)\n",
    "    \n",
    "    if dist > tolerance:\n",
    "        return False\n",
    "    else:\n",
    "        return True\n"
   ]
  },
  {
   "cell_type": "markdown",
   "metadata": {},
   "source": [
    "## Batch Gradient Descent"
   ]
  },
  {
   "cell_type": "code",
   "execution_count": 7,
   "metadata": {},
   "outputs": [],
   "source": [
    "def batch_grad_descent(X, y, alpha=0.1, num_iter=1000, check_gradient=False):\n",
    "    \"\"\"\n",
    "    In this question you will implement batch gradient descent to\n",
    "    minimize the square loss objective\n",
    "\n",
    "    Args:\n",
    "        X - the feature vector, 2D numpy array of size (num_instances, num_features)\n",
    "        y - the label vector, 1D numpy array of size (num_instances)\n",
    "        alpha - step size in gradient descent\n",
    "        num_iter - number of iterations to run\n",
    "        check_gradient - a boolean value indicating whether checking the gradient when updating\n",
    "\n",
    "    Returns:\n",
    "        theta_hist - store the the history of parameter vector in iteration, 2D numpy array of size (num_iter+1, num_features)\n",
    "                    for instance, theta in iteration 0 should be theta_hist[0], theta in ieration (num_iter) is theta_hist[-1]\n",
    "        loss_hist - the history of objective function vector, 1D numpy array of size (num_iter+1)\n",
    "    \"\"\"\n",
    "    num_instances, num_features = X.shape[0], X.shape[1]\n",
    "    theta_hist = np.zeros((num_iter+1, num_features))  #Initialize theta_hist\n",
    "    loss_hist = np.zeros(num_iter+1) #initialize loss_hist\n",
    "    theta = np.zeros(num_features) #initialize theta\n",
    "    \n",
    "    loss_hist[0] = compute_square_loss(X, y, theta)\n",
    "    theta_hist[0, :] = theta[:]\n",
    "    \n",
    "    for i in range(1, num_iter+1):\n",
    "        theta = theta - (alpha)*compute_square_loss_gradient(X, y, theta)\n",
    "        \n",
    "        theta_hist[i, :] = theta[:]\n",
    "        loss_hist[i] = compute_square_loss(X, y, theta)\n",
    "    \n",
    "    return theta_hist, loss_hist"
   ]
  },
  {
   "cell_type": "code",
   "execution_count": 8,
   "metadata": {},
   "outputs": [
    {
     "data": {
      "text/html": [
       "<div>\n",
       "<style scoped>\n",
       "    .dataframe tbody tr th:only-of-type {\n",
       "        vertical-align: middle;\n",
       "    }\n",
       "\n",
       "    .dataframe tbody tr th {\n",
       "        vertical-align: top;\n",
       "    }\n",
       "\n",
       "    .dataframe thead th {\n",
       "        text-align: right;\n",
       "    }\n",
       "</style>\n",
       "<table border=\"1\" class=\"dataframe\">\n",
       "  <thead>\n",
       "    <tr style=\"text-align: right;\">\n",
       "      <th></th>\n",
       "      <th>x0</th>\n",
       "      <th>x1</th>\n",
       "      <th>x2</th>\n",
       "      <th>x3</th>\n",
       "      <th>x4</th>\n",
       "      <th>x5</th>\n",
       "      <th>x6</th>\n",
       "      <th>x7</th>\n",
       "      <th>x8</th>\n",
       "      <th>x9</th>\n",
       "      <th>...</th>\n",
       "      <th>x39</th>\n",
       "      <th>x40</th>\n",
       "      <th>x41</th>\n",
       "      <th>x42</th>\n",
       "      <th>x43</th>\n",
       "      <th>x44</th>\n",
       "      <th>x45</th>\n",
       "      <th>x46</th>\n",
       "      <th>x47</th>\n",
       "      <th>y</th>\n",
       "    </tr>\n",
       "  </thead>\n",
       "  <tbody>\n",
       "    <tr>\n",
       "      <th>0</th>\n",
       "      <td>0.0</td>\n",
       "      <td>0.0</td>\n",
       "      <td>0.0</td>\n",
       "      <td>0.0</td>\n",
       "      <td>0.0</td>\n",
       "      <td>0.0</td>\n",
       "      <td>0.0</td>\n",
       "      <td>0.0</td>\n",
       "      <td>0.0</td>\n",
       "      <td>0.0</td>\n",
       "      <td>...</td>\n",
       "      <td>-0.951051</td>\n",
       "      <td>-0.951051</td>\n",
       "      <td>-4.755257</td>\n",
       "      <td>-0.866019</td>\n",
       "      <td>-0.866019</td>\n",
       "      <td>-4.330093</td>\n",
       "      <td>-0.781824</td>\n",
       "      <td>-0.781824</td>\n",
       "      <td>-3.909121</td>\n",
       "      <td>-1.376575</td>\n",
       "    </tr>\n",
       "    <tr>\n",
       "      <th>1</th>\n",
       "      <td>0.0</td>\n",
       "      <td>0.0</td>\n",
       "      <td>0.0</td>\n",
       "      <td>0.0</td>\n",
       "      <td>0.0</td>\n",
       "      <td>0.0</td>\n",
       "      <td>0.0</td>\n",
       "      <td>0.0</td>\n",
       "      <td>0.0</td>\n",
       "      <td>0.0</td>\n",
       "      <td>...</td>\n",
       "      <td>-0.948871</td>\n",
       "      <td>-0.948871</td>\n",
       "      <td>-4.744353</td>\n",
       "      <td>-0.863095</td>\n",
       "      <td>-0.863095</td>\n",
       "      <td>-4.315474</td>\n",
       "      <td>-0.778705</td>\n",
       "      <td>-0.778705</td>\n",
       "      <td>-3.893525</td>\n",
       "      <td>0.878782</td>\n",
       "    </tr>\n",
       "    <tr>\n",
       "      <th>2</th>\n",
       "      <td>0.0</td>\n",
       "      <td>0.0</td>\n",
       "      <td>0.0</td>\n",
       "      <td>0.0</td>\n",
       "      <td>0.0</td>\n",
       "      <td>0.0</td>\n",
       "      <td>0.0</td>\n",
       "      <td>0.0</td>\n",
       "      <td>0.0</td>\n",
       "      <td>0.0</td>\n",
       "      <td>...</td>\n",
       "      <td>-0.948056</td>\n",
       "      <td>-0.948056</td>\n",
       "      <td>-4.740279</td>\n",
       "      <td>-0.862011</td>\n",
       "      <td>-0.862011</td>\n",
       "      <td>-4.310053</td>\n",
       "      <td>-0.777551</td>\n",
       "      <td>-0.777551</td>\n",
       "      <td>-3.887757</td>\n",
       "      <td>1.108701</td>\n",
       "    </tr>\n",
       "    <tr>\n",
       "      <th>3</th>\n",
       "      <td>0.0</td>\n",
       "      <td>0.0</td>\n",
       "      <td>0.0</td>\n",
       "      <td>0.0</td>\n",
       "      <td>0.0</td>\n",
       "      <td>0.0</td>\n",
       "      <td>0.0</td>\n",
       "      <td>0.0</td>\n",
       "      <td>0.0</td>\n",
       "      <td>0.0</td>\n",
       "      <td>...</td>\n",
       "      <td>-0.941999</td>\n",
       "      <td>-0.941999</td>\n",
       "      <td>-4.709996</td>\n",
       "      <td>-0.854081</td>\n",
       "      <td>-0.854081</td>\n",
       "      <td>-4.270406</td>\n",
       "      <td>-0.769161</td>\n",
       "      <td>-0.769161</td>\n",
       "      <td>-3.845805</td>\n",
       "      <td>0.519229</td>\n",
       "    </tr>\n",
       "    <tr>\n",
       "      <th>4</th>\n",
       "      <td>0.0</td>\n",
       "      <td>0.0</td>\n",
       "      <td>0.0</td>\n",
       "      <td>0.0</td>\n",
       "      <td>0.0</td>\n",
       "      <td>0.0</td>\n",
       "      <td>0.0</td>\n",
       "      <td>0.0</td>\n",
       "      <td>0.0</td>\n",
       "      <td>0.0</td>\n",
       "      <td>...</td>\n",
       "      <td>-0.939440</td>\n",
       "      <td>-0.939440</td>\n",
       "      <td>-4.697202</td>\n",
       "      <td>-0.850794</td>\n",
       "      <td>-0.850794</td>\n",
       "      <td>-4.253972</td>\n",
       "      <td>-0.765706</td>\n",
       "      <td>-0.765706</td>\n",
       "      <td>-3.828531</td>\n",
       "      <td>0.772872</td>\n",
       "    </tr>\n",
       "    <tr>\n",
       "      <th>...</th>\n",
       "      <td>...</td>\n",
       "      <td>...</td>\n",
       "      <td>...</td>\n",
       "      <td>...</td>\n",
       "      <td>...</td>\n",
       "      <td>...</td>\n",
       "      <td>...</td>\n",
       "      <td>...</td>\n",
       "      <td>...</td>\n",
       "      <td>...</td>\n",
       "      <td>...</td>\n",
       "      <td>...</td>\n",
       "      <td>...</td>\n",
       "      <td>...</td>\n",
       "      <td>...</td>\n",
       "      <td>...</td>\n",
       "      <td>...</td>\n",
       "      <td>...</td>\n",
       "      <td>...</td>\n",
       "      <td>...</td>\n",
       "      <td>...</td>\n",
       "    </tr>\n",
       "    <tr>\n",
       "      <th>195</th>\n",
       "      <td>1.0</td>\n",
       "      <td>1.0</td>\n",
       "      <td>1.0</td>\n",
       "      <td>1.0</td>\n",
       "      <td>1.0</td>\n",
       "      <td>1.0</td>\n",
       "      <td>1.0</td>\n",
       "      <td>1.0</td>\n",
       "      <td>1.0</td>\n",
       "      <td>1.0</td>\n",
       "      <td>...</td>\n",
       "      <td>-0.036417</td>\n",
       "      <td>-0.036417</td>\n",
       "      <td>-0.182083</td>\n",
       "      <td>-0.030349</td>\n",
       "      <td>-0.030349</td>\n",
       "      <td>-0.151746</td>\n",
       "      <td>-0.026015</td>\n",
       "      <td>-0.026015</td>\n",
       "      <td>-0.130073</td>\n",
       "      <td>2.503566</td>\n",
       "    </tr>\n",
       "    <tr>\n",
       "      <th>196</th>\n",
       "      <td>1.0</td>\n",
       "      <td>1.0</td>\n",
       "      <td>1.0</td>\n",
       "      <td>1.0</td>\n",
       "      <td>1.0</td>\n",
       "      <td>1.0</td>\n",
       "      <td>1.0</td>\n",
       "      <td>1.0</td>\n",
       "      <td>1.0</td>\n",
       "      <td>1.0</td>\n",
       "      <td>...</td>\n",
       "      <td>-0.036086</td>\n",
       "      <td>-0.036086</td>\n",
       "      <td>-0.180430</td>\n",
       "      <td>-0.030074</td>\n",
       "      <td>-0.030074</td>\n",
       "      <td>-0.150368</td>\n",
       "      <td>-0.025778</td>\n",
       "      <td>-0.025778</td>\n",
       "      <td>-0.128892</td>\n",
       "      <td>2.414250</td>\n",
       "    </tr>\n",
       "    <tr>\n",
       "      <th>197</th>\n",
       "      <td>1.0</td>\n",
       "      <td>1.0</td>\n",
       "      <td>1.0</td>\n",
       "      <td>1.0</td>\n",
       "      <td>1.0</td>\n",
       "      <td>1.0</td>\n",
       "      <td>1.0</td>\n",
       "      <td>1.0</td>\n",
       "      <td>1.0</td>\n",
       "      <td>1.0</td>\n",
       "      <td>...</td>\n",
       "      <td>-0.007125</td>\n",
       "      <td>-0.007125</td>\n",
       "      <td>-0.035624</td>\n",
       "      <td>-0.005937</td>\n",
       "      <td>-0.005937</td>\n",
       "      <td>-0.029687</td>\n",
       "      <td>-0.005089</td>\n",
       "      <td>-0.005089</td>\n",
       "      <td>-0.025446</td>\n",
       "      <td>3.379356</td>\n",
       "    </tr>\n",
       "    <tr>\n",
       "      <th>198</th>\n",
       "      <td>1.0</td>\n",
       "      <td>1.0</td>\n",
       "      <td>1.0</td>\n",
       "      <td>1.0</td>\n",
       "      <td>1.0</td>\n",
       "      <td>1.0</td>\n",
       "      <td>1.0</td>\n",
       "      <td>1.0</td>\n",
       "      <td>1.0</td>\n",
       "      <td>1.0</td>\n",
       "      <td>...</td>\n",
       "      <td>-0.004506</td>\n",
       "      <td>-0.004506</td>\n",
       "      <td>-0.022530</td>\n",
       "      <td>-0.003755</td>\n",
       "      <td>-0.003755</td>\n",
       "      <td>-0.018775</td>\n",
       "      <td>-0.003219</td>\n",
       "      <td>-0.003219</td>\n",
       "      <td>-0.016093</td>\n",
       "      <td>2.468850</td>\n",
       "    </tr>\n",
       "    <tr>\n",
       "      <th>199</th>\n",
       "      <td>1.0</td>\n",
       "      <td>1.0</td>\n",
       "      <td>1.0</td>\n",
       "      <td>1.0</td>\n",
       "      <td>1.0</td>\n",
       "      <td>1.0</td>\n",
       "      <td>1.0</td>\n",
       "      <td>1.0</td>\n",
       "      <td>1.0</td>\n",
       "      <td>1.0</td>\n",
       "      <td>...</td>\n",
       "      <td>-0.002561</td>\n",
       "      <td>-0.002561</td>\n",
       "      <td>-0.012804</td>\n",
       "      <td>-0.002134</td>\n",
       "      <td>-0.002134</td>\n",
       "      <td>-0.010670</td>\n",
       "      <td>-0.001829</td>\n",
       "      <td>-0.001829</td>\n",
       "      <td>-0.009146</td>\n",
       "      <td>3.961209</td>\n",
       "    </tr>\n",
       "  </tbody>\n",
       "</table>\n",
       "<p>200 rows × 49 columns</p>\n",
       "</div>"
      ],
      "text/plain": [
       "      x0   x1   x2   x3   x4   x5   x6   x7   x8   x9  ...       x39  \\\n",
       "0    0.0  0.0  0.0  0.0  0.0  0.0  0.0  0.0  0.0  0.0  ... -0.951051   \n",
       "1    0.0  0.0  0.0  0.0  0.0  0.0  0.0  0.0  0.0  0.0  ... -0.948871   \n",
       "2    0.0  0.0  0.0  0.0  0.0  0.0  0.0  0.0  0.0  0.0  ... -0.948056   \n",
       "3    0.0  0.0  0.0  0.0  0.0  0.0  0.0  0.0  0.0  0.0  ... -0.941999   \n",
       "4    0.0  0.0  0.0  0.0  0.0  0.0  0.0  0.0  0.0  0.0  ... -0.939440   \n",
       "..   ...  ...  ...  ...  ...  ...  ...  ...  ...  ...  ...       ...   \n",
       "195  1.0  1.0  1.0  1.0  1.0  1.0  1.0  1.0  1.0  1.0  ... -0.036417   \n",
       "196  1.0  1.0  1.0  1.0  1.0  1.0  1.0  1.0  1.0  1.0  ... -0.036086   \n",
       "197  1.0  1.0  1.0  1.0  1.0  1.0  1.0  1.0  1.0  1.0  ... -0.007125   \n",
       "198  1.0  1.0  1.0  1.0  1.0  1.0  1.0  1.0  1.0  1.0  ... -0.004506   \n",
       "199  1.0  1.0  1.0  1.0  1.0  1.0  1.0  1.0  1.0  1.0  ... -0.002561   \n",
       "\n",
       "          x40       x41       x42       x43       x44       x45       x46  \\\n",
       "0   -0.951051 -4.755257 -0.866019 -0.866019 -4.330093 -0.781824 -0.781824   \n",
       "1   -0.948871 -4.744353 -0.863095 -0.863095 -4.315474 -0.778705 -0.778705   \n",
       "2   -0.948056 -4.740279 -0.862011 -0.862011 -4.310053 -0.777551 -0.777551   \n",
       "3   -0.941999 -4.709996 -0.854081 -0.854081 -4.270406 -0.769161 -0.769161   \n",
       "4   -0.939440 -4.697202 -0.850794 -0.850794 -4.253972 -0.765706 -0.765706   \n",
       "..        ...       ...       ...       ...       ...       ...       ...   \n",
       "195 -0.036417 -0.182083 -0.030349 -0.030349 -0.151746 -0.026015 -0.026015   \n",
       "196 -0.036086 -0.180430 -0.030074 -0.030074 -0.150368 -0.025778 -0.025778   \n",
       "197 -0.007125 -0.035624 -0.005937 -0.005937 -0.029687 -0.005089 -0.005089   \n",
       "198 -0.004506 -0.022530 -0.003755 -0.003755 -0.018775 -0.003219 -0.003219   \n",
       "199 -0.002561 -0.012804 -0.002134 -0.002134 -0.010670 -0.001829 -0.001829   \n",
       "\n",
       "          x47         y  \n",
       "0   -3.909121 -1.376575  \n",
       "1   -3.893525  0.878782  \n",
       "2   -3.887757  1.108701  \n",
       "3   -3.845805  0.519229  \n",
       "4   -3.828531  0.772872  \n",
       "..        ...       ...  \n",
       "195 -0.130073  2.503566  \n",
       "196 -0.128892  2.414250  \n",
       "197 -0.025446  3.379356  \n",
       "198 -0.016093  2.468850  \n",
       "199 -0.009146  3.961209  \n",
       "\n",
       "[200 rows x 49 columns]"
      ]
     },
     "execution_count": 8,
     "metadata": {},
     "output_type": "execute_result"
    }
   ],
   "source": [
    "data = pd.read_csv('data.csv')\n",
    "data"
   ]
  },
  {
   "cell_type": "code",
   "execution_count": 9,
   "metadata": {},
   "outputs": [
    {
     "name": "stdout",
     "output_type": "stream",
     "text": [
      "loading the dataset\n",
      "Split into Train and Test\n",
      "Scaling all to [0, 1]\n"
     ]
    }
   ],
   "source": [
    "################################################\n",
    "### Visualization that compares the convergence speed of batch\n",
    "###and stochastic gradient descent for various approaches to step_size\n",
    "##X-axis: Step number (for gradient descent) or Epoch (for SGD)\n",
    "##Y-axis: log(objective_function_value) and/or objective_function_value\n",
    "\n",
    "\n",
    "#Loading the dataset\n",
    "print('loading the dataset')\n",
    "\n",
    "df = pd.read_csv('data.csv', delimiter=',')\n",
    "X = df.values[:,:-1]\n",
    "y = df.values[:,-1]\n",
    "\n",
    "print('Split into Train and Test')\n",
    "X_train, X_test, y_train, y_test = train_test_split(X, y, test_size =100, random_state=10)\n",
    "\n",
    "print(\"Scaling all to [0, 1]\")\n",
    "X_train, X_test = feature_normalization(X_train, X_test)\n",
    "X_train = np.hstack((X_train, np.ones((X_train.shape[0], 1))))  # Add bias term\n",
    "X_test = np.hstack((X_test, np.ones((X_test.shape[0], 1)))) # Add bias term"
   ]
  },
  {
   "cell_type": "code",
   "execution_count": 10,
   "metadata": {},
   "outputs": [
    {
     "data": {
      "image/png": "[encoded data removed]",
      "text/plain": [
       "<Figure size 432x288 with 1 Axes>"
      ]
     },
     "metadata": {
      "needs_background": "light"
     },
     "output_type": "display_data"
    },
    {
     "data": {
      "image/png": "[encoded data removed]",
      "text/plain": [
       "<Figure size 432x288 with 1 Axes>"
      ]
     },
     "metadata": {
      "needs_background": "light"
     },
     "output_type": "display_data"
    },
    {
     "data": {
      "image/png": "[encoded data removed]",
      "text/plain": [
       "<Figure size 432x288 with 1 Axes>"
      ]
     },
     "metadata": {
      "needs_background": "light"
     },
     "output_type": "display_data"
    },
    {
     "name": "stderr",
     "output_type": "stream",
     "text": [
      "/anaconda3/lib/python3.7/site-packages/ipykernel_launcher.py:16: RuntimeWarning: overflow encountered in matmul\n",
      "  app.launch_new_instance()\n",
      "/anaconda3/lib/python3.7/site-packages/ipykernel_launcher.py:15: RuntimeWarning: overflow encountered in matmul\n",
      "  from ipykernel import kernelapp as app\n",
      "/anaconda3/lib/python3.7/site-packages/ipykernel_launcher.py:15: RuntimeWarning: invalid value encountered in matmul\n",
      "  from ipykernel import kernelapp as app\n",
      "/anaconda3/lib/python3.7/site-packages/ipykernel_launcher.py:16: RuntimeWarning: invalid value encountered in matmul\n",
      "  app.launch_new_instance()\n"
     ]
    },
    {
     "data": {
      "image/png": "[encoded data removed]",
      "text/plain": [
       "<Figure size 432x288 with 1 Axes>"
      ]
     },
     "metadata": {
      "needs_background": "light"
     },
     "output_type": "display_data"
    }
   ],
   "source": [
    "for alpha in [5.0e-2, 1.5e-2, 1.0e-2, 1.0e-1]:\n",
    "        theta_hist, loss_hist = batch_grad_descent(X_train, y_train, alpha=alpha, num_iter=1000)\n",
    "        \n",
    "        plt.xlabel('iterations')\n",
    "        plt.ylabel('average square loss')\n",
    "        plt.title('Gradient Descent with alpha=%s' % str(alpha))\n",
    "        plt.plot([i for i in range(1001)], loss_hist)\n",
    "        plt.show()"
   ]
  },
  {
   "cell_type": "markdown",
   "metadata": {},
   "source": [
    "## Ridge regression (i.e. Linear Regression with $l_2$ regularization)"
   ]
  },
  {
   "cell_type": "markdown",
   "metadata": {},
   "source": [
    "When we have a large number of features compared to instances, regularization can help control overfitting.  \n",
    "Ridge regression is linear regression with $l_2$ regularization. The regularization term is sometimes called a penalty term.  \n",
    "The objective function (loss function) for ridge regression is: $$ J(\\theta) = \\frac{1}{m} \\sum_{i=1}^n (h_\\theta(x_i)−y_i)^2 + \\lambda\\theta^T\\theta,$$ where $\\lambda$ is the regularization parameter, which controls the degree of regularization.  "
   ]
  },
  {
   "cell_type": "markdown",
   "metadata": {},
   "source": [
    "Gradient of J(θ):\n",
    "\n",
    "$$ J(\\theta) = \\frac{1}{m}(\\theta X − y)^T(\\theta X − y) + \\lambda\\theta^T\\theta$$\n",
    "$$ \\nabla J(\\theta) = \\frac{2}{m}X^T(\\theta X − y) + 2\\lambda\\theta$$"
   ]
  },
  {
   "cell_type": "code",
   "execution_count": 11,
   "metadata": {},
   "outputs": [],
   "source": [
    "####################################\n",
    "###Q2.4b: Implement backtracking line search in batch_gradient_descent\n",
    "###Check http://en.wikipedia.org/wiki/Backtracking_line_search for details\n",
    "#TODO"
   ]
  },
  {
   "cell_type": "code",
   "execution_count": 12,
   "metadata": {},
   "outputs": [],
   "source": [
    "###################################################\n",
    "### Compute the gradient of Regularized Batch Gradient Descent\n",
    "def compute_regularized_square_loss_gradient(X, y, theta, lambda_reg):\n",
    "    \"\"\"\n",
    "    Compute the gradient of L2-regularized square loss function given X, y and theta\n",
    "\n",
    "    Args:\n",
    "        X - the feature vector, 2D numpy array of size (num_instances, num_features)\n",
    "        y - the label vector, 1D numpy array of size (num_instances)\n",
    "        theta - the parameter vector, 1D numpy array of size (num_features)\n",
    "        lambda_reg - the regularization coefficient\n",
    "\n",
    "    Returns:\n",
    "        grad - gradient vector, 1D numpy array of size (num_features)\n",
    "    \"\"\"\n",
    "    #TODO\n",
    "    loss = 0 #initialize the square_loss\n",
    "    \n",
    "    m = len(y)\n",
    "    grad = (2/m)*np.transpose(X)@(X@theta - y) + 2*lambda_reg*theta\n",
    "    \n",
    "    return grad\n",
    "\n",
    "    "
   ]
  },
  {
   "cell_type": "code",
   "execution_count": 13,
   "metadata": {},
   "outputs": [],
   "source": [
    "###################################################\n",
    "### Batch Gradient Descent with regularization term\n",
    "def regularized_grad_descent(X, y, alpha=0.1, lambda_reg=1, num_iter=1000):\n",
    "    \"\"\"\n",
    "    Args:\n",
    "        X - the feature vector, 2D numpy array of size (num_instances, num_features)\n",
    "        y - the label vector, 1D numpy array of size (num_instances)\n",
    "        alpha - step size in gradient descent\n",
    "        lambda_reg - the regularization coefficient\n",
    "        numIter - number of iterations to run\n",
    "\n",
    "    Returns:\n",
    "        theta_hist - the history of parameter vector, 2D numpy array of size (num_iter+1, num_features)\n",
    "        loss_hist - the history of loss function without the regularization term, 1D numpy array.\n",
    "    \"\"\"\n",
    "    (num_instances, num_features) = X.shape\n",
    "    theta = np.zeros(num_features) #Initialize theta\n",
    "    theta_hist = np.zeros((num_iter+1, num_features))  #Initialize theta_hist\n",
    "    loss_hist = np.zeros(num_iter+1) #Initialize loss_hist\n",
    "    #TODO\n",
    "    \n",
    "    loss_hist[0] = compute_square_loss(X, y, theta)\n",
    "    theta_hist[0, :] = theta[:]\n",
    "    \n",
    "    for i in range(1, num_iter+1):\n",
    "        theta = theta - (alpha)*compute_regularized_square_loss_gradient(X, y, theta, lambda_reg)\n",
    "        \n",
    "        theta_hist[i, :] = theta[:]\n",
    "        loss_hist[i] = compute_square_loss(X, y, theta) + lambda_reg*np.transpose(theta)@theta\n",
    "    \n",
    "    return theta_hist, loss_hist"
   ]
  },
  {
   "cell_type": "code",
   "execution_count": 14,
   "metadata": {},
   "outputs": [
    {
     "data": {
      "image/png": "[encoded data removed]",
      "text/plain": [
       "<Figure size 432x288 with 1 Axes>"
      ]
     },
     "metadata": {
      "needs_background": "light"
     },
     "output_type": "display_data"
    }
   ],
   "source": [
    "avg_loss_train=[]\n",
    "avg_loss_test=[]\n",
    "for lambda_reg in [1.0e-7, 1e-5, 1.0e-3, 1.0e-1, 1, 10, 100]:\n",
    "        theta_hist_train, loss_hist_train = regularized_grad_descent(X_train, y_train, alpha=0.01, lambda_reg=lambda_reg, num_iter=1000)\n",
    "        theta_hist_test, loss_hist_test = regularized_grad_descent(X_test, y_test, alpha=0.01, lambda_reg=lambda_reg, num_iter=1000)\n",
    "        avg_loss_train.append(np.mean(loss_hist_train))\n",
    "        avg_loss_test.append(np.mean(loss_hist_test))\n",
    "        \n",
    "\n",
    "lambda_reg = [1.0e-7, 1e-5, 1.0e-3, 1.0e-1, 1, 10, 100]\n",
    "        \n",
    "plt.xlabel('lambda_reg')\n",
    "plt.ylabel('average square loss')\n",
    "plt.title('Gradient Descent with regularization param lambda')\n",
    "plt.semilogx(lambda_reg, avg_loss_train, c = 'blue')\n",
    "plt.semilogx(lambda_reg, avg_loss_test, c = 'coral')\n",
    "plt.ylim(0,10)\n",
    "plt.show()"
   ]
  },
  {
   "cell_type": "code",
   "execution_count": 20,
   "metadata": {},
   "outputs": [
    {
     "data": {
      "image/png": "[encoded data removed]",
      "text/plain": [
       "<Figure size 432x288 with 1 Axes>"
      ]
     },
     "metadata": {
      "needs_background": "light"
     },
     "output_type": "display_data"
    }
   ],
   "source": [
    "avg_loss_train=[]\n",
    "avg_loss_test=[]\n",
    "for lambda_reg in [1.0e-7, 1e-6, 1.0e-5, 1.0e-4, 1.0e-3, 1.0e-2]:\n",
    "        theta_hist_train, loss_hist_train = regularized_grad_descent(X_train, y_train, alpha=0.01, lambda_reg=lambda_reg, num_iter=1000)\n",
    "        theta_hist_test, loss_hist_test = regularized_grad_descent(X_test, y_test, alpha=0.01, lambda_reg=lambda_reg, num_iter=1000)\n",
    "        avg_loss_train.append(np.mean(loss_hist_train))\n",
    "        avg_loss_test.append(np.mean(loss_hist_test))        \n",
    "\n",
    "lambda_reg = [1.0e-7, 1e-6, 1.0e-5, 1.0e-4, 1.0e-3, 1.0e-2]\n",
    "        \n",
    "plt.xlabel('lambda_reg')\n",
    "plt.ylabel('average square loss')\n",
    "plt.title('Gradient Descent with regularization param lambda')\n",
    "plt.semilogx(lambda_reg, avg_loss_train, c = 'blue')\n",
    "plt.semilogx(lambda_reg, avg_loss_test, c = 'coral')\n",
    "plt.ylim(0,6)\n",
    "plt.show()"
   ]
  },
  {
   "cell_type": "code",
   "execution_count": 16,
   "metadata": {},
   "outputs": [
    {
     "data": {
      "image/png": "[encoded data removed]",
      "text/plain": [
       "<Figure size 432x288 with 1 Axes>"
      ]
     },
     "metadata": {
      "needs_background": "light"
     },
     "output_type": "display_data"
    },
    {
     "data": {
      "image/png": "[encoded data removed]",
      "text/plain": [
       "<Figure size 432x288 with 1 Axes>"
      ]
     },
     "metadata": {
      "needs_background": "light"
     },
     "output_type": "display_data"
    },
    {
     "data": {
      "image/png": "[encoded data removed]",
      "text/plain": [
       "<Figure size 432x288 with 1 Axes>"
      ]
     },
     "metadata": {
      "needs_background": "light"
     },
     "output_type": "display_data"
    },
    {
     "data": {
      "image/png": "[encoded data removed]",
      "text/plain": [
       "<Figure size 432x288 with 1 Axes>"
      ]
     },
     "metadata": {
      "needs_background": "light"
     },
     "output_type": "display_data"
    },
    {
     "name": "stderr",
     "output_type": "stream",
     "text": [
      "/anaconda3/lib/python3.7/site-packages/ipykernel_launcher.py:16: RuntimeWarning: overflow encountered in matmul\n",
      "  app.launch_new_instance()\n",
      "/anaconda3/lib/python3.7/site-packages/ipykernel_launcher.py:29: RuntimeWarning: overflow encountered in matmul\n",
      "/anaconda3/lib/python3.7/site-packages/ipykernel_launcher.py:20: RuntimeWarning: overflow encountered in matmul\n",
      "/anaconda3/lib/python3.7/site-packages/ipykernel_launcher.py:20: RuntimeWarning: invalid value encountered in matmul\n",
      "/anaconda3/lib/python3.7/site-packages/ipykernel_launcher.py:16: RuntimeWarning: invalid value encountered in matmul\n",
      "  app.launch_new_instance()\n",
      "/anaconda3/lib/python3.7/site-packages/matplotlib/ticker.py:2234: RuntimeWarning: overflow encountered in multiply\n",
      "  steps = self._extended_steps * scale\n"
     ]
    },
    {
     "data": {
      "image/png": "[encoded data removed]",
      "text/plain": [
       "<Figure size 432x288 with 1 Axes>"
      ]
     },
     "metadata": {
      "needs_background": "light"
     },
     "output_type": "display_data"
    }
   ],
   "source": [
    "for alpha in [5.0e-2, 1.5e-2, 1.0e-2, 1e-3, 1.0e-1]:\n",
    "        theta_hist, loss_hist =  regularized_grad_descent(X_train, y_train, alpha=alpha, num_iter=1000)\n",
    "        \n",
    "        plt.xlabel('iterations')\n",
    "        plt.ylabel('average square loss')\n",
    "        plt.title('Gradient Descent with alpha=%s' % str(alpha))\n",
    "        plt.plot([i for i in range(1001)], loss_hist)\n",
    "        plt.show()"
   ]
  },
  {
   "cell_type": "markdown",
   "metadata": {},
   "source": [
    "## Stochastic Gradient Descent"
   ]
  },
  {
   "cell_type": "markdown",
   "metadata": {},
   "source": [
    "When the training data set is very large, evaluating the gradient of the objective function can take a long time, since it requires looking at each training example to take a single gradient step. When the objective function takes the form of an average of many values, such as: $$ J(\\theta) = \\frac{1}{m} \\sum_{i=1}^m f_i(\\theta) $$ (as it does in the empirical risk), stochastic gradient descent (SGD) can be very effective.  \n",
    "In SGD, rather than taking $-\\nabla J(\\theta)$ as our step direction, we take $-\\nabla f_i(\\theta)$ for some $i$ chosen uniformly at random {_1,...,m_}. The approximation is poor, but we will show it is unbiased.  \n",
    "  \n",
    "In ML applications, each $ f_i(\\theta)$ would be the loss on the *i*th example (and of course we'd typically write *n* instead of *m*, for the number of training points). In practical implementations for ML, the data points are **randomly shuffled**, and then we sweep through the whole training set one by one, and perform an update for each training example individually. One pass through the data is called an **epoch**. Note that each epoch of SGD touches as much data as a single step of batch gradient descent. You can use the same ordering for each epoch, tough optionally you could investigate wehter reshuffling after each epoch affects the convergence speed."
   ]
  },
  {
   "cell_type": "markdown",
   "metadata": {},
   "source": [
    "1. Show that the objective function $$ J(\\theta) = \\frac{1}{m} \\sum_{i=1}^m (h_\\theta(x_i)−y_i)^2 + \\lambda\\theta^T\\theta,$$ can be written in the form $ J(\\theta) = \\frac{1}{m} \\sum_{i=1}^m f_i(\\theta) $ by giving an expression for $f_i(\\theta)$ that makes the two expressions equivalent."
   ]
  },
  {
   "cell_type": "markdown",
   "metadata": {},
   "source": [
    "We can write:\n",
    "$$ J(\\theta) = \\frac{1}{m} \\sum_{i=1}^m [(h_\\theta(x_i)−y_i)^2 + \\lambda\\theta^T\\theta]$$  \n",
    "since when we sum up $\\lambda\\theta^T\\theta$ we obtain $m\\lambda\\theta^T\\theta$, which is equal to $\\lambda\\theta^T\\theta$ when multiplied by $\\frac{1}{m}$  \n",
    "Therefore $f_i(\\theta) = (h_\\theta(x_i)−y_i)^2 + \\lambda\\theta^T\\theta$"
   ]
  },
  {
   "cell_type": "markdown",
   "metadata": {},
   "source": [
    "2. Show that the stochastic gradient $\\nabla f_i(\\theta)$ for some $i$ chosen uniformly at random from {_1,...,m_}, is an **unbiased estimator** of $\\nabla J(\\theta)$. In other words, show that $\\mathop{\\mathbb{E}}[\\nabla f_i(\\theta)]= \\nabla J(\\theta)$ for any $\\theta$."
   ]
  },
  {
   "cell_type": "markdown",
   "metadata": {},
   "source": [
    "$\\mathop{\\mathbb{E}}[\\nabla f_i(\\theta)]= \\nabla \\mathop{\\mathbb{E}} f_i(\\theta)$  \n",
    "\n",
    "$= \\nabla (\\sum_{j=1}^N P(i=j)f_j(\\theta))  $  \n",
    "\n",
    "$= \\nabla (\\frac{1}{N} \\sum_{j=1}^N f_j(\\theta))  $  \n",
    "\n",
    "$= \\nabla J(\\theta) $\n",
    "  \n",
    "This means that if we use the Stochastic Gradient repeatedly, over time it will give us the same results as using the full Batch Gradient we have been using! (definition of expectation of a function) "
   ]
  },
  {
   "cell_type": "markdown",
   "metadata": {},
   "source": [
    "3. Write down the update rule for $\\theta$ in SGD for the ridge regression objective function"
   ]
  },
  {
   "cell_type": "markdown",
   "metadata": {},
   "source": [
    "$\\theta = \\theta - \\nabla f_i(\\theta)$"
   ]
  },
  {
   "cell_type": "markdown",
   "metadata": {},
   "source": [
    "$ \\nabla f_i(\\theta) = \\nabla [(h_\\theta(x_i)−y_i)^2 + \\lambda\\theta^T\\theta]$  \n",
    "  \n",
    "Chain rule:\n",
    "  \n",
    "$ = 2h_\\theta(x_i) - y_i)\\nabla h_\\theta(x_i) + 2\\lambda\\theta$\n",
    "  \n",
    "We have: \n",
    "  \n",
    "$ \\nabla h_\\theta(x_i) = \\nabla \\theta^T x_i = x_i $\n",
    "  \n",
    "$ \\nabla f_i(\\theta) = 2(h_\\theta(x_i) - y_i)x_i + 2\\lambda\\theta$\n",
    "  \n",
    "$ = 2[(h_\\theta(x_i) - y_i)x_i + \\lambda\\theta] $"
   ]
  },
  {
   "cell_type": "code",
   "execution_count": 17,
   "metadata": {},
   "outputs": [],
   "source": [
    "#############################################\n",
    "### Stochastic Gradient Descent\n",
    "def stochastic_grad_descent(X, y, alpha=0.1, lambda_reg=0.01, num_iter=1000):\n",
    "    \"\"\"\n",
    "    In this question you will implement stochastic gradient descent with a regularization term\n",
    "\n",
    "    Args:\n",
    "        X - the feature vector, 2D numpy array of size (num_instances, num_features)\n",
    "        y - the label vector, 1D numpy array of size (num_instances)\n",
    "        alpha - string or float. step size in gradient descent\n",
    "                NOTE: In SGD, it's not always a good idea to use a fixed step size. Usually it's set to 1/sqrt(t) or 1/t\n",
    "                if alpha is a float, then the step size in every iteration is alpha.\n",
    "                if alpha == \"1/sqrt(t)\", alpha = 1/sqrt(t)\n",
    "                if alpha == \"1/t\", alpha = 1/t\n",
    "        lambda_reg - the regularization coefficient\n",
    "        num_iter - number of epochs (i.e number of times) to go through the whole training set\n",
    "\n",
    "    Returns:\n",
    "        theta_hist - the history of parameter vector, 3D numpy array of size (num_iter, num_instances, num_features)\n",
    "        loss hist - the history of regularized loss function vector, 2D numpy array of size(num_iter, num_instances)\n",
    "    \"\"\"\n",
    "    num_instances, num_features = X.shape[0], X.shape[1]\n",
    "    theta = np.ones(num_features) #Initialize theta\n",
    "\n",
    "\n",
    "    theta_hist = np.zeros((num_iter, num_instances, num_features))  #Initialize theta_hist\n",
    "    loss_hist = np.zeros((num_iter, num_instances)) #Initialize loss_hist\n",
    "    #TODO\n",
    "    for j in range(num_iter):\n",
    "        \n",
    "        # Reshuffle indices to for new epoch, so we get new random points at each iteration\n",
    "        shuffled_indices = np.random.permutation(num_instances)\n",
    "        \n",
    "        for i in shuffled_indices:\n",
    "        \n",
    "        \n",
    "            loss_SGD = (np.transpose((X[i,:]@theta - y[i]))*(X[i,:]@theta - y[i])) + lambda_reg*np.transpose(theta)@theta\n",
    "            loss_hist[j,i] = loss_SGD\n",
    "            grad_SGD = 2*((X[i,:]@theta - y[i])*X[i] + lambda_reg*theta)\n",
    "            theta = theta - alpha*grad_SGD\n",
    "            theta_hist[j,i,:] = theta\n",
    "    \n",
    "    \n",
    "    \n",
    "    return theta_hist, loss_hist"
   ]
  },
  {
   "cell_type": "code",
   "execution_count": 18,
   "metadata": {},
   "outputs": [
    {
     "data": {
      "text/plain": [
       "(array([[[-2.67679012e-01, -1.62579371e-01, -1.29494571e-01, ...,\n",
       "           5.08163855e-02,  5.08163855e-02, -3.10608631e-01],\n",
       "         [-2.71226952e-01,  4.20699746e-02,  2.46013011e-01, ...,\n",
       "           1.45060716e-01,  1.45060716e-01, -3.74194509e-01],\n",
       "         [-1.97926588e-01, -9.19819285e-02, -5.86311218e-02, ...,\n",
       "           9.24230107e-02,  9.24230107e-02, -2.41201368e-01],\n",
       "         ...,\n",
       "         [-2.60447061e-01, -1.54077349e-01, -1.20592738e-01, ...,\n",
       "           3.75058647e-02,  3.75058647e-02, -3.03895462e-01],\n",
       "         [-4.98594815e-02,  7.97024089e-04,  7.97024089e-04, ...,\n",
       "           2.00791801e-01,  2.00791801e-01, -1.18925357e-01],\n",
       "         [-3.81637217e-01, -6.26441369e-02,  1.41643209e-01, ...,\n",
       "           7.73305327e-02,  7.73305327e-02, -4.86476861e-01]],\n",
       " \n",
       "        [[-5.26298736e-01, -7.36481815e-03,  2.83893227e-01, ...,\n",
       "           3.59686825e-02,  3.59686825e-02, -6.86619678e-01],\n",
       "         [-3.26678725e-01,  1.97325812e-01,  4.90235202e-01, ...,\n",
       "           1.21798780e-01,  1.21798780e-01, -4.81945637e-01],\n",
       "         [-4.14112724e-01, -3.63238296e-02,  1.54580924e-01, ...,\n",
       "           7.70314996e-02,  7.70314996e-02, -5.10497461e-01],\n",
       "         ...,\n",
       "         [-3.57966562e-01,  3.97718581e-02,  3.24113555e-01, ...,\n",
       "           5.54324289e-02,  5.54324289e-02, -4.86890960e-01],\n",
       "         [-3.38401209e-01,  1.75364086e-01,  4.63721177e-01, ...,\n",
       "           1.40870822e-01,  1.40870822e-01, -4.97125341e-01],\n",
       "         [-5.21141179e-01,  3.01335965e-03,  2.85087138e-01, ...,\n",
       "           2.25980631e-02,  2.25980631e-02, -6.83074995e-01]],\n",
       " \n",
       "        [[-5.86604501e-01,  2.69273759e-02,  4.34917917e-01, ...,\n",
       "           5.74937682e-02,  5.74937682e-02, -7.33548414e-01],\n",
       "         [-4.65327488e-01,  1.59359214e-01,  5.74767565e-01, ...,\n",
       "           1.22539331e-01,  1.22539331e-01, -6.14943036e-01],\n",
       "         [-5.16935330e-01,  1.04010742e-01,  5.16931625e-01, ...,\n",
       "           7.02188733e-02,  7.02188733e-02, -6.65654980e-01],\n",
       "         ...,\n",
       "         [-5.40570055e-01,  9.16656416e-02,  5.12093974e-01, ...,\n",
       "           6.08445823e-02,  6.08445823e-02, -6.91993625e-01],\n",
       "         [-2.88104235e-01,  2.67567281e-01,  5.93672002e-01, ...,\n",
       "           1.43800682e-01,  1.43800682e-01, -4.64575299e-01],\n",
       "         [-5.80580905e-01,  2.92771387e-02,  4.34824630e-01, ...,\n",
       "           5.78873621e-02,  5.78873621e-02, -7.60174199e-01]],\n",
       " \n",
       "        ...,\n",
       " \n",
       "        [[-6.84001506e-01,  2.75617190e-01,  8.09890191e-01, ...,\n",
       "           9.51132866e-02,  9.51132866e-02, -8.72167858e-01],\n",
       "         [-5.53767611e-01,  3.10362266e-01,  8.72056151e-01, ...,\n",
       "           1.15012104e-01,  1.15012104e-01, -7.16835939e-01],\n",
       "         [-6.38031887e-01,  2.05275438e-01,  7.67890069e-01, ...,\n",
       "           5.50820000e-02,  5.50820000e-02, -8.05735353e-01],\n",
       "         ...,\n",
       "         [-5.85162925e-01,  2.91162137e-01,  8.45947266e-01, ...,\n",
       "           8.35613633e-02,  8.35613633e-02, -7.50532582e-01],\n",
       "         [-6.22828327e-01,  3.34269789e-01,  8.70686310e-01, ...,\n",
       "           1.03502149e-01,  1.03502149e-01, -8.11749609e-01],\n",
       "         [-6.09177436e-01,  2.67665004e-01,  8.16025538e-01, ...,\n",
       "           1.02083098e-01,  1.02083098e-01, -8.02305296e-01]],\n",
       " \n",
       "        [[-7.75384510e-01,  1.71961170e-01,  7.02457875e-01, ...,\n",
       "           5.04592422e-02,  5.04592422e-02, -9.47340110e-01],\n",
       "         [-6.83141016e-01,  3.04882116e-01,  8.52409033e-01, ...,\n",
       "           1.18864159e-01,  1.18864159e-01, -8.62480103e-01],\n",
       "         [-7.53568759e-01,  2.29152203e-01,  7.52835402e-01, ...,\n",
       "           6.40165407e-02,  6.40165407e-02, -9.38005474e-01],\n",
       "         ...,\n",
       "         [-7.93738720e-01,  2.02228276e-01,  7.15531573e-01, ...,\n",
       "           2.69682181e-02,  2.69682181e-02, -9.74519723e-01],\n",
       "         [-6.61926564e-01,  3.15155109e-01,  8.35812968e-01, ...,\n",
       "           1.44597734e-01,  1.44597734e-01, -8.30811609e-01],\n",
       "         [-6.76056041e-01,  2.72821967e-01,  8.02717151e-01, ...,\n",
       "           7.82802640e-02,  7.82802640e-02, -8.62031263e-01]],\n",
       " \n",
       "        [[-7.48635337e-01,  1.99206455e-01,  7.70474646e-01, ...,\n",
       "           8.61528560e-02,  8.61528560e-02, -9.29885366e-01],\n",
       "         [-6.72388790e-01,  2.77385500e-01,  8.70802192e-01, ...,\n",
       "           1.13413996e-01,  1.13413996e-01, -8.94532670e-01],\n",
       "         [-7.00791488e-01,  2.84936560e-01,  8.01218590e-01, ...,\n",
       "           4.93841213e-02,  4.93841213e-02, -8.56196477e-01],\n",
       "         ...,\n",
       "         [-6.99748771e-01,  2.63395894e-01,  8.43887190e-01, ...,\n",
       "           8.47807921e-02,  8.47807921e-02, -8.83925075e-01],\n",
       "         [-6.04160558e-01,  3.84414351e-01,  9.63763090e-01, ...,\n",
       "           1.11137766e-01,  1.11137766e-01, -7.94473180e-01],\n",
       "         [-7.31781842e-01,  2.27547444e-01,  8.26934074e-01, ...,\n",
       "           7.52891466e-02,  7.52891466e-02, -9.56160552e-01]]]),\n",
       " array([[ 3.64302961, 15.03765788,  1.13965249, ...,  8.53884483,\n",
       "         72.80016781,  4.19979939],\n",
       "        [ 4.2056216 , 29.99377162,  2.47067531, ...,  7.63305591,\n",
       "         31.33131422,  3.31195737],\n",
       "        [ 5.31060939, 45.16407477,  0.94074414, ...,  5.94649287,\n",
       "         24.99606649,  3.44858436],\n",
       "        ...,\n",
       "        [ 9.52741253,  9.95053013,  1.38369413, ...,  6.16207066,\n",
       "         53.92165265,  4.1119708 ],\n",
       "        [ 5.72616349, 18.63532188,  2.45858856, ...,  3.98522011,\n",
       "         25.27194349,  3.80637745],\n",
       "        [ 7.57855629, 27.52049528,  1.95195215, ...,  5.18666101,\n",
       "         32.2230742 ,  3.42812611]]))"
      ]
     },
     "execution_count": 18,
     "metadata": {},
     "output_type": "execute_result"
    }
   ],
   "source": [
    "stochastic_grad_descent(X_train, y_train, alpha=0.01, lambda_reg=0.1, num_iter=1000)"
   ]
  },
  {
   "cell_type": "code",
   "execution_count": 169,
   "metadata": {},
   "outputs": [
    {
     "data": {
      "image/png": "[encoded data removed]",
      "text/plain": [
       "<Figure size 432x288 with 1 Axes>"
      ]
     },
     "metadata": {
      "needs_background": "light"
     },
     "output_type": "display_data"
    },
    {
     "name": "stdout",
     "output_type": "stream",
     "text": [
      "Final Training Loss: 3.8362050938723185 \n",
      "\n"
     ]
    },
    {
     "data": {
      "image/png": "[encoded data removed]",
      "text/plain": [
       "<Figure size 432x288 with 1 Axes>"
      ]
     },
     "metadata": {
      "needs_background": "light"
     },
     "output_type": "display_data"
    },
    {
     "name": "stdout",
     "output_type": "stream",
     "text": [
      "Final Training Loss: 3.3645074432127164 \n",
      "\n"
     ]
    },
    {
     "data": {
      "image/png": "[encoded data removed]",
      "text/plain": [
       "<Figure size 432x288 with 1 Axes>"
      ]
     },
     "metadata": {
      "needs_background": "light"
     },
     "output_type": "display_data"
    },
    {
     "name": "stdout",
     "output_type": "stream",
     "text": [
      "Final Training Loss: 3.0422733181941415 \n",
      "\n"
     ]
    }
   ],
   "source": [
    "# Run SGD with different learning rates\n",
    "lamb = 0.01 # we are using optimal regularization parameter found from last blog post\n",
    "    \n",
    "# try a few step sizes\n",
    "alphas = [0.01, 0.005, 0.001]\n",
    "for alpha in alphas:\n",
    "    loss_hist_train = stochastic_grad_descent(X_train, y_train, alpha=alpha, lambda_reg=lamb)[1]       \n",
    "    plt.xlabel('epochs')\n",
    "    plt.ylabel('Objective Function Loss')\n",
    "    plt.ylim(bottom=2, top=5)\n",
    "    plt.title('SGD, alpha=%s, lambda=%s' % (str(alpha), str(lamb)))\n",
    "    plt.plot([i for i in range(1, 1000+1)], loss_hist_train.mean(axis=1))\n",
    "    plt.show()\n",
    "    print(\"Final Training Loss: %s \\n\" % (str(loss_hist_train.mean(axis=1)[-1])))"
   ]
  }
 ],
 "metadata": {
  "kernelspec": {
   "display_name": "Python 3",
   "language": "python",
   "name": "python3"
  },
  "language_info": {
   "codemirror_mode": {
    "name": "ipython",
    "version": 3
   },
   "file_extension": ".py",
   "mimetype": "text/x-python",
   "name": "python",
   "nbconvert_exporter": "python",
   "pygments_lexer": "ipython3",
   "version": "3.7.0"
  },
  "toc": {
   "base_numbering": 1,
   "nav_menu": {},
   "number_sections": true,
   "sideBar": true,
   "skip_h1_title": true,
   "title_cell": "Table of Contents",
   "title_sidebar": "Contents",
   "toc_cell": false,
   "toc_position": {},
   "toc_section_display": true,
   "toc_window_display": true
  }
 },
 "nbformat": 4,
 "nbformat_minor": 4
}
