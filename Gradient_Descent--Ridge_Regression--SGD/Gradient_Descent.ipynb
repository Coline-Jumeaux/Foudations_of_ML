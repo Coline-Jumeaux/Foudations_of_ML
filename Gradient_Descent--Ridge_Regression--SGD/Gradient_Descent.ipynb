{
 "cells": [
  {
   "cell_type": "markdown",
   "metadata": {
    "toc": true
   },
   "source": [
    "<h1>Table of Contents<span class=\"tocSkip\"></span></h1>\n",
    "<div class=\"toc\"><ul class=\"toc-item\"><li><span><a href=\"#Introduction\" data-toc-modified-id=\"Introduction-1\"><span class=\"toc-item-num\">1&nbsp;&nbsp;</span>Introduction</a></span></li><li><span><a href=\"#Linear-Regression\" data-toc-modified-id=\"Linear-Regression-2\"><span class=\"toc-item-num\">2&nbsp;&nbsp;</span>Linear Regression</a></span><ul class=\"toc-item\"><li><span><a href=\"#Feature-normalization\" data-toc-modified-id=\"Feature-normalization-2.1\"><span class=\"toc-item-num\">2.1&nbsp;&nbsp;</span>Feature normalization</a></span></li><li><span><a href=\"#Gradient-Descent-Setup\" data-toc-modified-id=\"Gradient-Descent-Setup-2.2\"><span class=\"toc-item-num\">2.2&nbsp;&nbsp;</span>Gradient Descent Setup</a></span><ul class=\"toc-item\"><li><span><a href=\"#Objective-function\" data-toc-modified-id=\"Objective-function-2.2.1\"><span class=\"toc-item-num\">2.2.1&nbsp;&nbsp;</span>Objective function</a></span></li><li><span><a href=\"#Gradient-of-the-objective-function:\" data-toc-modified-id=\"Gradient-of-the-objective-function:-2.2.2\"><span class=\"toc-item-num\">2.2.2&nbsp;&nbsp;</span>Gradient of the objective function:</a></span></li><li><span><a href=\"#first-order-approximation\" data-toc-modified-id=\"first-order-approximation-2.2.3\"><span class=\"toc-item-num\">2.2.3&nbsp;&nbsp;</span>first-order approximation</a></span></li><li><span><a href=\"#Gradient-update-step\" data-toc-modified-id=\"Gradient-update-step-2.2.4\"><span class=\"toc-item-num\">2.2.4&nbsp;&nbsp;</span>Gradient update step</a></span></li></ul></li><li><span><a href=\"#The-square-loss-function\" data-toc-modified-id=\"The-square-loss-function-2.3\"><span class=\"toc-item-num\">2.3&nbsp;&nbsp;</span>The square loss function</a></span></li><li><span><a href=\"#Square-loss-gradient\" data-toc-modified-id=\"Square-loss-gradient-2.4\"><span class=\"toc-item-num\">2.4&nbsp;&nbsp;</span>Square loss gradient</a></span></li><li><span><a href=\"#Gradient-checker\" data-toc-modified-id=\"Gradient-checker-2.5\"><span class=\"toc-item-num\">2.5&nbsp;&nbsp;</span>Gradient checker</a></span></li><li><span><a href=\"#Generic-Gradient-Checker\" data-toc-modified-id=\"Generic-Gradient-Checker-2.6\"><span class=\"toc-item-num\">2.6&nbsp;&nbsp;</span>Generic Gradient Checker</a></span></li><li><span><a href=\"#Batch-Gradient-Descent\" data-toc-modified-id=\"Batch-Gradient-Descent-2.7\"><span class=\"toc-item-num\">2.7&nbsp;&nbsp;</span>Batch Gradient Descent</a></span><ul class=\"toc-item\"><li><span><a href=\"#Step-size\" data-toc-modified-id=\"Step-size-2.7.1\"><span class=\"toc-item-num\">2.7.1&nbsp;&nbsp;</span>Step size</a></span></li><li><span><a href=\"#Backtracking-line-search\" data-toc-modified-id=\"Backtracking-line-search-2.7.2\"><span class=\"toc-item-num\">2.7.2&nbsp;&nbsp;</span>Backtracking line search</a></span></li><li><span><a href=\"#Learning-rate\" data-toc-modified-id=\"Learning-rate-2.7.3\"><span class=\"toc-item-num\">2.7.3&nbsp;&nbsp;</span>Learning rate</a></span></li></ul></li></ul></li><li><span><a href=\"#Ridge-regression-(i.e.-Linear-Regression-with-$l_2$-regularization)\" data-toc-modified-id=\"Ridge-regression-(i.e.-Linear-Regression-with-$l_2$-regularization)-3\"><span class=\"toc-item-num\">3&nbsp;&nbsp;</span>Ridge regression (i.e. Linear Regression with $l_2$ regularization)</a></span></li><li><span><a href=\"#Stochastic-Gradient-Descent\" data-toc-modified-id=\"Stochastic-Gradient-Descent-4\"><span class=\"toc-item-num\">4&nbsp;&nbsp;</span>Stochastic Gradient Descent</a></span></li></ul></div>"
   ]
  },
  {
   "cell_type": "markdown",
   "metadata": {},
   "source": [
    "# Ridge Regression, Gradient Descent, SGD"
   ]
  },
  {
   "cell_type": "markdown",
   "metadata": {},
   "source": [
    "Assignment for the [Foundations of Machine Learning](https://bloomberg.github.io/foml/#about) course."
   ]
  },
  {
   "cell_type": "code",
   "execution_count": 1,
   "metadata": {},
   "outputs": [],
   "source": [
    "import pandas as pd\n",
    "import logging\n",
    "import numpy as np\n",
    "import sys\n",
    "import matplotlib.pyplot as plt\n",
    "from sklearn.model_selection import train_test_split"
   ]
  },
  {
   "cell_type": "markdown",
   "metadata": {},
   "source": [
    "## Introduction"
   ]
  },
  {
   "cell_type": "markdown",
   "metadata": {},
   "source": [
    "This notebook implements ridge regression using gradient descent and stochastic gradient descent."
   ]
  },
  {
   "cell_type": "markdown",
   "metadata": {},
   "source": [
    "## Linear Regression"
   ]
  },
  {
   "cell_type": "markdown",
   "metadata": {},
   "source": [
    "### Feature normalization\n",
    "\n",
    "Why?\n",
    "- When features differ greatly, we can get much slower rates of convergence of gradient-based algorithms. \n",
    "- When we using regularization, features with larger values are treated as 'more important' (get higher weights) \n",
    "\n",
    "One common approach to feature normalization is to perform an affine transformation (i.e. shift and rescale) on each feature so that all feature values in the training set are in \\[0,1\\]. Each feature gets its own transformation. We then apply the same transformations to each feature on the test set.  "
   ]
  },
  {
   "cell_type": "code",
   "execution_count": 2,
   "metadata": {},
   "outputs": [],
   "source": [
    "def feature_normalization(train, test):\n",
    "    \"\"\"Rescale the data so that each feature in the training set is in\n",
    "    the interval [0,1], and apply the same transformations to the test\n",
    "    set, using the statistics computed on the training set.\n",
    "\n",
    "    Args:\n",
    "        train - training set, a 2D numpy array of size (num_instances, num_features)\n",
    "        test  - test set, a 2D numpy array of size (num_instances, num_features)\n",
    "    Returns:\n",
    "        train_normalized - training set after normalization\n",
    "        test_normalized  - test set after normalization\n",
    "\n",
    "    \"\"\"\n",
    "    #Test if the feature is constant\n",
    "    mask = np.all(train == train[0,:], axis = 0) #compares all lines to the first line and returns a boolean array \n",
    "    mask = [not x for x in mask]\n",
    "    mask = np.asarray(mask)\n",
    "    \n",
    "    #discard constant features\n",
    "    train = train[:,mask]\n",
    "    test = test[:,mask]\n",
    "    \n",
    "    #Normalize train and test sets between [0,1]\n",
    "    train_normalized = (train - train.min(axis=0))/(train.max(axis=0)-train.min(axis=0))\n",
    "    test_normalized = (test - train.min(axis=0))/(train.max(axis=0)-train.min(axis=0))\n",
    "    return (train_normalized, test_normalized)"
   ]
  },
  {
   "cell_type": "markdown",
   "metadata": {},
   "source": [
    "### Gradient Descent Setup"
   ]
  },
  {
   "cell_type": "markdown",
   "metadata": {},
   "source": [
    "In linear regression, we consider the hypothesis space of linear functions $h_\\theta : R^d \\to R$, where  \n",
    "  \n",
    "$$h_\\theta(x) = \\theta^Tx,$$  \n",
    "  \n",
    "for $\\theta, x \\in R^d$, and we choose  $\\theta$ that minimizes the following “square loss” objective function:  \n",
    "\n",
    "$$ J(\\theta) = \\frac{1}{m} \\sum_{i=1}^n (h_\\theta(x_i)−y_i)^2,$$  \n",
    "\n",
    "where $(x_1, y_1), ..., (x_m, y_m) \\in R^d \\times R$ is our training data.  \n",
    "While this formulation of linear regression is very convenient, it’s more standard to use a hypothesis space of “affine” functions:\n",
    "$$h_\\theta(x) = \\theta^Tx + b,$$  \n",
    "\n",
    "which allows a “bias” or nonzero intercept term. The standard way to achieve this, while still maintaining the convenience of the first representation, is to add an extra dimension to $x$ that is always a fixed value, such as 1.  \n",
    "We’ll assume this representation, and thus we’ll actually take  $\\theta, x \\in R^{d+1}$."
   ]
  },
  {
   "cell_type": "markdown",
   "metadata": {},
   "source": [
    "#### Objective function\n",
    "$X \\in R^{m\\times(d+1)}$ is the design matrix, where the *i*’th row of $X$ is $x_i$.  \n",
    "$y = (y_1, ...,y_m)^T \\in R^{m\\times1}$ is the “response”.  \n",
    "The objective function is:"
   ]
  },
  {
   "cell_type": "markdown",
   "metadata": {},
   "source": [
    "$$J(\\theta) = \\frac{1}{m} (X\\theta - y)^T(X\\theta-y)$$"
   ]
  },
  {
   "cell_type": "markdown",
   "metadata": {},
   "source": [
    "#### Gradient of the objective function:"
   ]
  },
  {
   "cell_type": "markdown",
   "metadata": {},
   "source": [
    "Using the chain rule: if $ h(x) = f(g(x)) $, then $ h'(x) = f'(g(x))\\cdot g'(x) $  "
   ]
  },
  {
   "cell_type": "markdown",
   "metadata": {},
   "source": [
    "$$ \\nabla J(\\theta) = \\frac{2}{m}X^T(X\\theta - y) $$"
   ]
  },
  {
   "cell_type": "markdown",
   "metadata": {},
   "source": [
    "#### first-order approximation\n",
    "\n",
    "We can write an approximate expression for the change in objective function value $J(\\theta + \\eta h) - J(\\theta)$"
   ]
  },
  {
   "cell_type": "markdown",
   "metadata": {},
   "source": [
    "We have: $$ \\nabla J(\\theta, h) = \\lim\\limits_{\\eta \\to 0} \\frac {J(\\theta + \\eta h)- J(\\theta)}{\\eta}$$\n",
    "  \n",
    "Therefore:\n",
    "$J(\\theta + \\eta h) - J(\\theta) \\approx \\eta \\nabla J(\\theta,h) $"
   ]
  },
  {
   "cell_type": "markdown",
   "metadata": {},
   "source": [
    "#### Gradient update step \n",
    "Let $\\eta$ be the step size. The expression for updating $\\theta$ in the gradient descent algorithm is:"
   ]
  },
  {
   "cell_type": "markdown",
   "metadata": {},
   "source": [
    "$\\theta = \\theta - \\eta \\nabla J(\\theta) $\n",
    "  \n",
    "We 'take a step' (change $\\theta$) in the direction of fastest decrease of the objective function $J(\\theta)$"
   ]
  },
  {
   "cell_type": "markdown",
   "metadata": {},
   "source": [
    "### The square loss function"
   ]
  },
  {
   "cell_type": "code",
   "execution_count": 3,
   "metadata": {},
   "outputs": [],
   "source": [
    "def compute_square_loss(X, y, theta):\n",
    "    \"\"\"\n",
    "    Given a set of X, y, theta, compute the square loss for predicting y with X*theta\n",
    "\n",
    "    Args:\n",
    "        X - the feature vector, 2D numpy array of size (num_instances, num_features)\n",
    "        y - the label vector, 1D numpy array of size (num_instances)\n",
    "        theta - the parameter vector, 1D array of size (num_features)\n",
    "\n",
    "    Returns:\n",
    "        loss - the square loss, scalar\n",
    "    \"\"\"\n",
    "    loss = 0 #initialize the square_loss\n",
    "    \n",
    "    m = y.shape[0]\n",
    "    loss = (1/(m))*np.transpose((X@theta - y))@(X@theta - y)\n",
    "    \n",
    "    return loss"
   ]
  },
  {
   "cell_type": "markdown",
   "metadata": {},
   "source": [
    "### Square loss gradient"
   ]
  },
  {
   "cell_type": "code",
   "execution_count": 4,
   "metadata": {},
   "outputs": [],
   "source": [
    "### compute the gradient of square loss function\n",
    "def compute_square_loss_gradient(X, y, theta):\n",
    "    \"\"\"\n",
    "    Compute gradient of the square loss (as defined in compute_square_loss), at the point theta.\n",
    "\n",
    "    Args:\n",
    "        X - the feature vector, 2D numpy array of size (num_instances, num_features)\n",
    "        y - the label vector, 1D numpy array of size (num_instances)\n",
    "        theta - the parameter vector, 1D numpy array of size (num_features)\n",
    "\n",
    "    Returns:\n",
    "        grad - gradient vector, 1D numpy array of size (num_features)\n",
    "    \"\"\"\n",
    "    m = len(y)\n",
    "    grad = (2/m)*np.transpose(X)@(X@theta - y)\n",
    "    \n",
    "    return grad"
   ]
  },
  {
   "cell_type": "markdown",
   "metadata": {},
   "source": [
    "### Gradient checker"
   ]
  },
  {
   "cell_type": "markdown",
   "metadata": {},
   "source": [
    "Getting the gradient calculation correct is often the trickiest part of any gradient-based optimization algorithm.  Fortunately, it's very easy to check that the gradient calculation is correct using the definition of gradient.\n",
    "See http://ufldl.stanford.edu/wiki/index.php/Gradient_checking_and_advanced_optimization"
   ]
  },
  {
   "cell_type": "markdown",
   "metadata": {},
   "source": [
    "If $J: R^d \\to R$ is differentiable, then for any vector $h \\in R^d$, the directional derivative of $J$ at $\\theta$ in the direction $h$ is given by: \n",
    "$$ \\lim\\limits_{\\varepsilon \\to 0} \\frac {J(\\theta + \\varepsilon h)- J(\\theta - \\varepsilon h)}{2\\varepsilon}.$$\n",
    "\n",
    "We can approximate this directional derivative by choosing a small value of $\\varepsilon > 0$ and evaluating the quotient above. We can get an approximation to the gradient by approximating the directional derivatives in each coordinate direction and putting them together into a vector. In other words, take $h = (1, 0, 0,... ,0)$ to get the first component of the gradient. Then take $h = (0, 1, 0,... ,0)$ to get the second component. And so on."
   ]
  },
  {
   "cell_type": "markdown",
   "metadata": {},
   "source": [
    "The function grad_checker checks that the function compute_square_loss returns the correct gradient.  \n",
    "Note: Running the gradient checker takes extra time. In practice, once you’re convinced your gradient calculator is correct, you should stop calling the checker so things run faster."
   ]
  },
  {
   "cell_type": "code",
   "execution_count": 5,
   "metadata": {},
   "outputs": [],
   "source": [
    "def grad_checker(X, y, theta, epsilon=0.01, tolerance=1e-4):\n",
    "    \"\"\"Implement Gradient Checker\n",
    "    Check that the function compute_square_loss_gradient returns the\n",
    "    correct gradient for the given X, y, and theta.\n",
    "\n",
    "    Let d be the number of features. Here we numerically estimate the\n",
    "    gradient by approximating the directional derivative in each of\n",
    "    the d coordinate directions:\n",
    "    (e_1 = (1,0,0,...,0), e_2 = (0,1,0,...,0), ..., e_d = (0,...,0,1)\n",
    "\n",
    "    The approximation for the directional derivative of J at the point\n",
    "    theta in the direction e_i is given by:\n",
    "    ( J(theta + epsilon * e_i) - J(theta - epsilon * e_i) ) / (2*epsilon).\n",
    "\n",
    "    We then look at the Euclidean distance between the gradient\n",
    "    computed using this approximation and the gradient computed by\n",
    "    compute_square_loss_gradient(X, y, theta).  If the Euclidean\n",
    "    distance exceeds tolerance, we say the gradient is incorrect.\n",
    "\n",
    "    Args:\n",
    "        X - the feature vector, 2D numpy array of size (num_instances, num_features)\n",
    "        y - the label vector, 1D numpy array of size (num_instances)\n",
    "        theta - the parameter vector, 1D numpy array of size (num_features)\n",
    "        epsilon - the epsilon used in approximation\n",
    "        tolerance - the tolerance error\n",
    "\n",
    "    Return:\n",
    "        A boolean value indicate whether the gradient is correct or not\n",
    "\n",
    "    \"\"\"\n",
    "    true_gradient = compute_square_loss_gradient(X, y, theta) #the true gradient\n",
    "    num_features = theta.shape[0]\n",
    "    approx_grad = np.zeros(num_features) #Initialize the gradient we approximate\n",
    "    \n",
    "    for i in range(num_features):\n",
    "        #direction vector for directional derivative:\n",
    "        h = np.zeros(num_features)\n",
    "        h[i] = 1\n",
    "        \n",
    "        #calculate the approximated gradient\n",
    "        approx_grad[i] = (compute_square_loss(X, y, theta + epsilon*h) - compute_square_loss(X, y, theta - epsilon*h)) / (2*epsilon)\n",
    "    \n",
    "    \n",
    "    dist = np.linalg.norm(true_gradient-approx_grad)\n",
    "    \n",
    "    return (dist < epsilon)"
   ]
  },
  {
   "cell_type": "markdown",
   "metadata": {},
   "source": [
    "### Generic Gradient Checker"
   ]
  },
  {
   "cell_type": "markdown",
   "metadata": {},
   "source": [
    "The function generic_grad_checker checks that any objective function returns the correct gradient."
   ]
  },
  {
   "cell_type": "code",
   "execution_count": 6,
   "metadata": {},
   "outputs": [],
   "source": [
    "def generic_gradient_checker(X, y, theta, objective_func, gradient_func, epsilon=0.01, tolerance=1e-4):\n",
    "    \"\"\"\n",
    "    The functions takes objective_func and gradient_func as parameters. And checks whether gradient_func(X, y, theta) \n",
    "    returned the true gradient for objective_func(X, y, theta).\n",
    "    Eg: In LSR, the objective_func = compute_square_loss, and gradient_func = compute_square_loss_gradient\n",
    "    \"\"\"\n",
    "    true_gradient = gradient_func(X, y, theta) #the true gradient\n",
    "    num_features = theta.shape[0]\n",
    "    approx_grad = np.zeros(num_features) #Initialize the gradient we approximate\n",
    "    \n",
    "    for i in range(num_features):\n",
    "        \n",
    "        #direction vector for directional derivative:\n",
    "        h = np.zeros(num_features)\n",
    "        h[i] = 1\n",
    "        \n",
    "        #calculate the approximated gradient\n",
    "        approx_grad[i] = (objective_func(X, y, theta + epsilon*h) - objective_func(X, y, theta - epsilon*h)) / (2*epsilon)\n",
    "    \n",
    "    \n",
    "    dist = np.linalg.norm(true_gradient-approx_grad)\n",
    "    \n",
    "    return (dist < epsilon)"
   ]
  },
  {
   "cell_type": "markdown",
   "metadata": {},
   "source": [
    "### Batch Gradient Descent"
   ]
  },
  {
   "cell_type": "markdown",
   "metadata": {},
   "source": [
    "Implementation of batch gradient descent to minimize the square loss objective:"
   ]
  },
  {
   "cell_type": "code",
   "execution_count": 7,
   "metadata": {},
   "outputs": [],
   "source": [
    "def batch_grad_descent(X, y, alpha=0.1, num_iter=1000, check_gradient=False, step_size_search=False):\n",
    "    \"\"\"\n",
    "    Args:\n",
    "        X - the feature vector, 2D numpy array of size (num_instances, num_features)\n",
    "        y - the label vector, 1D numpy array of size (num_instances)\n",
    "        alpha - step size in gradient descent\n",
    "        num_iter - number of iterations to run\n",
    "        check_gradient - a boolean value indicating whether checking the gradient when updating\n",
    "\n",
    "    Returns:\n",
    "        theta_hist - store the the history of parameter vector in iteration, 2D numpy array of size (num_iter+1, num_features)\n",
    "                    for instance, theta in iteration 0 should be theta_hist[0], theta in ieration (num_iter) is theta_hist[-1]\n",
    "        loss_hist - the history of objective function vector, 1D numpy array of size (num_iter+1)\n",
    "    \"\"\"\n",
    "    num_instances, num_features = X.shape[0], X.shape[1]\n",
    "    theta_hist = np.zeros((num_iter+1, num_features))  #Initialize theta_hist\n",
    "    loss_hist = np.zeros(num_iter+1) #initialize loss_hist\n",
    "    theta = np.zeros(num_features) #initialize theta\n",
    "    \n",
    "    #TODO\n",
    "    for i in range(num_iter):\n",
    "        theta_hist[i] = theta\n",
    "        loss_hist[i] = compute_square_loss(X, y, theta)\n",
    "        grad = compute_square_loss_gradient(X, y, theta)\n",
    "        \n",
    "        if check_gradient:\n",
    "            if not grad_checker(X,y,theta):\n",
    "                sys.exit('Wrong gradient')\n",
    "        \n",
    "        if step_size_search:\n",
    "            alpha = backtrack_step_search(X, y, theta, compute_square_loss, \n",
    "                                          compute_square_loss_gradient, epsilon = 1e-6)\n",
    "                \n",
    "            theta = theta - alpha*grad\n",
    "        \n",
    "        else:\n",
    "            #Update theta\n",
    "            theta = theta - alpha*grad\n",
    "        \n",
    "    theta_hist[i+1] = theta\n",
    "    loss_hist[i+1] = compute_square_loss(X, y, theta)\n",
    "    \n",
    "    return theta_hist, loss_hist"
   ]
  },
  {
   "cell_type": "markdown",
   "metadata": {},
   "source": [
    "#### Step size\n",
    "\n",
    "Here we look at how the step size value influences the convergence of the algorithm. "
   ]
  },
  {
   "cell_type": "code",
   "execution_count": 8,
   "metadata": {},
   "outputs": [
    {
     "data": {
      "text/html": [
       "<div>\n",
       "<style scoped>\n",
       "    .dataframe tbody tr th:only-of-type {\n",
       "        vertical-align: middle;\n",
       "    }\n",
       "\n",
       "    .dataframe tbody tr th {\n",
       "        vertical-align: top;\n",
       "    }\n",
       "\n",
       "    .dataframe thead th {\n",
       "        text-align: right;\n",
       "    }\n",
       "</style>\n",
       "<table border=\"1\" class=\"dataframe\">\n",
       "  <thead>\n",
       "    <tr style=\"text-align: right;\">\n",
       "      <th></th>\n",
       "      <th>x0</th>\n",
       "      <th>x1</th>\n",
       "      <th>x2</th>\n",
       "      <th>x3</th>\n",
       "      <th>x4</th>\n",
       "      <th>x5</th>\n",
       "      <th>x6</th>\n",
       "      <th>x7</th>\n",
       "      <th>x8</th>\n",
       "      <th>x9</th>\n",
       "      <th>...</th>\n",
       "      <th>x39</th>\n",
       "      <th>x40</th>\n",
       "      <th>x41</th>\n",
       "      <th>x42</th>\n",
       "      <th>x43</th>\n",
       "      <th>x44</th>\n",
       "      <th>x45</th>\n",
       "      <th>x46</th>\n",
       "      <th>x47</th>\n",
       "      <th>y</th>\n",
       "    </tr>\n",
       "  </thead>\n",
       "  <tbody>\n",
       "    <tr>\n",
       "      <th>0</th>\n",
       "      <td>0.0</td>\n",
       "      <td>0.0</td>\n",
       "      <td>0.0</td>\n",
       "      <td>0.0</td>\n",
       "      <td>0.0</td>\n",
       "      <td>0.0</td>\n",
       "      <td>0.0</td>\n",
       "      <td>0.0</td>\n",
       "      <td>0.0</td>\n",
       "      <td>0.0</td>\n",
       "      <td>...</td>\n",
       "      <td>-0.951051</td>\n",
       "      <td>-0.951051</td>\n",
       "      <td>-4.755257</td>\n",
       "      <td>-0.866019</td>\n",
       "      <td>-0.866019</td>\n",
       "      <td>-4.330093</td>\n",
       "      <td>-0.781824</td>\n",
       "      <td>-0.781824</td>\n",
       "      <td>-3.909121</td>\n",
       "      <td>-1.376575</td>\n",
       "    </tr>\n",
       "    <tr>\n",
       "      <th>1</th>\n",
       "      <td>0.0</td>\n",
       "      <td>0.0</td>\n",
       "      <td>0.0</td>\n",
       "      <td>0.0</td>\n",
       "      <td>0.0</td>\n",
       "      <td>0.0</td>\n",
       "      <td>0.0</td>\n",
       "      <td>0.0</td>\n",
       "      <td>0.0</td>\n",
       "      <td>0.0</td>\n",
       "      <td>...</td>\n",
       "      <td>-0.948871</td>\n",
       "      <td>-0.948871</td>\n",
       "      <td>-4.744353</td>\n",
       "      <td>-0.863095</td>\n",
       "      <td>-0.863095</td>\n",
       "      <td>-4.315474</td>\n",
       "      <td>-0.778705</td>\n",
       "      <td>-0.778705</td>\n",
       "      <td>-3.893525</td>\n",
       "      <td>0.878782</td>\n",
       "    </tr>\n",
       "    <tr>\n",
       "      <th>2</th>\n",
       "      <td>0.0</td>\n",
       "      <td>0.0</td>\n",
       "      <td>0.0</td>\n",
       "      <td>0.0</td>\n",
       "      <td>0.0</td>\n",
       "      <td>0.0</td>\n",
       "      <td>0.0</td>\n",
       "      <td>0.0</td>\n",
       "      <td>0.0</td>\n",
       "      <td>0.0</td>\n",
       "      <td>...</td>\n",
       "      <td>-0.948056</td>\n",
       "      <td>-0.948056</td>\n",
       "      <td>-4.740279</td>\n",
       "      <td>-0.862011</td>\n",
       "      <td>-0.862011</td>\n",
       "      <td>-4.310053</td>\n",
       "      <td>-0.777551</td>\n",
       "      <td>-0.777551</td>\n",
       "      <td>-3.887757</td>\n",
       "      <td>1.108701</td>\n",
       "    </tr>\n",
       "    <tr>\n",
       "      <th>3</th>\n",
       "      <td>0.0</td>\n",
       "      <td>0.0</td>\n",
       "      <td>0.0</td>\n",
       "      <td>0.0</td>\n",
       "      <td>0.0</td>\n",
       "      <td>0.0</td>\n",
       "      <td>0.0</td>\n",
       "      <td>0.0</td>\n",
       "      <td>0.0</td>\n",
       "      <td>0.0</td>\n",
       "      <td>...</td>\n",
       "      <td>-0.941999</td>\n",
       "      <td>-0.941999</td>\n",
       "      <td>-4.709996</td>\n",
       "      <td>-0.854081</td>\n",
       "      <td>-0.854081</td>\n",
       "      <td>-4.270406</td>\n",
       "      <td>-0.769161</td>\n",
       "      <td>-0.769161</td>\n",
       "      <td>-3.845805</td>\n",
       "      <td>0.519229</td>\n",
       "    </tr>\n",
       "    <tr>\n",
       "      <th>4</th>\n",
       "      <td>0.0</td>\n",
       "      <td>0.0</td>\n",
       "      <td>0.0</td>\n",
       "      <td>0.0</td>\n",
       "      <td>0.0</td>\n",
       "      <td>0.0</td>\n",
       "      <td>0.0</td>\n",
       "      <td>0.0</td>\n",
       "      <td>0.0</td>\n",
       "      <td>0.0</td>\n",
       "      <td>...</td>\n",
       "      <td>-0.939440</td>\n",
       "      <td>-0.939440</td>\n",
       "      <td>-4.697202</td>\n",
       "      <td>-0.850794</td>\n",
       "      <td>-0.850794</td>\n",
       "      <td>-4.253972</td>\n",
       "      <td>-0.765706</td>\n",
       "      <td>-0.765706</td>\n",
       "      <td>-3.828531</td>\n",
       "      <td>0.772872</td>\n",
       "    </tr>\n",
       "    <tr>\n",
       "      <th>...</th>\n",
       "      <td>...</td>\n",
       "      <td>...</td>\n",
       "      <td>...</td>\n",
       "      <td>...</td>\n",
       "      <td>...</td>\n",
       "      <td>...</td>\n",
       "      <td>...</td>\n",
       "      <td>...</td>\n",
       "      <td>...</td>\n",
       "      <td>...</td>\n",
       "      <td>...</td>\n",
       "      <td>...</td>\n",
       "      <td>...</td>\n",
       "      <td>...</td>\n",
       "      <td>...</td>\n",
       "      <td>...</td>\n",
       "      <td>...</td>\n",
       "      <td>...</td>\n",
       "      <td>...</td>\n",
       "      <td>...</td>\n",
       "      <td>...</td>\n",
       "    </tr>\n",
       "    <tr>\n",
       "      <th>195</th>\n",
       "      <td>1.0</td>\n",
       "      <td>1.0</td>\n",
       "      <td>1.0</td>\n",
       "      <td>1.0</td>\n",
       "      <td>1.0</td>\n",
       "      <td>1.0</td>\n",
       "      <td>1.0</td>\n",
       "      <td>1.0</td>\n",
       "      <td>1.0</td>\n",
       "      <td>1.0</td>\n",
       "      <td>...</td>\n",
       "      <td>-0.036417</td>\n",
       "      <td>-0.036417</td>\n",
       "      <td>-0.182083</td>\n",
       "      <td>-0.030349</td>\n",
       "      <td>-0.030349</td>\n",
       "      <td>-0.151746</td>\n",
       "      <td>-0.026015</td>\n",
       "      <td>-0.026015</td>\n",
       "      <td>-0.130073</td>\n",
       "      <td>2.503566</td>\n",
       "    </tr>\n",
       "    <tr>\n",
       "      <th>196</th>\n",
       "      <td>1.0</td>\n",
       "      <td>1.0</td>\n",
       "      <td>1.0</td>\n",
       "      <td>1.0</td>\n",
       "      <td>1.0</td>\n",
       "      <td>1.0</td>\n",
       "      <td>1.0</td>\n",
       "      <td>1.0</td>\n",
       "      <td>1.0</td>\n",
       "      <td>1.0</td>\n",
       "      <td>...</td>\n",
       "      <td>-0.036086</td>\n",
       "      <td>-0.036086</td>\n",
       "      <td>-0.180430</td>\n",
       "      <td>-0.030074</td>\n",
       "      <td>-0.030074</td>\n",
       "      <td>-0.150368</td>\n",
       "      <td>-0.025778</td>\n",
       "      <td>-0.025778</td>\n",
       "      <td>-0.128892</td>\n",
       "      <td>2.414250</td>\n",
       "    </tr>\n",
       "    <tr>\n",
       "      <th>197</th>\n",
       "      <td>1.0</td>\n",
       "      <td>1.0</td>\n",
       "      <td>1.0</td>\n",
       "      <td>1.0</td>\n",
       "      <td>1.0</td>\n",
       "      <td>1.0</td>\n",
       "      <td>1.0</td>\n",
       "      <td>1.0</td>\n",
       "      <td>1.0</td>\n",
       "      <td>1.0</td>\n",
       "      <td>...</td>\n",
       "      <td>-0.007125</td>\n",
       "      <td>-0.007125</td>\n",
       "      <td>-0.035624</td>\n",
       "      <td>-0.005937</td>\n",
       "      <td>-0.005937</td>\n",
       "      <td>-0.029687</td>\n",
       "      <td>-0.005089</td>\n",
       "      <td>-0.005089</td>\n",
       "      <td>-0.025446</td>\n",
       "      <td>3.379356</td>\n",
       "    </tr>\n",
       "    <tr>\n",
       "      <th>198</th>\n",
       "      <td>1.0</td>\n",
       "      <td>1.0</td>\n",
       "      <td>1.0</td>\n",
       "      <td>1.0</td>\n",
       "      <td>1.0</td>\n",
       "      <td>1.0</td>\n",
       "      <td>1.0</td>\n",
       "      <td>1.0</td>\n",
       "      <td>1.0</td>\n",
       "      <td>1.0</td>\n",
       "      <td>...</td>\n",
       "      <td>-0.004506</td>\n",
       "      <td>-0.004506</td>\n",
       "      <td>-0.022530</td>\n",
       "      <td>-0.003755</td>\n",
       "      <td>-0.003755</td>\n",
       "      <td>-0.018775</td>\n",
       "      <td>-0.003219</td>\n",
       "      <td>-0.003219</td>\n",
       "      <td>-0.016093</td>\n",
       "      <td>2.468850</td>\n",
       "    </tr>\n",
       "    <tr>\n",
       "      <th>199</th>\n",
       "      <td>1.0</td>\n",
       "      <td>1.0</td>\n",
       "      <td>1.0</td>\n",
       "      <td>1.0</td>\n",
       "      <td>1.0</td>\n",
       "      <td>1.0</td>\n",
       "      <td>1.0</td>\n",
       "      <td>1.0</td>\n",
       "      <td>1.0</td>\n",
       "      <td>1.0</td>\n",
       "      <td>...</td>\n",
       "      <td>-0.002561</td>\n",
       "      <td>-0.002561</td>\n",
       "      <td>-0.012804</td>\n",
       "      <td>-0.002134</td>\n",
       "      <td>-0.002134</td>\n",
       "      <td>-0.010670</td>\n",
       "      <td>-0.001829</td>\n",
       "      <td>-0.001829</td>\n",
       "      <td>-0.009146</td>\n",
       "      <td>3.961209</td>\n",
       "    </tr>\n",
       "  </tbody>\n",
       "</table>\n",
       "<p>200 rows × 49 columns</p>\n",
       "</div>"
      ],
      "text/plain": [
       "      x0   x1   x2   x3   x4   x5   x6   x7   x8   x9  ...       x39  \\\n",
       "0    0.0  0.0  0.0  0.0  0.0  0.0  0.0  0.0  0.0  0.0  ... -0.951051   \n",
       "1    0.0  0.0  0.0  0.0  0.0  0.0  0.0  0.0  0.0  0.0  ... -0.948871   \n",
       "2    0.0  0.0  0.0  0.0  0.0  0.0  0.0  0.0  0.0  0.0  ... -0.948056   \n",
       "3    0.0  0.0  0.0  0.0  0.0  0.0  0.0  0.0  0.0  0.0  ... -0.941999   \n",
       "4    0.0  0.0  0.0  0.0  0.0  0.0  0.0  0.0  0.0  0.0  ... -0.939440   \n",
       "..   ...  ...  ...  ...  ...  ...  ...  ...  ...  ...  ...       ...   \n",
       "195  1.0  1.0  1.0  1.0  1.0  1.0  1.0  1.0  1.0  1.0  ... -0.036417   \n",
       "196  1.0  1.0  1.0  1.0  1.0  1.0  1.0  1.0  1.0  1.0  ... -0.036086   \n",
       "197  1.0  1.0  1.0  1.0  1.0  1.0  1.0  1.0  1.0  1.0  ... -0.007125   \n",
       "198  1.0  1.0  1.0  1.0  1.0  1.0  1.0  1.0  1.0  1.0  ... -0.004506   \n",
       "199  1.0  1.0  1.0  1.0  1.0  1.0  1.0  1.0  1.0  1.0  ... -0.002561   \n",
       "\n",
       "          x40       x41       x42       x43       x44       x45       x46  \\\n",
       "0   -0.951051 -4.755257 -0.866019 -0.866019 -4.330093 -0.781824 -0.781824   \n",
       "1   -0.948871 -4.744353 -0.863095 -0.863095 -4.315474 -0.778705 -0.778705   \n",
       "2   -0.948056 -4.740279 -0.862011 -0.862011 -4.310053 -0.777551 -0.777551   \n",
       "3   -0.941999 -4.709996 -0.854081 -0.854081 -4.270406 -0.769161 -0.769161   \n",
       "4   -0.939440 -4.697202 -0.850794 -0.850794 -4.253972 -0.765706 -0.765706   \n",
       "..        ...       ...       ...       ...       ...       ...       ...   \n",
       "195 -0.036417 -0.182083 -0.030349 -0.030349 -0.151746 -0.026015 -0.026015   \n",
       "196 -0.036086 -0.180430 -0.030074 -0.030074 -0.150368 -0.025778 -0.025778   \n",
       "197 -0.007125 -0.035624 -0.005937 -0.005937 -0.029687 -0.005089 -0.005089   \n",
       "198 -0.004506 -0.022530 -0.003755 -0.003755 -0.018775 -0.003219 -0.003219   \n",
       "199 -0.002561 -0.012804 -0.002134 -0.002134 -0.010670 -0.001829 -0.001829   \n",
       "\n",
       "          x47         y  \n",
       "0   -3.909121 -1.376575  \n",
       "1   -3.893525  0.878782  \n",
       "2   -3.887757  1.108701  \n",
       "3   -3.845805  0.519229  \n",
       "4   -3.828531  0.772872  \n",
       "..        ...       ...  \n",
       "195 -0.130073  2.503566  \n",
       "196 -0.128892  2.414250  \n",
       "197 -0.025446  3.379356  \n",
       "198 -0.016093  2.468850  \n",
       "199 -0.009146  3.961209  \n",
       "\n",
       "[200 rows x 49 columns]"
      ]
     },
     "execution_count": 8,
     "metadata": {},
     "output_type": "execute_result"
    }
   ],
   "source": [
    "#Load and visualize he dataset\n",
    "data = pd.read_csv('/Users/Coline/Desktop/mlprojects/Bloomberg_foundations_of_ML/hw1-sgd/data.csv')\n",
    "data"
   ]
  },
  {
   "cell_type": "code",
   "execution_count": 9,
   "metadata": {},
   "outputs": [
    {
     "name": "stdout",
     "output_type": "stream",
     "text": [
      "loading the dataset\n",
      "Split into Train and Test\n",
      "Scaling all to [0, 1]\n"
     ]
    }
   ],
   "source": [
    "################################################\n",
    "### Visualization that compares the convergence speed of batch\n",
    "###and stochastic gradient descent for various approaches to step_size\n",
    "##X-axis: Step number (for gradient descent) or Epoch (for SGD)\n",
    "##Y-axis: log(objective_function_value) and/or objective_function_value\n",
    "\n",
    "#Loading the dataset\n",
    "print('loading the dataset')\n",
    "\n",
    "df = pd.read_csv('/Users/Coline/Desktop/mlprojects/Bloomberg_foundations_of_ML/hw1-sgd/data.csv', delimiter=',')\n",
    "X = df.values[:,:-1]\n",
    "y = df.values[:,-1]\n",
    "\n",
    "print('Split into Train and Test')\n",
    "X_train, X_test, y_train, y_test = train_test_split(X, y, test_size =100, random_state=10)\n",
    "\n",
    "print(\"Scaling all to [0, 1]\")\n",
    "X_train, X_test = feature_normalization(X_train, X_test)\n",
    "X_train = np.hstack((X_train, np.ones((X_train.shape[0], 1))))  # Add bias term\n",
    "X_test = np.hstack((X_test, np.ones((X_test.shape[0], 1)))) # Add bias term"
   ]
  },
  {
   "cell_type": "code",
   "execution_count": 10,
   "metadata": {},
   "outputs": [
    {
     "data": {
      "image/png": "[encoded data removed]",
      "text/plain": [
       "<Figure size 432x288 with 1 Axes>"
      ]
     },
     "metadata": {
      "needs_background": "light"
     },
     "output_type": "display_data"
    },
    {
     "data": {
      "image/png": "[encoded data removed]",
      "text/plain": [
       "<Figure size 432x288 with 1 Axes>"
      ]
     },
     "metadata": {
      "needs_background": "light"
     },
     "output_type": "display_data"
    },
    {
     "data": {
      "image/png": "[encoded data removed]",
      "text/plain": [
       "<Figure size 432x288 with 1 Axes>"
      ]
     },
     "metadata": {
      "needs_background": "light"
     },
     "output_type": "display_data"
    },
    {
     "name": "stderr",
     "output_type": "stream",
     "text": [
      "/anaconda3/lib/python3.7/site-packages/ipykernel_launcher.py:16: RuntimeWarning: overflow encountered in matmul\n",
      "  app.launch_new_instance()\n",
      "/anaconda3/lib/python3.7/site-packages/ipykernel_launcher.py:15: RuntimeWarning: overflow encountered in matmul\n",
      "  from ipykernel import kernelapp as app\n",
      "/anaconda3/lib/python3.7/site-packages/ipykernel_launcher.py:15: RuntimeWarning: invalid value encountered in matmul\n",
      "  from ipykernel import kernelapp as app\n",
      "/anaconda3/lib/python3.7/site-packages/ipykernel_launcher.py:16: RuntimeWarning: invalid value encountered in matmul\n",
      "  app.launch_new_instance()\n"
     ]
    },
    {
     "data": {
      "image/png": "[encoded data removed]",
      "text/plain": [
       "<Figure size 432x288 with 1 Axes>"
      ]
     },
     "metadata": {
      "needs_background": "light"
     },
     "output_type": "display_data"
    }
   ],
   "source": [
    "#Test different step sizes and plot average square loss vs iteration\n",
    "\n",
    "for alpha in [1.0e-2, 1.5e-2, 5.0e-2, 1.0e-1]:\n",
    "        theta_hist, loss_hist = batch_grad_descent(X_train, y_train, alpha=alpha, num_iter=1000, check_gradient=False)\n",
    "        \n",
    "        plt.xlabel('iterations')\n",
    "        plt.ylabel('average square loss')\n",
    "        plt.title('Gradient Descent with alpha=%s' % str(alpha))\n",
    "        plt.plot([i for i in range(1001)], loss_hist)\n",
    "        plt.show()"
   ]
  },
  {
   "cell_type": "markdown",
   "metadata": {},
   "source": [
    "When the step size increases, the algorithm converges faster. For step size of 0.1, gradient descent does not converge."
   ]
  },
  {
   "cell_type": "markdown",
   "metadata": {},
   "source": [
    "#### Backtracking line search"
   ]
  },
  {
   "cell_type": "markdown",
   "metadata": {},
   "source": [
    "It is a line search method to determine the amount to move along a given search direction. It involves starting with a relatively large estimate of the step size for movement along the search direction, and iteratively shrinking the step size (i.e., \"backtracking\") until a decrease of the objective function is observed that adequately corresponds to the decrease that is expected, based on the local gradient of the objective function. [(source)](https://en.wikipedia.org/wiki/Backtracking_line_search#Algorithm)"
   ]
  },
  {
   "cell_type": "code",
   "execution_count": 11,
   "metadata": {},
   "outputs": [],
   "source": [
    "def backtrack_step_search(X, y, theta, loss_func, grad_func, epsilon = 1e-6):\n",
    "    alpha = 1.0\n",
    "    beta = 0.5\n",
    "    loss = loss_func(X,y,theta)\n",
    "    grad = grad_func(X,y,theta)\n",
    "    \n",
    "    while True:\n",
    "        theta_next = theta - alpha*grad_func(X,y,theta)\n",
    "        loss_next = loss_func(X,y,theta_next)\n",
    "        if loss_next > loss-epsilon:\n",
    "            alpha = alpha*beta\n",
    "        else:\n",
    "            return alpha"
   ]
  },
  {
   "cell_type": "code",
   "execution_count": 12,
   "metadata": {},
   "outputs": [
    {
     "data": {
      "image/png": "[encoded data removed]",
      "text/plain": [
       "<Figure size 432x288 with 1 Axes>"
      ]
     },
     "metadata": {
      "needs_background": "light"
     },
     "output_type": "display_data"
    }
   ],
   "source": [
    "theta_hist, loss_hist = batch_grad_descent(X_train, y_train, alpha=0.01, num_iter=1000, \n",
    "                                                   check_gradient=False, step_size_search=True)\n",
    "        \n",
    "plt.xlabel('iterations')\n",
    "plt.ylabel('average square loss')\n",
    "plt.title('Gradient Descent with backtracking line search')\n",
    "plt.plot([i for i in range(1001)], loss_hist)\n",
    "plt.show()"
   ]
  },
  {
   "cell_type": "markdown",
   "metadata": {},
   "source": [
    "Backtracking line search converges faster"
   ]
  },
  {
   "cell_type": "markdown",
   "metadata": {},
   "source": [
    "#### Learning rate \n",
    "Instead of using a fixed learning rate through all iterations, we can adjust our learning rate in each iteration using a simple algo:  \n",
    "Letting the algorithm to adjust the learning rate during each iteration using Armijo's rule [(source)](https://github.com/nyu-ds1003/mlcourse/blob/master/labs/02-20210210-gd%26sgd/02-20210210-gd%26sgd.pdf)"
   ]
  },
  {
   "cell_type": "code",
   "execution_count": 13,
   "metadata": {},
   "outputs": [],
   "source": [
    "def gradient_descent_armijo(X,y, theta_0, lr=1e-3, n_iteration=1000):\n",
    "    \"\"\"\n",
    "    Simple gradient descent optimization with learning rate adjusted using Armijo's rule\n",
    "    @param theta_0: initial estimate\n",
    "    @param lr: learning rate\n",
    "    @param n_iteration: number of iterations\n",
    "    \"\"\"\n",
    "    # create history dictionary for tracking progress per iteration.\n",
    "    hist = {'lr':[], 'theta': [], 'f_theta': []}\n",
    "    \n",
    "    # initialize theta_0\n",
    "    theta_i =  theta_0\n",
    "    \n",
    "    # loop over iterations\n",
    "    for i in range(n_iteration):\n",
    "        # calculate the gradient\n",
    "        grad = compute_square_loss_gradient(X,y,theta_i)\n",
    "        loss = compute_square_loss(X,y, theta_i)\n",
    "        \n",
    "        # calculate the next theta with this gradient\n",
    "        theta_i_plus_1 = theta_i - lr * grad\n",
    "        loss_i_plus_1 = compute_square_loss(X,y, theta_i_plus_1)\n",
    "        \n",
    "        # calculate the required improvement\n",
    "        if isinstance(grad, np.ndarray):\n",
    "            df_est = lr*grad.dot(grad)\n",
    "        else:\n",
    "            df_est = lr*grad*grad\n",
    "        \n",
    "        # if the improvement is significant, perform the update and increase learning rate\n",
    "        if (loss_i_plus_1 < loss - 0.5*df_est):\n",
    "            lr *= 2\n",
    "            accept = True\n",
    "        # if the improvement is insignificant, don't do the update and decrease learning rate\n",
    "        else:\n",
    "            lr /= 2 \n",
    "            accept = False\n",
    "        \n",
    "        if accept:\n",
    "            # do update\n",
    "            theta_i = theta_i - lr * grad\n",
    "            # save history\n",
    "            hist['theta'].append(theta_i)\n",
    "            hist['f_theta'].append(loss)\n",
    "            hist['lr'].append(lr)\n",
    "    return theta_i, hist"
   ]
  },
  {
   "cell_type": "code",
   "execution_count": 14,
   "metadata": {},
   "outputs": [
    {
     "data": {
      "image/png": "[encoded data removed]",
      "text/plain": [
       "<Figure size 432x288 with 1 Axes>"
      ]
     },
     "metadata": {
      "needs_background": "light"
     },
     "output_type": "display_data"
    }
   ],
   "source": [
    "lr_list = [1, 0.1, 0.01, 0.001, 0.0001]\n",
    "theta_init = np.zeros(X.shape[1])\n",
    "\n",
    "for lr in lr_list:\n",
    "    # run the optimizer\n",
    "    theta_star, hist = gradient_descent_armijo(X,y, theta_init, lr)   \n",
    "    # plot the learning curve\n",
    "    plt.semilogx(np.arange(len(hist['f_theta'])), hist['f_theta'], label=str(lr))\n",
    "    plt.xlabel(\"iteration number\")\n",
    "    plt.ylabel(\"f(theta)\")\n",
    "    # report \n",
    "    #print(\"lr = {0}, theta* = {1}, f(theta*) = {2}\".format(lr, hist[\"theta\"][-1], hist[\"f_theta\"][-1]))\n",
    "    \n",
    "plt.grid()\n",
    "plt.legend(loc='lower right')\n",
    "plt.show()"
   ]
  },
  {
   "cell_type": "markdown",
   "metadata": {},
   "source": [
    "## Ridge regression (i.e. Linear Regression with $l_2$ regularization)"
   ]
  },
  {
   "cell_type": "markdown",
   "metadata": {},
   "source": [
    "When we have a large number of features compared to instances, regularization can help control overfitting.  \n",
    "Ridge regression is linear regression with $l_2$ regularization. The regularization term is sometimes called a penalty term.  \n",
    "The objective function (loss function) for ridge regression is: $$ J(\\theta) = \\frac{1}{m} \\sum_{i=1}^n (h_\\theta(x_i)−y_i)^2 + \\lambda\\theta^T\\theta,$$ where $\\lambda$ is the regularization parameter, which controls the degree of regularization.  "
   ]
  },
  {
   "cell_type": "markdown",
   "metadata": {},
   "source": [
    "Gradient of J(θ):\n",
    "\n",
    "$$ J(\\theta) = \\frac{1}{m}(\\theta X − y)^T(\\theta X − y) + \\lambda\\theta^T\\theta$$\n",
    "$$ \\nabla J(\\theta) = \\frac{2}{m}X^T(\\theta X − y) + 2\\lambda\\theta$$"
   ]
  },
  {
   "cell_type": "code",
   "execution_count": 15,
   "metadata": {},
   "outputs": [],
   "source": [
    "###################################################\n",
    "### Compute the gradient of Regularized Batch Gradient Descent\n",
    "def compute_regularized_square_loss_gradient(X, y, theta, lambda_reg):\n",
    "    \"\"\"\n",
    "    Compute the gradient of L2-regularized square loss function given X, y and theta\n",
    "\n",
    "    Args:\n",
    "        X - the feature vector, 2D numpy array of size (num_instances, num_features)\n",
    "        y - the label vector, 1D numpy array of size (num_instances)\n",
    "        theta - the parameter vector, 1D numpy array of size (num_features)\n",
    "        lambda_reg - the regularization coefficient\n",
    "\n",
    "    Returns:\n",
    "        grad - gradient vector, 1D numpy array of size (num_features)\n",
    "    \"\"\"\n",
    "    #TODO\n",
    "    loss = 0 #initialize the square_loss\n",
    "    \n",
    "    m = y.shape[0]\n",
    "    #grad = (2/m)*np.transpose(X)@(X@theta - y) + 2*lambda_reg*theta\n",
    "    grad = (1/m)*np.dot((np.dot(X,theta.T)-y), X) + 2*lambda_reg*theta\n",
    "    return grad"
   ]
  },
  {
   "cell_type": "code",
   "execution_count": 16,
   "metadata": {},
   "outputs": [],
   "source": [
    "###################################################\n",
    "### Batch Gradient Descent with regularization term\n",
    "def regularized_grad_descent(X, y, alpha=0.1, lambda_reg=1, num_iter=1000):\n",
    "    \"\"\"\n",
    "    Args:\n",
    "        X - the feature vector, 2D numpy array of size (num_instances, num_features)\n",
    "        y - the label vector, 1D numpy array of size (num_instances)\n",
    "        alpha - step size in gradient descent\n",
    "        lambda_reg - the regularization coefficient\n",
    "        num_iter - number of iterations to run\n",
    "\n",
    "    Returns:\n",
    "        theta_hist - the history of parameter vector, 2D numpy array of size (num_iter+1, num_features)\n",
    "        loss_hist - the history of loss function without the regularization term, 1D numpy array.\n",
    "    \"\"\"\n",
    "    (num_instances, num_features) = X.shape\n",
    "    theta = np.zeros(num_features) #Initialize theta\n",
    "    theta_hist = np.zeros((num_iter+1, num_features))  #Initialize theta_hist\n",
    "    loss_hist = np.zeros(num_iter+1) #Initialize loss_hist\n",
    "    #TODO\n",
    "    \n",
    "    for i in range(num_iter):\n",
    "        loss_hist[i] = compute_square_loss(X, y, theta)\n",
    "        theta_hist[i, :] = theta[:]\n",
    "        \n",
    "        theta = theta - (alpha)*compute_regularized_square_loss_gradient(X, y, theta, lambda_reg)\n",
    "        \n",
    "    theta_hist[i+1, :] = theta[:]\n",
    "    loss_hist[i+1] = compute_square_loss(X, y, theta) + np.sum(theta**2)*lambda_reg/(2*num_instances)\n",
    "    \n",
    "    return theta_hist, loss_hist"
   ]
  },
  {
   "cell_type": "code",
   "execution_count": 17,
   "metadata": {},
   "outputs": [
    {
     "data": {
      "image/png": "[encoded data removed]",
      "text/plain": [
       "<Figure size 432x288 with 1 Axes>"
      ]
     },
     "metadata": {
      "needs_background": "light"
     },
     "output_type": "display_data"
    }
   ],
   "source": [
    "avg_loss_train=[]\n",
    "avg_loss_test=[]\n",
    "for lambda_reg in [1.0e-7, 1e-5, 1.0e-3, 1.0e-1, 1, 10, 100]:\n",
    "        theta_hist_train, loss_hist_train = regularized_grad_descent(X_train, y_train, alpha=0.01, lambda_reg=lambda_reg, num_iter=1000)\n",
    "        theta_hist_test, loss_hist_test = regularized_grad_descent(X_test, y_test, alpha=0.01, lambda_reg=lambda_reg, num_iter=1000)\n",
    "        avg_loss_train.append(np.mean(loss_hist_train))\n",
    "        avg_loss_test.append(np.mean(loss_hist_test))\n",
    "        \n",
    "\n",
    "lambda_reg = [1.0e-7, 1e-5, 1.0e-3, 1.0e-1, 1, 10, 100]\n",
    "        \n",
    "plt.xlabel('lambda_reg')\n",
    "plt.ylabel('average square loss')\n",
    "plt.title('Gradient Descent with regularization param lambda')\n",
    "plt.semilogx(lambda_reg, avg_loss_train, c = 'blue', label = 'training loss')\n",
    "plt.semilogx(lambda_reg, avg_loss_test, c = 'coral', label='validation loss')\n",
    "plt.ylim(0,10)\n",
    "plt.legend()\n",
    "plt.show()"
   ]
  },
  {
   "cell_type": "markdown",
   "metadata": {},
   "source": [
    "## Stochastic Gradient Descent"
   ]
  },
  {
   "cell_type": "markdown",
   "metadata": {},
   "source": [
    "When the training data set is very large, evaluating the gradient of the objective function can take a long time, since it requires looking at each training example to take a single gradient step. When the objective function takes the form of an average of many values, such as: $$ J(\\theta) = \\frac{1}{m} \\sum_{i=1}^m f_i(\\theta) $$ (as it does in the empirical risk), stochastic gradient descent (SGD) can be very effective.  \n",
    "In SGD, rather than taking $-\\nabla J(\\theta)$ as our step direction, we take $-\\nabla f_i(\\theta)$ for some $i$ chosen uniformly at random {_1,...,m_}. The approximation is poor, but we will show it is unbiased.  \n",
    "  \n",
    "In ML applications, each $ f_i(\\theta)$ would be the loss on the *i*th example (and of course we'd typically write *n* instead of *m*, for the number of training points). In practical implementations for ML, the data points are **randomly shuffled**, and then we sweep through the whole training set one by one, and perform an update for each training example individually. One pass through the data is called an **epoch**. Note that each epoch of SGD touches as much data as a single step of batch gradient descent. You can use the same ordering for each epoch, tough optionally you could investigate wether reshuffling after each epoch affects the convergence speed."
   ]
  },
  {
   "cell_type": "markdown",
   "metadata": {},
   "source": [
    "1. Show that the objective function $$ J(\\theta) = \\frac{1}{m} \\sum_{i=1}^m (h_\\theta(x_i)−y_i)^2 + \\lambda\\theta^T\\theta,$$ can be written in the form $ J(\\theta) = \\frac{1}{m} \\sum_{i=1}^m f_i(\\theta) $ by giving an expression for $f_i(\\theta)$ that makes the two expressions equivalent."
   ]
  },
  {
   "cell_type": "markdown",
   "metadata": {},
   "source": [
    "We can write:\n",
    "$$ J(\\theta) = \\frac{1}{m} \\sum_{i=1}^m [(h_\\theta(x_i)−y_i)^2 + \\lambda\\theta^T\\theta]$$  \n",
    "since when we sum up $\\lambda\\theta^T\\theta$ we obtain $m\\lambda\\theta^T\\theta$, which is equal to $\\lambda\\theta^T\\theta$ when multiplied by $\\frac{1}{m}$  \n",
    "Therefore $f_i(\\theta) = (h_\\theta(x_i)−y_i)^2 + \\lambda\\theta^T\\theta$"
   ]
  },
  {
   "cell_type": "markdown",
   "metadata": {},
   "source": [
    "2. Show that the stochastic gradient $\\nabla f_i(\\theta)$ for some $i$ chosen uniformly at random from {_1,...,m_}, is an **unbiased estimator** of $\\nabla J(\\theta)$. In other words, show that $\\mathop{\\mathbb{E}}[\\nabla f_i(\\theta)]= \\nabla J(\\theta)$ for any $\\theta$."
   ]
  },
  {
   "cell_type": "markdown",
   "metadata": {},
   "source": [
    "$\\mathop{\\mathbb{E}}[\\nabla f_i(\\theta)]= \\nabla \\mathop{\\mathbb{E}} f_i(\\theta)$  \n",
    "\n",
    "$= \\nabla (\\sum_{j=1}^N P(i=j)f_j(\\theta))  $ (definition of expectation of a function) \n",
    "\n",
    "$= \\nabla (\\frac{1}{N} \\sum_{j=1}^N f_j(\\theta))  $  \n",
    "\n",
    "$= \\nabla J(\\theta) $\n",
    "  \n",
    "This means that if we use the Stochastic Gradient repeatedly, over time it will give us the same results as using the full Batch Gradient we have been using! "
   ]
  },
  {
   "cell_type": "markdown",
   "metadata": {},
   "source": [
    "3. Write down the update rule for $\\theta$ in SGD for the ridge regression objective function"
   ]
  },
  {
   "cell_type": "markdown",
   "metadata": {},
   "source": [
    "$\\theta = \\theta - \\nabla f_i(\\theta)$"
   ]
  },
  {
   "cell_type": "markdown",
   "metadata": {},
   "source": [
    "$ \\nabla f_i(\\theta) = \\nabla [(h_\\theta(x_i)−y_i)^2 + \\lambda\\theta^T\\theta]$  \n",
    "  \n",
    "Chain rule:\n",
    "  \n",
    "$ = 2h_\\theta(x_i) - y_i)\\nabla h_\\theta(x_i) + 2\\lambda\\theta$\n",
    "  \n",
    "We have: \n",
    "  \n",
    "$ \\nabla h_\\theta(x_i) = \\nabla \\theta^T x_i = x_i $\n",
    "  \n",
    "$ \\nabla f_i(\\theta) = 2(h_\\theta(x_i) - y_i)x_i + 2\\lambda\\theta$\n",
    "  \n",
    "$ = 2[(h_\\theta(x_i) - y_i)x_i + \\lambda\\theta] $"
   ]
  },
  {
   "cell_type": "markdown",
   "metadata": {},
   "source": [
    "Stochastic Gradient Descent implementation:"
   ]
  },
  {
   "cell_type": "code",
   "execution_count": 45,
   "metadata": {},
   "outputs": [],
   "source": [
    "#############################################\n",
    "### Stochastic Gradient Descent\n",
    "def stochastic_grad_descent(X, y, alpha=0.1, lambda_reg=0.01, num_iter=1000):\n",
    "    \"\"\"\n",
    "    Args:\n",
    "        X - the feature vector, 2D numpy array of size (num_instances, num_features)\n",
    "        y - the label vector, 1D numpy array of size (num_instances)\n",
    "        alpha - string or float. step size in gradient descent\n",
    "                NOTE: In SGD, it's not always a good idea to use a fixed step size. Usually it's set to 1/sqrt(t) or 1/t\n",
    "                if alpha is a float, then the step size in every iteration is alpha.\n",
    "                if alpha == \"1/sqrt(t)\", alpha = 1/sqrt(t)\n",
    "                if alpha == \"1/t\", alpha = 1/t\n",
    "        lambda_reg - the regularization coefficient\n",
    "        num_iter - number of epochs (i.e number of times) to go through the whole training set\n",
    "\n",
    "    Returns:\n",
    "        theta_hist - the history of parameter vector, 3D numpy array of size (num_iter, num_instances, num_features)\n",
    "        loss hist - the history of regularized loss function vector, 2D numpy array of size(num_iter, num_instances)\n",
    "    \"\"\"\n",
    "    num_instances, num_features = X.shape[0], X.shape[1]\n",
    "    theta = np.ones(num_features) #Initialize theta\n",
    "\n",
    "\n",
    "    theta_hist = np.zeros((num_iter, num_instances, num_features))  #Initialize theta_hist\n",
    "    loss_hist = np.zeros((num_iter, num_instances)) #Initialize loss_hist\n",
    "    \n",
    "    #TODO\n",
    "    \n",
    "    #Set step_size:\n",
    "    if isinstance(alpha, float):\n",
    "        step_size = alpha\n",
    "    else:\n",
    "        step_size = 1000\n",
    "    \n",
    "    for j in range(num_iter):\n",
    "        \n",
    "        # Reshuffle indices to for new epoch, so we get new random points at each iteration\n",
    "        shuffled_indices = np.random.permutation(num_instances)\n",
    "        \n",
    "        for i in shuffled_indices:\n",
    "        \n",
    "            loss_SGD = compute_square_loss(X,y,theta) + lambda_reg*np.transpose(theta)@theta\n",
    "            loss_hist[j,i] = loss_SGD\n",
    "            grad_SGD = 2*((X[i,:]@theta - y[i])*X[i] + lambda_reg*theta)\n",
    "            \n",
    "            if isinstance(alpha, str):\n",
    "                if alpha == \"1/sqrt(t)\":\n",
    "                    theta = theta - (1/np.sqrt(step_size))*grad_SGD\n",
    "                    theta_hist[j,i,:] = theta\n",
    "                    step_size += 1\n",
    "                \n",
    "                if alpha == \"1/t\":\n",
    "                    theta = theta - (1/step_size)*grad_SGD\n",
    "                    theta_hist[j,i,:] = theta\n",
    "                    step_size += 1\n",
    "            else:\n",
    "            \n",
    "                theta = theta - alpha*grad_SGD\n",
    "                theta_hist[j,i,:] = theta\n",
    "                \n",
    "                \n",
    "    \n",
    "    return theta_hist, loss_hist"
   ]
  },
  {
   "cell_type": "code",
   "execution_count": 32,
   "metadata": {},
   "outputs": [
    {
     "data": {
      "image/png": "[encoded data removed]",
      "text/plain": [
       "<Figure size 432x288 with 1 Axes>"
      ]
     },
     "metadata": {
      "needs_background": "light"
     },
     "output_type": "display_data"
    },
    {
     "name": "stdout",
     "output_type": "stream",
     "text": [
      "Final Training Loss: 3.5085044706644255 \n",
      "\n"
     ]
    },
    {
     "data": {
      "image/png": "[encoded data removed]",
      "text/plain": [
       "<Figure size 432x288 with 1 Axes>"
      ]
     },
     "metadata": {
      "needs_background": "light"
     },
     "output_type": "display_data"
    },
    {
     "name": "stdout",
     "output_type": "stream",
     "text": [
      "Final Training Loss: 3.289283163301497 \n",
      "\n"
     ]
    },
    {
     "data": {
      "image/png": "[encoded data removed]",
      "text/plain": [
       "<Figure size 432x288 with 1 Axes>"
      ]
     },
     "metadata": {
      "needs_background": "light"
     },
     "output_type": "display_data"
    },
    {
     "name": "stdout",
     "output_type": "stream",
     "text": [
      "Final Training Loss: 2.9773395963336178 \n",
      "\n"
     ]
    }
   ],
   "source": [
    "# Run SGD with different learning rates\n",
    "lamb = 0.01 # we are using optimal regularization parameter found from last\n",
    "    \n",
    "# try a few fixed step sizes\n",
    "alphas = [0.01, 0.005, 0.001]\n",
    "for alpha in alphas:\n",
    "    loss_hist_train = stochastic_grad_descent(X_train, y_train, alpha=alpha, lambda_reg=lamb)[1]       \n",
    "    plt.xlabel('epochs')\n",
    "    plt.ylabel('Objective Function Loss')\n",
    "    plt.ylim(bottom=2, top=5)\n",
    "    plt.title('SGD, alpha=%s, lambda=%s' % (str(alpha), str(lamb)))\n",
    "    plt.plot([i for i in range(1, 1000+1)], loss_hist_train.mean(axis=1))\n",
    "    plt.show()\n",
    "    print(\"Final Training Loss: %s \\n\" % (str(loss_hist_train.mean(axis=1)[-1])))"
   ]
  },
  {
   "cell_type": "code",
   "execution_count": 46,
   "metadata": {},
   "outputs": [
    {
     "data": {
      "image/png": "[encoded data removed]",
      "text/plain": [
       "<Figure size 432x288 with 1 Axes>"
      ]
     },
     "metadata": {
      "needs_background": "light"
     },
     "output_type": "display_data"
    },
    {
     "name": "stdout",
     "output_type": "stream",
     "text": [
      "Final Training Loss: 4.125751955042337 \n",
      "\n"
     ]
    },
    {
     "data": {
      "image/png": "[encoded data removed]",
      "text/plain": [
       "<Figure size 432x288 with 1 Axes>"
      ]
     },
     "metadata": {
      "needs_background": "light"
     },
     "output_type": "display_data"
    },
    {
     "name": "stdout",
     "output_type": "stream",
     "text": [
      "Final Training Loss: 3.092358003893253 \n",
      "\n"
     ]
    },
    {
     "data": {
      "image/png": "[encoded data removed]",
      "text/plain": [
       "<Figure size 432x288 with 1 Axes>"
      ]
     },
     "metadata": {
      "needs_background": "light"
     },
     "output_type": "display_data"
    },
    {
     "name": "stdout",
     "output_type": "stream",
     "text": [
      "Final Training Loss: 4.131653920943756 \n",
      "\n"
     ]
    }
   ],
   "source": [
    "# Run SGD with different learning rates\n",
    "lamb = 0.01 # we are using optimal regularization parameter found from last\n",
    "    \n",
    "# try step sizes that decrease with increasing number of epochs:\n",
    "alphas = ['1/t', '1/sqrt(t)', '1/t']\n",
    "for alpha in alphas:\n",
    "    loss_hist_train = stochastic_grad_descent(X_train, y_train, alpha=alpha, lambda_reg=lamb)[1]       \n",
    "    plt.xlabel('epochs')\n",
    "    plt.ylabel('Objective Function Loss')\n",
    "    plt.ylim(bottom=2, top=5)\n",
    "    plt.title('SGD, alpha=%s, lambda=%s' % (str(alpha), str(lamb)))\n",
    "    plt.plot([i for i in range(1, 1000+1)], loss_hist_train.mean(axis=1))\n",
    "    plt.show()\n",
    "    print(\"Final Training Loss: %s \\n\" % (str(loss_hist_train.mean(axis=1)[-1])))"
   ]
  }
 ],
 "metadata": {
  "kernelspec": {
   "display_name": "Python 3",
   "language": "python",
   "name": "python3"
  },
  "language_info": {
   "codemirror_mode": {
    "name": "ipython",
    "version": 3
   },
   "file_extension": ".py",
   "mimetype": "text/x-python",
   "name": "python",
   "nbconvert_exporter": "python",
   "pygments_lexer": "ipython3",
   "version": "3.7.0"
  },
  "toc": {
   "base_numbering": 1,
   "nav_menu": {},
   "number_sections": true,
   "sideBar": true,
   "skip_h1_title": true,
   "title_cell": "Table of Contents",
   "title_sidebar": "Contents",
   "toc_cell": true,
   "toc_position": {},
   "toc_section_display": true,
   "toc_window_display": true
  }
 },
 "nbformat": 4,
 "nbformat_minor": 4
}
