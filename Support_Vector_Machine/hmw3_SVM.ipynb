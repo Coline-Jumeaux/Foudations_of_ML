{
 "cells": [
  {
   "cell_type": "markdown",
   "metadata": {
    "toc": true
   },
   "source": [
    "<h1>Table of Contents<span class=\"tocSkip\"></span></h1>\n",
    "<div class=\"toc\"><ul class=\"toc-item\"><li><span><a href=\"#Introduction\" data-toc-modified-id=\"Introduction-1\">Introduction</a></span></li><li><span><a href=\"#Loading-the-data\" data-toc-modified-id=\"Loading-the-data-2\">Loading the data</a></span><ul class=\"toc-item\"><li><span><a href=\"#Load-all-the-data-and-randomly-split-it-into-1500-training-examples-and-500-validation-examples.\" data-toc-modified-id=\"Load-all-the-data-and-randomly-split-it-into-1500-training-examples-and-500-validation-examples.-2.1\">Load all the data and randomly split it into 1500 training examples and 500 validation examples.</a></span></li></ul></li><li><span><a href=\"#Sparse-Representations\" data-toc-modified-id=\"Sparse-Representations-3\">Sparse Representations</a></span><ul class=\"toc-item\"><li><span><a href=\"#Function-that-converts-an-example-(e.g.-a-list-of-words)-into-a-sparse-bag-of-words-representation:\" data-toc-modified-id=\"Function-that-converts-an-example-(e.g.-a-list-of-words)-into-a-sparse-bag-of-words-representation:-3.1\">Function that converts an example (e.g. a list of words) into a sparse bag-of-words representation:</a></span></li></ul></li><li><span><a href=\"#Support-Vector-Machine-via-Pegasos\" data-toc-modified-id=\"Support-Vector-Machine-via-Pegasos-4\">Support Vector Machine via Pegasos</a></span><ul class=\"toc-item\"><li><span><a href=\"#Pegasos-algorithm\" data-toc-modified-id=\"Pegasos-algorithm-4.1\">Pegasos algorithm</a></span></li><li><span><a href=\"#Support-Vector-Machine-(SVM)\" data-toc-modified-id=\"Support-Vector-Machine-(SVM)-4.2\">Support Vector Machine (SVM)</a></span></li><li><span><a href=\"#Implementation-of-the-Pegasos-algorithm-to-run-on-a-sparse-data-representation\" data-toc-modified-id=\"Implementation-of-the-Pegasos-algorithm-to-run-on-a-sparse-data-representation-4.3\">Implementation of the Pegasos algorithm to run on a sparse data representation</a></span><ul class=\"toc-item\"><li><span><a href=\"#Version-1\" data-toc-modified-id=\"Version-1-4.3.1\">Version 1</a></span></li><li><span><a href=\"#Version-2\" data-toc-modified-id=\"Version-2-4.3.2\">Version 2</a></span></li></ul></li><li><span><a href=\"#Comparison-of-the-two-approaches\" data-toc-modified-id=\"Comparison-of-the-two-approaches-4.4\">Comparison of the two approaches</a></span></li><li><span><a href=\"#Loss-function\" data-toc-modified-id=\"Loss-function-4.5\">Loss function</a></span></li><li><span><a href=\"#Regularization-parameter-optimization\" data-toc-modified-id=\"Regularization-parameter-optimization-4.6\">Regularization parameter optimization</a></span></li><li><span><a href=\"#Score\" data-toc-modified-id=\"Score-4.7\">Score</a></span></li><li><span><a href=\"#Differentiability\" data-toc-modified-id=\"Differentiability-4.8\">Differentiability</a></span></li></ul></li><li><span><a href=\"#Error-analysis\" data-toc-modified-id=\"Error-analysis-5\">Error analysis</a></span></li><li><span><a href=\"#Features\" data-toc-modified-id=\"Features-6\">Features</a></span><ul class=\"toc-item\"><li><span><a href=\"#Stopwords\" data-toc-modified-id=\"Stopwords-6.1\">Stopwords</a></span></li><li><span><a href=\"#Loss-function-with-standard-error\" data-toc-modified-id=\"Loss-function-with-standard-error-6.2\">Loss function with standard error</a></span></li><li><span><a href=\"#Other-ideas-for-new-features:\" data-toc-modified-id=\"Other-ideas-for-new-features:-6.3\">Other ideas for new features:</a></span></li></ul></li></ul></div>"
   ]
  },
  {
   "cell_type": "markdown",
   "metadata": {},
   "source": [
    "# Homework 3: SVM and Sentiment Analysis"
   ]
  },
  {
   "cell_type": "markdown",
   "metadata": {},
   "source": [
    "Assignment for the [Foundations of Machine Learning](https://bloomberg.github.io/foml/#about) course.\n",
    "The assignment text can be found [here]()"
   ]
  },
  {
   "cell_type": "markdown",
   "metadata": {},
   "source": [
    "## Introduction"
   ]
  },
  {
   "cell_type": "markdown",
   "metadata": {},
   "source": [
    "- Goal of the assignment: perform sentiment analysis on movie reviews. We will be working with **natural language data**. \n",
    "- First, the **Pegasos algorithm** is implemented. Pegasos is essentially stochastic subgradient descent for the SVM with a particular schedule for the step-size.\n",
    "- Second, because in natural language domains we typically have huge feature spaces, we work with **sparse representations** of feature vectors, where only the non-zero entries are explicitly recorded. This will require coding the gradient and SGD code using hash tables (dictionaries in Python), rather than numpy arrays.\n",
    "- Then we will perform feature engineering to improve our model."
   ]
  },
  {
   "cell_type": "markdown",
   "metadata": {},
   "source": [
    "## Loading the data"
   ]
  },
  {
   "cell_type": "markdown",
   "metadata": {},
   "source": [
    "- We will be using the [Polarity Dataset v2.0](https://www.cs.cornell.edu/people/pabo/movie-review-data/), constructed by Pang and Lee. \n",
    "- It has the full text from 2000 movies reviews: 1000 reviews are classified as “positive” and 1000 as “negative.” - Our goal is to predict whether a review has positive or negative sentiment from the text of the review. \n",
    "- Each review is stored in a separate file: the positive reviews are in a folder called “pos”, and the negative reviews are in “neg”. "
   ]
  },
  {
   "cell_type": "markdown",
   "metadata": {},
   "source": [
    "### Load all the data and randomly split it into 1500 training examples and 500 validation examples."
   ]
  },
  {
   "cell_type": "code",
   "execution_count": 1,
   "metadata": {},
   "outputs": [],
   "source": [
    "################################Code provided in the assignment###################################################\n",
    "import os\n",
    "import numpy as np\n",
    "import pickle\n",
    "import random\n",
    "\n",
    "'''\n",
    "Note:  This code is just a hint for people who are not familiar with text processing in python. \n",
    "There is no obligation to use this code, though you may if you like. \n",
    "'''\n",
    "\n",
    "\n",
    "def folder_list(path,label):\n",
    "    '''\n",
    "    PARAMETER PATH IS THE PATH OF YOUR LOCAL FOLDER\n",
    "    '''\n",
    "    filelist = os.listdir(path)\n",
    "    review = []\n",
    "    for infile in filelist:\n",
    "        file = os.path.join(path,infile)\n",
    "        r = read_data(file)\n",
    "        r.append(label)\n",
    "        review.append(r)\n",
    "    return review\n",
    "\n",
    "def read_data(file):\n",
    "    '''\n",
    "    Read each file into a list of strings. \n",
    "    Example:\n",
    "    [\"it's\", 'a', 'curious', 'thing', \"i've\", 'found', 'that', 'when', 'willis', 'is', 'not', 'called', 'on', \n",
    "    ...'to', 'carry', 'the', 'whole', 'movie', \"he's\", 'much', 'better', 'and', 'so', 'is', 'the', 'movie']\n",
    "    '''\n",
    "    f = open(file)\n",
    "    lines = f.read().split(' ') #split each line on whitespace\n",
    "    symbols = '${}()[].,:;+-*/&|<>=~\" '\n",
    "    words = map(lambda Element: Element.translate(str.maketrans(\"\", \"\", symbols)).strip(), lines)\n",
    "    words = filter(None, words)\n",
    "    list_words = list(words)\n",
    "    return list_words\n",
    "\n",
    "###############################################\n",
    "######## YOUR CODE STARTS FROM HERE. ##########\n",
    "###############################################\n",
    "\n",
    "def shuffle_data():\n",
    "    '''\n",
    "    pos_path is where you save positive review data.\n",
    "    neg_path is where you save negative review data.\n",
    "    '''\n",
    "    pos_path = '/Users/Coline/Desktop/mlprojects/Bloomberg_foundations_of_ML/hw3-svm/data/pos'\n",
    "    neg_path = '/Users/Coline/Desktop/mlprojects/Bloomberg_foundations_of_ML/hw3-svm/data/neg'\n",
    "\n",
    "    #pos_path = r\"H:\\Ny mapp\\Literature\\Bayesian prob\\Bloomsberg lectures\\Week8\\hw3\\data\\data\\pos\"\n",
    "    #neg_path = r\"H:\\Ny mapp\\Literature\\Bayesian prob\\Bloomsberg lectures\\Week8\\hw3\\data\\data\\neg\"\n",
    "    \n",
    "    pos_review = folder_list(pos_path,1)\n",
    "    neg_review = folder_list(neg_path,-1)\n",
    "\n",
    "    review = pos_review + neg_review\n",
    "    random.shuffle(review)\n",
    "  \n",
    "    '''\n",
    "    Now you have read all the files into list 'review' and it has been shuffled.\n",
    "    Save your shuffled result by pickle.\n",
    "    *Pickle is a useful module to serialize a python object structure. \n",
    "    *Check it out. https://wiki.python.org/moin/UsingPickle\n",
    "    '''\n",
    "    train = review[:1500]\n",
    "    valid = review[1500:]\n",
    "    \n",
    "    with open('train.pkl', 'wb') as f:\n",
    "        pickle.dump(train, f)\n",
    "    \n",
    "    with open('valid.pkl', 'wb') as f:\n",
    "        pickle.dump(valid, f)\n",
    "    \n",
    "    return train, valid"
   ]
  },
  {
   "cell_type": "code",
   "execution_count": 2,
   "metadata": {},
   "outputs": [],
   "source": [
    "train, valid = shuffle_data()"
   ]
  },
  {
   "cell_type": "code",
   "execution_count": 3,
   "metadata": {},
   "outputs": [],
   "source": [
    "#load files from memory\n",
    "with open('train.pkl', 'rb') as f:\n",
    "    train = pickle.load(f)\n",
    "with open('valid.pkl', 'rb') as f:\n",
    "    valid = pickle.load(f)"
   ]
  },
  {
   "cell_type": "markdown",
   "metadata": {},
   "source": [
    "## Sparse Representations"
   ]
  },
  {
   "cell_type": "markdown",
   "metadata": {},
   "source": [
    "- The most basic way to represent text documents for machine learning is with a **“bag-of-words”** representation. \n",
    "- Here every possible word is a feature, and the value of a word feature is the number of times that word appears in the document. Of course, most words will not appear in any particular document, and those counts will be zero. \n",
    "- Rather than store a huge number of zeros, we use a **sparse representation**, in which we only store the counts that are nonzero. The counts are stored in a key/value store (such as a dictionary in Python).  \n",
    "For example, “Harry Potter and Harry Potter II” would be represented as the following Python dict: ``x={’Harry’:2, ’Potter’:2, ’and’:1, ’II’:1}``.  \n",
    "- We will be using linear classifiers of the form $f(x) = w^T x$, and we can store the $w$ vector in a sparse format as well, such as ``w={’minimal’:1.3, ’Harry’:-1.1, ’viable’:-4.2, ’and’:2.2, ’product’:9.1}``. \n",
    "- The inner product between $w$ and $x$ would only involve the features that appear in both $x$ and $w$, since whatever doesn’t appear is assumed to be zero. For this example, the inner product would be ``x[Harry] * w[Harry] + x[and] * w[and] = 2*(-1.1) + 1*(2.2)``.  "
   ]
  },
  {
   "cell_type": "markdown",
   "metadata": {},
   "source": [
    "### Function that converts an example (e.g. a list of words) into a sparse bag-of-words representation:"
   ]
  },
  {
   "cell_type": "code",
   "execution_count": 4,
   "metadata": {},
   "outputs": [],
   "source": [
    "from collections import Counter\n",
    "\n",
    "def bag_of_words(review):\n",
    "    '''\n",
    "    Converts a list of words into a sparse bag-of-words representation.\n",
    "    @Param review: list (iterable)\n",
    "    Returns a dictionary with keys=words and values=number of times the words appear\n",
    "    '''\n",
    "    cnt = Counter()\n",
    "    for word in review:\n",
    "        cnt[word] += 1\n",
    "    return cnt"
   ]
  },
  {
   "cell_type": "markdown",
   "metadata": {},
   "source": [
    "## Support Vector Machine via Pegasos"
   ]
  },
  {
   "cell_type": "markdown",
   "metadata": {},
   "source": [
    "In this question you will build an SVM using the Pegasos algorithm. To align with the notation used in the [Pegasos paper](https://ttic.uchicago.edu/~nati/Publications/PegasosMPB.pdf), we’re considering the following formulation of the SVM objective function: $$ min_{w \\in R^d} \\frac{\\lambda}{2} + \\frac{1}{m} \\sum_{i=1}^m max\\{0, 1-y_iw^Tx_i\\} $$\n",
    "\n",
    "Note that, for simplicity, we are leaving off the unregularized bias term $b$. \n",
    "\n",
    "### Pegasos algorithm\n",
    "Pegasos is stochastic subgradient descent using a step size rule $\\eta_t = \\frac{1}{\\lambda t}$. The pseudocode is given below:\n",
    "\n",
    "***\n",
    "Input: $\\lambda > 0$. Choose $w_1 = 0; t = 0$\n",
    "\n",
    "While termination condition not met  \n",
    "\n",
    "&nbsp;&nbsp;For $j = 1,...,m$ (assumes data is randomly permuted)  \n",
    "\n",
    "&nbsp;&nbsp;&nbsp;&nbsp;$t = t + 1$  \n",
    "\n",
    "&nbsp;&nbsp;&nbsp;&nbsp;$\\eta_t = \\frac{1}{t\\lambda}$;  \n",
    "\n",
    "&nbsp;&nbsp;&nbsp;&nbsp;If $y_j w^T_t x_j < 1$  \n",
    "&nbsp;&nbsp;&nbsp;&nbsp;&nbsp;&nbsp;$w_{t+1} = (1 - \\eta_t \\lambda)w_t + \\eta_t y_j x_j$  \n",
    "\n",
    "&nbsp;&nbsp;&nbsp;&nbsp;Else  \n",
    "&nbsp;&nbsp;&nbsp;&nbsp;&nbsp;&nbsp;$w_{t+1} = (1 - \\eta_t \\lambda)w_t$ \n",
    "***"
   ]
  },
  {
   "cell_type": "markdown",
   "metadata": {},
   "source": [
    "### Support Vector Machine (SVM)\n",
    "The “stochastic” SVM objective function is the SVM objective function with a single training point:  \n",
    "  \n",
    "$$J_i(w) = \\frac{\\lambda}{2} \\|w\\|^2 + max\\{0, 1-y_iw^Tx_i\\}$$   \n",
    "The function  $J_i(w)$ is not differentiable at $y_i w^T x_i = 1$ ."
   ]
  },
  {
   "cell_type": "markdown",
   "metadata": {},
   "source": [
    "A subgradient of $J_i(w)$ is given by \n",
    "\n",
    "$$ g =\n",
    "  \\begin{cases}\n",
    "    \\lambda w - y_i x_i       & \\quad \\text{for } y_i w^T x_i < 1 \\\\\n",
    "    \\lambda w  & \\quad \\text{for } y_i w^T x_i \\geq 1\n",
    "  \\end{cases}\n",
    "$$"
   ]
  },
  {
   "cell_type": "markdown",
   "metadata": {},
   "source": [
    "If the step size rule is $\\eta_t = \\frac{1}{\\lambda t}$, then doing SGD with the subgradient direction from the previous problem is the same as given in the pseudocode."
   ]
  },
  {
   "cell_type": "markdown",
   "metadata": {},
   "source": [
    "### Implementation of the Pegasos algorithm to run on a sparse data representation"
   ]
  },
  {
   "cell_type": "code",
   "execution_count": 5,
   "metadata": {},
   "outputs": [],
   "source": [
    "#########################################code given in the assignment#############################################\n",
    "# Taken from http://web.stanford.edu/class/cs221/ Assignment #2 Support Code\n",
    "\n",
    "def dotProduct(d1, d2):\n",
    "    \"\"\"\n",
    "    @param dict d1: a feature vector represented by a mapping from a feature (string) to a weight (float).\n",
    "    @param dict d2: same as d1\n",
    "    @return float: the dot product between d1 and d2\n",
    "    \"\"\"\n",
    "    if len(d1) < len(d2):\n",
    "        return dotProduct(d2, d1)\n",
    "    else:\n",
    "        return sum(d1.get(f, 0) * v for f, v in d2.items())\n",
    "\n",
    "def increment(d1, scale, d2):\n",
    "    \"\"\"\n",
    "    Implements d1 += scale * d2 for sparse vectors.\n",
    "    @param dict d1: the feature vector which is mutated.\n",
    "    @param float scale\n",
    "    @param dict d2: a feature vector.\n",
    "\n",
    "    NOTE: This function does not return anything, but rather\n",
    "    increments d1 in place. We do this because it is much faster to\n",
    "    change elements of d1 in place than to build a new dictionary and\n",
    "    return it.\n",
    "    \"\"\"\n",
    "    for f, v in d2.items():\n",
    "        d1[f] = d1.get(f, 0) + v * scale\n",
    "        \n",
    "#########################################end of code given in the assignment#####################################"
   ]
  },
  {
   "cell_type": "markdown",
   "metadata": {},
   "source": [
    "#### Version 1"
   ]
  },
  {
   "cell_type": "code",
   "execution_count": 6,
   "metadata": {},
   "outputs": [],
   "source": [
    "def pegasos(train, epoch, l_reg=0.1):\n",
    "    '''\n",
    "    Implements Pegasos algorithm running on sparse data representation. \n",
    "    @param train: list of lists, each list contains single words from the review\n",
    "    @param epoch: number of epochs, integer\n",
    "    @param l_reg: regularization parameter lambda, float\n",
    "    \n",
    "    The weight dictionnary w is initialized as an empty dictionnary. \n",
    "    For each epoch, the algorithm passes through each datapoint of the randomized dataset and the step size \n",
    "    is decreased by a factor of 1/t (t increments after each datapoint).\n",
    "    Each datapoint is transformed into a bag of words using the bag_of_words function, and the label y_j is \n",
    "    extracted. The gradient is calculated using the appropriate subgradient, defined by the value of the\n",
    "    margin (calculated using the dotProduct function). The weight dictionnary is updated with the gradient\n",
    "    and step size using the increment function.\n",
    "    '''\n",
    "    w = {}\n",
    "    t = 0\n",
    "\n",
    "    for i in range(epoch):\n",
    "        \n",
    "        if i%10 == 0:\n",
    "            print(\"Epoch: {}\".format(i))\n",
    "        \n",
    "        for j in range(len(train)):\n",
    "            t = t+1\n",
    "            step = 1/(l_reg*t)\n",
    "            x_j = bag_of_words(train[j][:-1])\n",
    "            y_j = train[j][-1]                   #The label is the last entry in the list\n",
    "            margin = y_j*dotProduct(w,x_j)\n",
    "        \n",
    "            if margin < 1:\n",
    "                increment(w, -step*l_reg, w)\n",
    "                increment(w, step*y_j, x_j)\n",
    "            \n",
    "            else:\n",
    "                increment(w, -step*l_reg, w)\n",
    "        \n",
    "    return w"
   ]
  },
  {
   "cell_type": "code",
   "execution_count": 7,
   "metadata": {},
   "outputs": [
    {
     "name": "stdout",
     "output_type": "stream",
     "text": [
      "Epoch: 0\n"
     ]
    }
   ],
   "source": [
    "w1 = pegasos(train, epoch=2, l_reg=0.01)"
   ]
  },
  {
   "cell_type": "markdown",
   "metadata": {},
   "source": [
    "#### Version 2"
   ]
  },
  {
   "cell_type": "markdown",
   "metadata": {},
   "source": [
    "- Note that in every step of the Pegasos algorithm, we rescale every entry of $w_t$ by the factor $(1 − \\eta_t \\lambda)$. \n",
    "- Implementing this directly with dictionaries is very slow. \n",
    "- We can make things significantly faster by representing $w$ as $w = sW$, where $s \\in R$ and $W \\in R^d$. \n",
    "- You can start with $s = 1$ and $W$ all zeros (i.e. an empty dictionary). Note that both updates (i.e. whether or not we have a margin error) start with rescaling $w_t$, which we can do simply by setting $s_{t+1} = (1 − \\eta_t \\lambda)s_t$. If the update is $w_{t+1} = (1 − \\eta_t \\lambda)w_t + \\eta_t y_j x_j$, then **verify that the Pegasos update step is equivalent to**:  \n",
    "\n",
    "$$s_{t+1} = (1 − \\eta_t \\lambda)s_t$$\n",
    "$$W_{t+1} = W_t + \\frac{1}{s_{t+1}} \\eta_t y_j x_j.$$\n",
    "\n",
    "There is one subtle issue with the approach described above: if we ever have $1 − \\eta_t \\lambda = 0$, then $s_{t+1} = 0$, and we’ll have a divide by 0 in the calculation for $W_{t+1}$. This only happens when $\\eta_t = 1/\\lambda$. With our step-size rule of $\\eta_t = 1/\\lambda t$, it happens exactly when $t = 1$. So one approach is to just start at $t = 2$. More generically, note that if $s_{t+1} = 0$, then $w_{t+1} = 0$. Thus an equivalent representation is $s_{t+1} = 1$ and $W = 0$. Thus if we ever get $s_{t+1} = 0$, simply set it back to 1 and reset $W_{t+1}$ to zero, which is an empty dictionary in a sparse representation.  \n",
    "Implement the Pegasos algorithm with the $(s, W)$ representation described above. [See section 5.1 of Leon Bottou’s Stochastic Gradient Tricks for a more generic version of this technique, and many other useful tricks.]"
   ]
  },
  {
   "cell_type": "code",
   "execution_count": 9,
   "metadata": {},
   "outputs": [],
   "source": [
    "def pegasos_v2(train, valid, epoch, l_reg=0.1, tol=1e-9):\n",
    "    '''\n",
    "    pegasos_v2 function implements Pegasos algorithm running on sparse data representation. \n",
    "    @param train: list of lists, each list contains single words from the review. Training set\n",
    "    @param valid: list of lists, each list contains single words from the review. Validation set\n",
    "    @param epoch: number of epochs, integer\n",
    "    @param l_reg: regularization parameter lambda, float\n",
    "    @param tol: tolerance level for estimation of convergence, float\n",
    "    \n",
    "    The weight dictionnary w is represented as w=sW, where s in is R and W is in Rd. \n",
    "    The parameters initialization is s=1 and W empty dictionary.\n",
    "    '''\n",
    "    s = 1\n",
    "    W = {}\n",
    "    t = 1\n",
    "    w = {}\n",
    "\n",
    "    for i in range(epoch):\n",
    "         \n",
    "        #Storing the weight vector to perform estimation of convergence after each epoch\n",
    "        w_old = W.copy() \n",
    "        for a,b in w_old.items():\n",
    "            w_old[a] = b*s_new\n",
    "\n",
    "        for j in range(len(train)):\n",
    "            t = t+1\n",
    "            step = 1/(l_reg*t)\n",
    "            x_j = bag_of_words(train[j][:-1])\n",
    "            y_j = train[j][-1]\n",
    "             \n",
    "            margin = s*y_j*dotProduct(W,x_j)\n",
    "            \n",
    "            if margin < 1:\n",
    "                s_new = s*(1-step*l_reg)\n",
    "                increment(W, (step*y_j)/s_new, x_j)\n",
    "                s = s_new\n",
    "            \n",
    "            else:\n",
    "                s_new = s*(1-step*l_reg)\n",
    "                s = s_new    \n",
    "            \n",
    "        \n",
    "        if i%100 == 0:\n",
    "            print(\"Epoch: {}\".format(i))\n",
    "            w = W.copy()\n",
    "            for a,b in w.items():\n",
    "                w[a] = b*s_new\n",
    "            loss_val = loss(valid,w)\n",
    "            print('The model classified {}% of the examples correctly'.format(loss_val))\n",
    "        \n",
    "        #Testing for convergence:\n",
    "        if i != 0: \n",
    "            list_weights_diff = []\n",
    "            w = W.copy()\n",
    "            for a,b in w.items():\n",
    "                w[a] = b*s_new\n",
    "            for k, v in w_old.items():\n",
    "                list_weights_diff.append(np.abs(w.get(k, 0) - w_old[k])) \n",
    "        \n",
    "            if np.all(np.asarray(list_weights_diff) < tol):\n",
    "                print('converged')\n",
    "                break   \n",
    "    return w"
   ]
  },
  {
   "cell_type": "markdown",
   "metadata": {},
   "source": [
    "### Comparison of the two approaches"
   ]
  },
  {
   "cell_type": "code",
   "execution_count": 10,
   "metadata": {},
   "outputs": [
    {
     "name": "stdout",
     "output_type": "stream",
     "text": [
      "Epoch: 0\n",
      "CPU times: user 23.3 s, sys: 163 ms, total: 23.4 s\n",
      "Wall time: 23.8 s\n"
     ]
    }
   ],
   "source": [
    "%time w1 = pegasos(train, epoch=2, l_reg=0.01)"
   ]
  },
  {
   "cell_type": "code",
   "execution_count": 11,
   "metadata": {},
   "outputs": [
    {
     "name": "stdout",
     "output_type": "stream",
     "text": [
      "Epoch: 0\n",
      "The model classified 63.6% of the examples correctly\n",
      "CPU times: user 1.61 s, sys: 15.4 ms, total: 1.63 s\n",
      "Wall time: 1.63 s\n"
     ]
    }
   ],
   "source": [
    "%time w2 = pegasos_v2(train, valid, epoch=2, l_reg=0.01)"
   ]
  },
  {
   "cell_type": "code",
   "execution_count": 12,
   "metadata": {},
   "outputs": [
    {
     "data": {
      "text/plain": [
       "62.4"
      ]
     },
     "execution_count": 12,
     "metadata": {},
     "output_type": "execute_result"
    }
   ],
   "source": [
    "loss(valid, w1)"
   ]
  },
  {
   "cell_type": "code",
   "execution_count": 13,
   "metadata": {},
   "outputs": [
    {
     "data": {
      "text/plain": [
       "62.4"
      ]
     },
     "execution_count": 13,
     "metadata": {},
     "output_type": "execute_result"
    }
   ],
   "source": [
    "loss(valid, w2)"
   ]
  },
  {
   "cell_type": "code",
   "execution_count": 14,
   "metadata": {},
   "outputs": [
    {
     "data": {
      "text/plain": [
       "True"
      ]
     },
     "execution_count": 14,
     "metadata": {},
     "output_type": "execute_result"
    }
   ],
   "source": [
    "#Looking at the content of the weight dicts:\n",
    "list_weights_diff = []\n",
    "for k, v in w1.items():\n",
    "    list_weights_diff.append(np.abs(w2.get(k, 0) - w1[k]))\n",
    "np.all(np.asarray(list_weights_diff) < 1e-2)"
   ]
  },
  {
   "cell_type": "markdown",
   "metadata": {},
   "source": [
    "- When expressing the vector $w_t$ as the product $s_tW_t$, where s is a scalar, as was done in pegasos_v2 algorithm, the algorithm is sped up by a factor of 14, which is significantly faster.\n",
    "- The performance of the algorithms was equivalent: they had the same classification error on the training set, and the weight vectors were very similar.\n",
    "- In the rest of this assignement, I will use pegasos_v2"
   ]
  },
  {
   "cell_type": "markdown",
   "metadata": {},
   "source": [
    "### Loss function"
   ]
  },
  {
   "cell_type": "code",
   "execution_count": 8,
   "metadata": {},
   "outputs": [],
   "source": [
    "def loss(valid, w):\n",
    "    '''\n",
    "    function that takes a sparse weight vector w and a collection of (x,y) pairs,\n",
    "    and returns the percent error when predicting y using sign(w^Tx). \n",
    "    In other words, the function reports the 0-1 loss of the linear predictor x -> w^Tx.\n",
    "    '''\n",
    "    count = 0\n",
    "    for i in range(len(valid)):\n",
    "        y_i = valid[i][-1]\n",
    "        x_i = bag_of_words(valid[i][:-1])\n",
    "        pred = dotProduct(w,x_i)\n",
    "        \n",
    "        if (pred/y_i) > 0: #occurs when y_i and w^Tx_i have the same sign (ie correct prediction)\n",
    "            count += 1\n",
    "            \n",
    "    percent = (count/(len(valid)))*100\n",
    "    \n",
    "    return percent"
   ]
  },
  {
   "cell_type": "markdown",
   "metadata": {},
   "source": [
    "### Regularization parameter optimization\n",
    "\n",
    "- Using the bag-of-words feature representation described above, search for the regularization parameter that gives the minimal percent error on your test set. \n",
    "- Using the faster Pegasos implementation, running to convergence. "
   ]
  },
  {
   "cell_type": "code",
   "execution_count": 15,
   "metadata": {},
   "outputs": [
    {
     "name": "stdout",
     "output_type": "stream",
     "text": [
      "Epoch: 0\n",
      "The model classified 51.0% of the examples correctly\n",
      "Epoch: 100\n",
      "The model classified 81.6% of the examples correctly\n",
      "Epoch: 200\n",
      "The model classified 81.6% of the examples correctly\n",
      "Epoch: 0\n",
      "The model classified 51.0% of the examples correctly\n",
      "Epoch: 100\n",
      "The model classified 81.6% of the examples correctly\n",
      "Epoch: 200\n",
      "The model classified 79.60000000000001% of the examples correctly\n",
      "Epoch: 0\n",
      "The model classified 51.0% of the examples correctly\n",
      "Epoch: 100\n",
      "The model classified 82.19999999999999% of the examples correctly\n",
      "Epoch: 200\n",
      "The model classified 82.19999999999999% of the examples correctly\n",
      "Epoch: 0\n",
      "The model classified 51.0% of the examples correctly\n",
      "Epoch: 100\n",
      "The model classified 80.2% of the examples correctly\n",
      "converged\n",
      "Epoch: 0\n",
      "The model classified 63.6% of the examples correctly\n",
      "converged\n",
      "Epoch: 0\n",
      "The model classified 69.19999999999999% of the examples correctly\n",
      "converged\n",
      "Epoch: 0\n",
      "The model classified 57.4% of the examples correctly\n",
      "converged\n",
      "Epoch: 0\n",
      "The model classified 63.0% of the examples correctly\n",
      "converged\n",
      "Epoch: 0\n",
      "The model classified 53.400000000000006% of the examples correctly\n",
      "converged\n",
      "Epoch: 0\n",
      "The model classified 56.8% of the examples correctly\n",
      "converged\n",
      "Epoch: 0\n",
      "The model classified 62.0% of the examples correctly\n",
      "converged\n",
      "Epoch: 0\n",
      "The model classified 56.599999999999994% of the examples correctly\n",
      "converged\n",
      "Epoch: 0\n",
      "The model classified 60.8% of the examples correctly\n",
      "converged\n"
     ]
    }
   ],
   "source": [
    "#Range of lambda values\n",
    "l_reg_arr = np.unique(np.concatenate((10.**np.arange(-6,1,1), np.arange(1,3,.3))))\n",
    "\n",
    "#Initialize values\n",
    "w_history = []\n",
    "loss_history = []\n",
    "\n",
    "#Run SVM algo for each lambda\n",
    "for l_reg in l_reg_arr:\n",
    "    w = pegasos_v2(train, valid, epoch=250, l_reg=l_reg, tol=1e-2)\n",
    "    w_history.append(w)\n",
    "    \n",
    "    #Calculate misclassification percentage for each lambda\n",
    "    loss_val = 100-loss(valid, w)\n",
    "    loss_history.append(loss_val)"
   ]
  },
  {
   "cell_type": "code",
   "execution_count": 16,
   "metadata": {},
   "outputs": [
    {
     "name": "stdout",
     "output_type": "stream",
     "text": [
      "    Param_l_reg  Classification error\n",
      "0      0.000001                  18.4\n",
      "1      0.000010                  18.6\n",
      "2      0.000100                  17.8\n",
      "3      0.001000                  18.4\n",
      "4      0.010000                  18.2\n",
      "5      0.100000                  18.0\n",
      "6      1.000000                  24.4\n",
      "7      1.300000                  23.4\n",
      "8      1.600000                  25.0\n",
      "9      1.900000                  24.6\n",
      "10     2.200000                  26.2\n",
      "11     2.500000                  25.6\n",
      "12     2.800000                  27.0\n",
      "The regression parameter that minimizes test loss was 1.00e-04.\n"
     ]
    }
   ],
   "source": [
    "#Present the results in a table\n",
    "import pandas as pd\n",
    "df_error = pd.DataFrame({'Param_l_reg': l_reg_arr, 'Classification error': loss_history})\n",
    "\n",
    "print(df_error)\n",
    "\n",
    "min_idx = df_error['Classification error'].idxmin()\n",
    "print('The regression parameter that minimizes test loss was {:.2e}.'.format(df_error['Param_l_reg'][min_idx]))"
   ]
  },
  {
   "cell_type": "code",
   "execution_count": 17,
   "metadata": {},
   "outputs": [
    {
     "data": {
      "text/plain": [
       "Text(0, 0.5, 'Classification error')"
      ]
     },
     "execution_count": 17,
     "metadata": {},
     "output_type": "execute_result"
    },
    {
     "data": {
      "image/png": "[encoded data removed]",
      "text/plain": [
       "<Figure size 432x288 with 1 Axes>"
      ]
     },
     "metadata": {
      "needs_background": "light"
     },
     "output_type": "display_data"
    }
   ],
   "source": [
    "import matplotlib.pyplot as plt\n",
    "# Plot validation performance vs regularization parameter\n",
    "fig, ax = plt.subplots()\n",
    "\n",
    "ax.semilogx(df_error[\"Param_l_reg\"], df_error[\"Classification error\"])\n",
    "ax.grid()\n",
    "ax.set_title(\"Test Performance vs Regularization\")\n",
    "ax.set_xlabel(\"L-Penalty Regularization Parameter\")\n",
    "ax.set_ylabel(\"Classification error\")"
   ]
  },
  {
   "cell_type": "markdown",
   "metadata": {},
   "source": [
    "In summary, the regularization parameters in the range [1e-4,1e-2] achieved the best performance for the model."
   ]
  },
  {
   "cell_type": "markdown",
   "metadata": {},
   "source": [
    "### Score"
   ]
  },
  {
   "cell_type": "markdown",
   "metadata": {},
   "source": [
    "Score is the value of the prediction $f(x) = w^Tx$  \n",
    "Does the magnitude of the score represent the confidence of the prediction?"
   ]
  },
  {
   "cell_type": "code",
   "execution_count": 18,
   "metadata": {},
   "outputs": [
    {
     "name": "stdout",
     "output_type": "stream",
     "text": [
      "Epoch: 0\n",
      "The model classified 63.6% of the examples correctly\n",
      "converged\n"
     ]
    }
   ],
   "source": [
    "#Run pegasos_v2 with optimized regularization parameter\n",
    "w = pegasos_v2(train, valid, epoch=250, l_reg=1e-2, tol=1e-2)\n",
    "\n",
    "#Initiate arrays to store the score and error for each example\n",
    "score = np.zeros(len(valid))\n",
    "error = np.zeros(len(valid))\n",
    "\n",
    "for i in range(len(valid)):\n",
    "    y_i = valid[i][-1]\n",
    "    x_i = bag_of_words(valid[i][:-1])\n",
    "    score[i] = dotProduct(w,x_i)\n",
    "    if (score[i]/y_i) > 0:\n",
    "        error[i] = 0\n",
    "    else:\n",
    "        error[i] = 1 \n",
    "\n",
    "score_df = pd.DataFrame({'score':score, 'error': error})"
   ]
  },
  {
   "cell_type": "code",
   "execution_count": 19,
   "metadata": {},
   "outputs": [
    {
     "data": {
      "text/html": [
       "<div>\n",
       "<style scoped>\n",
       "    .dataframe tbody tr th:only-of-type {\n",
       "        vertical-align: middle;\n",
       "    }\n",
       "\n",
       "    .dataframe tbody tr th {\n",
       "        vertical-align: top;\n",
       "    }\n",
       "\n",
       "    .dataframe thead th {\n",
       "        text-align: right;\n",
       "    }\n",
       "</style>\n",
       "<table border=\"1\" class=\"dataframe\">\n",
       "  <thead>\n",
       "    <tr style=\"text-align: right;\">\n",
       "      <th></th>\n",
       "      <th>count</th>\n",
       "      <th>sum</th>\n",
       "      <th>error ratio (%)</th>\n",
       "    </tr>\n",
       "    <tr>\n",
       "      <th>score</th>\n",
       "      <th></th>\n",
       "      <th></th>\n",
       "      <th></th>\n",
       "    </tr>\n",
       "  </thead>\n",
       "  <tbody>\n",
       "    <tr>\n",
       "      <th>(-10.318999999999999, -3.678]</th>\n",
       "      <td>50.0</td>\n",
       "      <td>2.0</td>\n",
       "      <td>4.0</td>\n",
       "    </tr>\n",
       "    <tr>\n",
       "      <th>(-3.678, -2.695]</th>\n",
       "      <td>50.0</td>\n",
       "      <td>4.0</td>\n",
       "      <td>8.0</td>\n",
       "    </tr>\n",
       "    <tr>\n",
       "      <th>(-2.695, -1.715]</th>\n",
       "      <td>50.0</td>\n",
       "      <td>7.0</td>\n",
       "      <td>14.0</td>\n",
       "    </tr>\n",
       "    <tr>\n",
       "      <th>(-1.715, -0.957]</th>\n",
       "      <td>50.0</td>\n",
       "      <td>15.0</td>\n",
       "      <td>30.0</td>\n",
       "    </tr>\n",
       "    <tr>\n",
       "      <th>(-0.957, -0.216]</th>\n",
       "      <td>50.0</td>\n",
       "      <td>19.0</td>\n",
       "      <td>38.0</td>\n",
       "    </tr>\n",
       "    <tr>\n",
       "      <th>(-0.216, 0.491]</th>\n",
       "      <td>50.0</td>\n",
       "      <td>26.0</td>\n",
       "      <td>52.0</td>\n",
       "    </tr>\n",
       "    <tr>\n",
       "      <th>(0.491, 1.325]</th>\n",
       "      <td>50.0</td>\n",
       "      <td>10.0</td>\n",
       "      <td>20.0</td>\n",
       "    </tr>\n",
       "    <tr>\n",
       "      <th>(1.325, 2.175]</th>\n",
       "      <td>50.0</td>\n",
       "      <td>6.0</td>\n",
       "      <td>12.0</td>\n",
       "    </tr>\n",
       "    <tr>\n",
       "      <th>(2.175, 3.712]</th>\n",
       "      <td>50.0</td>\n",
       "      <td>2.0</td>\n",
       "      <td>4.0</td>\n",
       "    </tr>\n",
       "    <tr>\n",
       "      <th>(3.712, 12.184]</th>\n",
       "      <td>50.0</td>\n",
       "      <td>0.0</td>\n",
       "      <td>0.0</td>\n",
       "    </tr>\n",
       "  </tbody>\n",
       "</table>\n",
       "</div>"
      ],
      "text/plain": [
       "                               count   sum  error ratio (%)\n",
       "score                                                      \n",
       "(-10.318999999999999, -3.678]   50.0   2.0              4.0\n",
       "(-3.678, -2.695]                50.0   4.0              8.0\n",
       "(-2.695, -1.715]                50.0   7.0             14.0\n",
       "(-1.715, -0.957]                50.0  15.0             30.0\n",
       "(-0.957, -0.216]                50.0  19.0             38.0\n",
       "(-0.216, 0.491]                 50.0  26.0             52.0\n",
       "(0.491, 1.325]                  50.0  10.0             20.0\n",
       "(1.325, 2.175]                  50.0   6.0             12.0\n",
       "(2.175, 3.712]                  50.0   2.0              4.0\n",
       "(3.712, 12.184]                 50.0   0.0              0.0"
      ]
     },
     "execution_count": 19,
     "metadata": {},
     "output_type": "execute_result"
    }
   ],
   "source": [
    "#Divide the scores in groups of equal size\n",
    "quantiles = pd.qcut(score_df['score'], 10)\n",
    "\n",
    "#Function returning the count of elements in each group and the sum of errors\n",
    "def get_stats(group):\n",
    "    return {'count': group.count(), 'sum': group.sum()}\n",
    "\n",
    "#Group the dataset and apply the count and sum\n",
    "grouped = score_df['error'].groupby(quantiles)\n",
    "\n",
    "df = grouped.apply(get_stats).unstack()\n",
    "\n",
    "df['error ratio (%)'] = (df['sum']/df['count'])*100\n",
    "df"
   ]
  },
  {
   "cell_type": "code",
   "execution_count": 20,
   "metadata": {},
   "outputs": [
    {
     "data": {
      "text/html": [
       "<div>\n",
       "<style scoped>\n",
       "    .dataframe tbody tr th:only-of-type {\n",
       "        vertical-align: middle;\n",
       "    }\n",
       "\n",
       "    .dataframe tbody tr th {\n",
       "        vertical-align: top;\n",
       "    }\n",
       "\n",
       "    .dataframe thead th {\n",
       "        text-align: right;\n",
       "    }\n",
       "</style>\n",
       "<table border=\"1\" class=\"dataframe\">\n",
       "  <thead>\n",
       "    <tr style=\"text-align: right;\">\n",
       "      <th></th>\n",
       "      <th>count</th>\n",
       "      <th>sum</th>\n",
       "      <th>error ratio (%)</th>\n",
       "    </tr>\n",
       "    <tr>\n",
       "      <th>score</th>\n",
       "      <th></th>\n",
       "      <th></th>\n",
       "      <th></th>\n",
       "    </tr>\n",
       "  </thead>\n",
       "  <tbody>\n",
       "    <tr>\n",
       "      <th>[-50, -2)</th>\n",
       "      <td>132.0</td>\n",
       "      <td>8.0</td>\n",
       "      <td>6.060606</td>\n",
       "    </tr>\n",
       "    <tr>\n",
       "      <th>[-2, 0)</th>\n",
       "      <td>132.0</td>\n",
       "      <td>47.0</td>\n",
       "      <td>35.606061</td>\n",
       "    </tr>\n",
       "    <tr>\n",
       "      <th>[0, 1)</th>\n",
       "      <td>72.0</td>\n",
       "      <td>28.0</td>\n",
       "      <td>38.888889</td>\n",
       "    </tr>\n",
       "    <tr>\n",
       "      <th>[1, 2)</th>\n",
       "      <td>50.0</td>\n",
       "      <td>5.0</td>\n",
       "      <td>10.000000</td>\n",
       "    </tr>\n",
       "    <tr>\n",
       "      <th>[2, 50)</th>\n",
       "      <td>114.0</td>\n",
       "      <td>3.0</td>\n",
       "      <td>2.631579</td>\n",
       "    </tr>\n",
       "  </tbody>\n",
       "</table>\n",
       "</div>"
      ],
      "text/plain": [
       "           count   sum  error ratio (%)\n",
       "score                                  \n",
       "[-50, -2)  132.0   8.0         6.060606\n",
       "[-2, 0)    132.0  47.0        35.606061\n",
       "[0, 1)      72.0  28.0        38.888889\n",
       "[1, 2)      50.0   5.0        10.000000\n",
       "[2, 50)    114.0   3.0         2.631579"
      ]
     },
     "execution_count": 20,
     "metadata": {},
     "output_type": "execute_result"
    }
   ],
   "source": [
    "#Divide the scores in groups of different size but more meaningful bins\n",
    "bins = [-50, -2,0,1,2, 50]\n",
    "cats = pd.cut(score_df['score'], bins, right=False)\n",
    "grouped2 = score_df['error'].groupby(cats)\n",
    "df2 = grouped2.apply(get_stats).unstack()\n",
    "df2['error ratio (%)'] = (df2['sum']/df2['count'])*100\n",
    "df2"
   ]
  },
  {
   "cell_type": "markdown",
   "metadata": {},
   "source": [
    "Groups with small score amplitude (score in [-2,2)) have the highest error ratio. Higher magnitude scores lead to higher accuracy."
   ]
  },
  {
   "cell_type": "markdown",
   "metadata": {},
   "source": [
    "### Differentiability\n",
    "\n",
    "- The objective function is not differentiable when $y_iw^Tx_i = 1$. \n",
    "- How often and when do we have  $y_iw^Tx_i = 1$ (or perhaps within a small distance of 1)\n",
    "- If we didn’t know about subgradients, one might suggest just skipping the update when  $y_iw^Tx_i = 1$. Does this seem reasonable? What about shortening the step size by a small percentage?"
   ]
  },
  {
   "cell_type": "code",
   "execution_count": 21,
   "metadata": {},
   "outputs": [],
   "source": [
    "#Modified pegasos algo that counts the frequency of yiwTxi close to 1 \n",
    "\n",
    "def pegasos_v3(train, valid, epoch, l_reg=0.01, tol=1e-9):\n",
    "    '''\n",
    "    pegasos_v3 function implements Pegasos algorithm running on sparse data representation. \n",
    "    @param train: list of lists, each list contains single words from the review. Training set\n",
    "    @param valid: list of lists, each list contains single words from the review. Validation set\n",
    "    @param epoch: number of epochs, integer\n",
    "    @param l_reg: regularization parameter lambda, float\n",
    "    @param tol: tolerance level for estimation of convergence, float\n",
    "    \n",
    "    The weight dictionnary w is represented as w=sW, where s in is R and W is in Rd. \n",
    "    The parameters initialization is s=1 and W empty dictionary.\n",
    "    '''\n",
    "    s = 1\n",
    "    W = {}\n",
    "    t = 1\n",
    "    w = {}\n",
    "    cnt = 0\n",
    "\n",
    "    for i in range(epoch):\n",
    "         \n",
    "        #Storing the weight vector to perform estimation of convergence after each epoch\n",
    "        w_old = W.copy() \n",
    "        for a,b in w_old.items():\n",
    "            w_old[a] = b*s_new\n",
    "\n",
    "        for j in range(len(train)):\n",
    "            t = t+1\n",
    "            step = 1/(l_reg*t)\n",
    "            x_j = bag_of_words(train[j][:-1])\n",
    "            y_j = train[j][-1]\n",
    "             \n",
    "            margin = s*y_j*dotProduct(W,x_j)\n",
    "            \n",
    "            diff = np.abs(1-margin)\n",
    "            if diff < 1e-2:\n",
    "                cnt += 1\n",
    "            \n",
    "            if margin < 1:\n",
    "                s_new = s*(1-step*l_reg)\n",
    "                increment(W, (step*y_j)/s_new, x_j)\n",
    "                s = s_new\n",
    "            \n",
    "            else:\n",
    "                s_new = s*(1-step*l_reg)\n",
    "                s = s_new    \n",
    "            \n",
    "        \n",
    "        if i%100 == 0:\n",
    "            print(\"Epoch: {}\".format(i))\n",
    "            w = W.copy()\n",
    "            for a,b in w.items():\n",
    "                w[a] = b*s_new\n",
    "            loss_val = loss(valid,w)\n",
    "            print('The model classified {}% of the examples correctly'.format(loss_val))\n",
    "        \n",
    "        #Testing for convergence:\n",
    "        if i != 0: \n",
    "            list_weights_diff = []\n",
    "            w = W.copy()\n",
    "            for a,b in w.items():\n",
    "                w[a] = b*s_new\n",
    "            for k, v in w_old.items():\n",
    "                list_weights_diff.append(np.abs(w.get(k, 0) - w_old[k])) \n",
    "        \n",
    "            if np.all(np.asarray(list_weights_diff) < tol):\n",
    "                print('converged')\n",
    "                break   \n",
    "    return w, i, cnt"
   ]
  },
  {
   "cell_type": "code",
   "execution_count": 22,
   "metadata": {},
   "outputs": [
    {
     "name": "stdout",
     "output_type": "stream",
     "text": [
      "Epoch: 0\n",
      "The model classified 63.6% of the examples correctly\n",
      "Epoch: 100\n",
      "The model classified 82.0% of the examples correctly\n",
      "Epoch: 200\n",
      "The model classified 81.8% of the examples correctly\n"
     ]
    }
   ],
   "source": [
    "w, epoch, cnt = pegasos_v3(train, valid, epoch=300, l_reg=0.01, tol=1e-5)"
   ]
  },
  {
   "cell_type": "code",
   "execution_count": 23,
   "metadata": {},
   "outputs": [
    {
     "name": "stdout",
     "output_type": "stream",
     "text": [
      "There were 1976 occurences of the margin being close to 1 (tolerance 1e-2), while we cycled 300 times through 1500 training examples, which corresponds to a frequency of 0.44 %\n"
     ]
    }
   ],
   "source": [
    "frequency = (cnt / (epoch * len(train)))*100\n",
    "\n",
    "print(\"There were {0} occurences of the margin being close to 1 (tolerance 1e-2), while we cycled {1} times through {2} training examples, which corresponds to a frequency of {3:.2f} %\".format(cnt,epoch+1, len(train), frequency))"
   ]
  },
  {
   "cell_type": "markdown",
   "metadata": {},
   "source": [
    "## Error analysis\n",
    "\n",
    "Why does the model get results wrong? Detailed analysis of two examples:"
   ]
  },
  {
   "cell_type": "code",
   "execution_count": 24,
   "metadata": {},
   "outputs": [
    {
     "data": {
      "text/plain": [
       "[0,\n",
       " 1,\n",
       " 14,\n",
       " 15,\n",
       " 19,\n",
       " 40,\n",
       " 46,\n",
       " 58,\n",
       " 65,\n",
       " 83,\n",
       " 97,\n",
       " 98,\n",
       " 106,\n",
       " 114,\n",
       " 122,\n",
       " 128,\n",
       " 129,\n",
       " 134,\n",
       " 137,\n",
       " 143]"
      ]
     },
     "execution_count": 24,
     "metadata": {},
     "output_type": "execute_result"
    }
   ],
   "source": [
    "#Make a list of indices corresponding to inputs that were predicted wrong:\n",
    "\n",
    "list_idx = []\n",
    "for i in range(len(valid)):\n",
    "    y_i = valid[i][-1]\n",
    "    x_i = bag_of_words(valid[i][:-1])\n",
    "    pred = dotProduct(w,x_i)\n",
    "    if pred/y_i < 0:\n",
    "        list_idx.append(i)\n",
    "list_idx[:20]"
   ]
  },
  {
   "cell_type": "code",
   "execution_count": 25,
   "metadata": {},
   "outputs": [
    {
     "data": {
      "text/html": [
       "<div>\n",
       "<style scoped>\n",
       "    .dataframe tbody tr th:only-of-type {\n",
       "        vertical-align: middle;\n",
       "    }\n",
       "\n",
       "    .dataframe tbody tr th {\n",
       "        vertical-align: top;\n",
       "    }\n",
       "\n",
       "    .dataframe thead th {\n",
       "        text-align: right;\n",
       "    }\n",
       "</style>\n",
       "<table border=\"1\" class=\"dataframe\">\n",
       "  <thead>\n",
       "    <tr style=\"text-align: right;\">\n",
       "      <th></th>\n",
       "      <th>score</th>\n",
       "      <th>weight</th>\n",
       "      <th>feature_value</th>\n",
       "      <th>feature_name</th>\n",
       "    </tr>\n",
       "  </thead>\n",
       "  <tbody>\n",
       "    <tr>\n",
       "      <th>36</th>\n",
       "      <td>0.421332</td>\n",
       "      <td>0.052667</td>\n",
       "      <td>8</td>\n",
       "      <td>he</td>\n",
       "    </tr>\n",
       "    <tr>\n",
       "      <th>149</th>\n",
       "      <td>0.351110</td>\n",
       "      <td>0.087778</td>\n",
       "      <td>4</td>\n",
       "      <td>see</td>\n",
       "    </tr>\n",
       "    <tr>\n",
       "      <th>20</th>\n",
       "      <td>0.343999</td>\n",
       "      <td>0.038222</td>\n",
       "      <td>9</td>\n",
       "      <td>and</td>\n",
       "    </tr>\n",
       "    <tr>\n",
       "      <th>25</th>\n",
       "      <td>0.291555</td>\n",
       "      <td>0.036444</td>\n",
       "      <td>8</td>\n",
       "      <td>it's</td>\n",
       "    </tr>\n",
       "    <tr>\n",
       "      <th>70</th>\n",
       "      <td>0.272222</td>\n",
       "      <td>-0.038889</td>\n",
       "      <td>7</td>\n",
       "      <td>this</td>\n",
       "    </tr>\n",
       "    <tr>\n",
       "      <th>10</th>\n",
       "      <td>0.267555</td>\n",
       "      <td>0.009556</td>\n",
       "      <td>28</td>\n",
       "      <td>the</td>\n",
       "    </tr>\n",
       "    <tr>\n",
       "      <th>111</th>\n",
       "      <td>0.256888</td>\n",
       "      <td>-0.128444</td>\n",
       "      <td>2</td>\n",
       "      <td>nothing</td>\n",
       "    </tr>\n",
       "    <tr>\n",
       "      <th>7</th>\n",
       "      <td>0.247777</td>\n",
       "      <td>-0.049555</td>\n",
       "      <td>5</td>\n",
       "      <td>action</td>\n",
       "    </tr>\n",
       "    <tr>\n",
       "      <th>49</th>\n",
       "      <td>0.236444</td>\n",
       "      <td>-0.016889</td>\n",
       "      <td>14</td>\n",
       "      <td>to</td>\n",
       "    </tr>\n",
       "    <tr>\n",
       "      <th>82</th>\n",
       "      <td>0.222444</td>\n",
       "      <td>-0.020222</td>\n",
       "      <td>11</td>\n",
       "      <td>a</td>\n",
       "    </tr>\n",
       "  </tbody>\n",
       "</table>\n",
       "</div>"
      ],
      "text/plain": [
       "        score    weight  feature_value feature_name\n",
       "36   0.421332  0.052667              8           he\n",
       "149  0.351110  0.087778              4          see\n",
       "20   0.343999  0.038222              9          and\n",
       "25   0.291555  0.036444              8         it's\n",
       "70   0.272222 -0.038889              7         this\n",
       "10   0.267555  0.009556             28          the\n",
       "111  0.256888 -0.128444              2      nothing\n",
       "7    0.247777 -0.049555              5       action\n",
       "49   0.236444 -0.016889             14           to\n",
       "82   0.222444 -0.020222             11            a"
      ]
     },
     "execution_count": 25,
     "metadata": {},
     "output_type": "execute_result"
    }
   ],
   "source": [
    "#Pick example that had wrong prediction:\n",
    "\n",
    "fel_example = bag_of_words(valid[376][:-1])\n",
    "y = valid[376][-1]\n",
    "\n",
    "#initialize empty lists\n",
    "score = []\n",
    "weight = []\n",
    "feature_value = []\n",
    "feature_name = []\n",
    "\n",
    "for f,v in fel_example.items():\n",
    "    score.append(np.abs(w.get(f,0)*v))\n",
    "    weight.append(w.get(f,0))\n",
    "    feature_value.append(v)\n",
    "    feature_name.append(f)\n",
    "    \n",
    "error_df = pd.DataFrame({'score':score, 'weight': weight, 'feature_value': feature_value, 'feature_name': feature_name})\n",
    "error_df.sort_values(by=['score'], inplace=True, ascending = False)\n",
    "error_df.head(10)"
   ]
  },
  {
   "cell_type": "code",
   "execution_count": 26,
   "metadata": {},
   "outputs": [
    {
     "data": {
      "text/html": [
       "<div>\n",
       "<style scoped>\n",
       "    .dataframe tbody tr th:only-of-type {\n",
       "        vertical-align: middle;\n",
       "    }\n",
       "\n",
       "    .dataframe tbody tr th {\n",
       "        vertical-align: top;\n",
       "    }\n",
       "\n",
       "    .dataframe thead th {\n",
       "        text-align: right;\n",
       "    }\n",
       "</style>\n",
       "<table border=\"1\" class=\"dataframe\">\n",
       "  <thead>\n",
       "    <tr style=\"text-align: right;\">\n",
       "      <th></th>\n",
       "      <th>score</th>\n",
       "      <th>weight</th>\n",
       "      <th>feature_value</th>\n",
       "      <th>feature_name</th>\n",
       "    </tr>\n",
       "  </thead>\n",
       "  <tbody>\n",
       "    <tr>\n",
       "      <th>52</th>\n",
       "      <td>0.808887</td>\n",
       "      <td>-0.020222</td>\n",
       "      <td>40</td>\n",
       "      <td>a</td>\n",
       "    </tr>\n",
       "    <tr>\n",
       "      <th>29</th>\n",
       "      <td>0.802665</td>\n",
       "      <td>0.038222</td>\n",
       "      <td>21</td>\n",
       "      <td>and</td>\n",
       "    </tr>\n",
       "    <tr>\n",
       "      <th>0</th>\n",
       "      <td>0.554221</td>\n",
       "      <td>0.009556</td>\n",
       "      <td>58</td>\n",
       "      <td>the</td>\n",
       "    </tr>\n",
       "    <tr>\n",
       "      <th>19</th>\n",
       "      <td>0.345999</td>\n",
       "      <td>-0.038444</td>\n",
       "      <td>9</td>\n",
       "      <td>on</td>\n",
       "    </tr>\n",
       "    <tr>\n",
       "      <th>235</th>\n",
       "      <td>0.315999</td>\n",
       "      <td>-0.158000</td>\n",
       "      <td>2</td>\n",
       "      <td>only</td>\n",
       "    </tr>\n",
       "    <tr>\n",
       "      <th>49</th>\n",
       "      <td>0.288888</td>\n",
       "      <td>0.022222</td>\n",
       "      <td>13</td>\n",
       "      <td>with</td>\n",
       "    </tr>\n",
       "    <tr>\n",
       "      <th>68</th>\n",
       "      <td>0.263111</td>\n",
       "      <td>0.016444</td>\n",
       "      <td>16</td>\n",
       "      <td>is</td>\n",
       "    </tr>\n",
       "    <tr>\n",
       "      <th>138</th>\n",
       "      <td>0.249333</td>\n",
       "      <td>0.083111</td>\n",
       "      <td>3</td>\n",
       "      <td>brilliant</td>\n",
       "    </tr>\n",
       "    <tr>\n",
       "      <th>101</th>\n",
       "      <td>0.230444</td>\n",
       "      <td>0.013556</td>\n",
       "      <td>17</td>\n",
       "      <td>that</td>\n",
       "    </tr>\n",
       "    <tr>\n",
       "      <th>191</th>\n",
       "      <td>0.212444</td>\n",
       "      <td>-0.053111</td>\n",
       "      <td>4</td>\n",
       "      <td>hero</td>\n",
       "    </tr>\n",
       "  </tbody>\n",
       "</table>\n",
       "</div>"
      ],
      "text/plain": [
       "        score    weight  feature_value feature_name\n",
       "52   0.808887 -0.020222             40            a\n",
       "29   0.802665  0.038222             21          and\n",
       "0    0.554221  0.009556             58          the\n",
       "19   0.345999 -0.038444              9           on\n",
       "235  0.315999 -0.158000              2         only\n",
       "49   0.288888  0.022222             13         with\n",
       "68   0.263111  0.016444             16           is\n",
       "138  0.249333  0.083111              3    brilliant\n",
       "101  0.230444  0.013556             17         that\n",
       "191  0.212444 -0.053111              4         hero"
      ]
     },
     "execution_count": 26,
     "metadata": {},
     "output_type": "execute_result"
    }
   ],
   "source": [
    "#Pick example that had wrong prediction:\n",
    "\n",
    "fel_example = bag_of_words(valid[35][:-1])\n",
    "y = valid[35][-1]\n",
    "\n",
    "#initialize empty lists\n",
    "score = []\n",
    "weight = []\n",
    "feature_value = []\n",
    "feature_name = []\n",
    "\n",
    "for f,v in fel_example.items():\n",
    "    score.append(np.abs(w.get(f,0)*v))\n",
    "    weight.append(w.get(f,0))\n",
    "    feature_value.append(v)\n",
    "    feature_name.append(f)\n",
    "    \n",
    "error_df = pd.DataFrame({'score':score, 'weight': weight, 'feature_value': feature_value, 'feature_name': feature_name})\n",
    "error_df.sort_values(by=['score'], inplace=True, ascending = False)\n",
    "error_df.head(10)"
   ]
  },
  {
   "cell_type": "markdown",
   "metadata": {},
   "source": [
    "It seems that the features that have the highest score are associated with features that are repeated a lot, such as: 'and', 'the', 'of', 'is', 'in'. They are articles and prepositions and are not very informative.  \n",
    "There are lists of stopwords in english that can be used to remove these words from the input."
   ]
  },
  {
   "cell_type": "markdown",
   "metadata": {},
   "source": [
    "## Features\n",
    "- Construct new features to improve the performance\n",
    "- Use new loss function with standard error to evaluate statistical significance of improvements achieved by using new features"
   ]
  },
  {
   "cell_type": "markdown",
   "metadata": {},
   "source": [
    "### Stopwords"
   ]
  },
  {
   "cell_type": "code",
   "execution_count": 27,
   "metadata": {},
   "outputs": [],
   "source": [
    "import nltk\n",
    "#nltk.download()\n",
    "from nltk.corpus import stopwords\n",
    "sw = stopwords.words(\"english\")"
   ]
  },
  {
   "cell_type": "code",
   "execution_count": 30,
   "metadata": {},
   "outputs": [],
   "source": [
    "import os\n",
    "import numpy as np\n",
    "import pickle\n",
    "import random\n",
    "\n",
    "def folder_list(path,label):\n",
    "    '''\n",
    "    PARAMETER PATH IS THE PATH OF YOUR LOCAL FOLDER\n",
    "    '''\n",
    "    filelist = os.listdir(path)\n",
    "    review = []\n",
    "    for infile in filelist:\n",
    "        file = os.path.join(path,infile)\n",
    "        r = read_data(file)\n",
    "        r.append(label)\n",
    "        review.append(r)\n",
    "    return review\n",
    "\n",
    "\n",
    "def read_data(file):\n",
    "    '''\n",
    "    Read each file into a list of strings. Remove stopwords.\n",
    "    Example:\n",
    "    [\"it's\", 'a', 'curious', 'thing', \"i've\", 'found', 'that', 'when', 'willis', 'is', 'not', 'called', 'on', \n",
    "    ...'to', 'carry', 'the', 'whole', 'movie', \"he's\", 'much', 'better', 'and', 'so', 'is', 'the', 'movie']\n",
    "    'the' 'a' etc will be removed.\n",
    "    '''\n",
    "    f = open(file)\n",
    "    lines = f.read().split(' ') #split each line on whitespace\n",
    "    \n",
    "    symbols = '${}()[].,:;+-*/&|<>=~\" '\n",
    "    words = map(lambda Element: Element.translate(str.maketrans(\"\", \"\", symbols)).strip(), lines)\n",
    "    words = filter(None, words)\n",
    "    list_words = list(words)\n",
    "    \n",
    "    #Filter using a stopword list\n",
    "    sw = stopwords.words(\"english\")\n",
    "    filtered_words = [word for word in list_words if word not in sw]\n",
    "    \n",
    "    return filtered_words\n",
    "\n",
    "\n",
    "def shuffle_data_v2():\n",
    "    '''\n",
    "    pos_path is where you save positive review data.\n",
    "    neg_path is where you save negative review data.\n",
    "    '''\n",
    "    pos_path = '/Users/Coline/Desktop/mlprojects/Bloomberg_foundations_of_ML/hw3-svm/data/pos'\n",
    "    neg_path = '/Users/Coline/Desktop/mlprojects/Bloomberg_foundations_of_ML/hw3-svm/data/neg'\n",
    "\n",
    "    #pos_path = r\"H:\\Ny mapp\\Literature\\Bayesian prob\\Bloomsberg lectures\\Week8\\hw3\\data\\data\\pos\"\n",
    "    #neg_path = r\"H:\\Ny mapp\\Literature\\Bayesian prob\\Bloomsberg lectures\\Week8\\hw3\\data\\data\\neg\"\n",
    "    \n",
    "    pos_review = folder_list(pos_path,1)\n",
    "    neg_review = folder_list(neg_path,-1)\n",
    "\n",
    "    review = pos_review + neg_review\n",
    "    random.shuffle(review)\n",
    "  \n",
    "    train = review[:1500]\n",
    "    valid = review[1500:]\n",
    "    \n",
    "    with open('train_filter.pkl', 'wb') as f:\n",
    "        pickle.dump(train, f)\n",
    "    \n",
    "    with open('valid_filter.pkl', 'wb') as f:\n",
    "        pickle.dump(valid, f)\n",
    "    \n",
    "    return train, valid"
   ]
  },
  {
   "cell_type": "code",
   "execution_count": 31,
   "metadata": {},
   "outputs": [],
   "source": [
    "train, valid = shuffle_data_v2()"
   ]
  },
  {
   "cell_type": "code",
   "execution_count": 32,
   "metadata": {},
   "outputs": [],
   "source": [
    "#load files from memory\n",
    "with open('train_filter.pkl', 'rb') as f:\n",
    "    train = pickle.load(f)\n",
    "with open('valid_filter.pkl', 'rb') as f:\n",
    "    valid = pickle.load(f)"
   ]
  },
  {
   "cell_type": "code",
   "execution_count": 33,
   "metadata": {},
   "outputs": [
    {
     "name": "stdout",
     "output_type": "stream",
     "text": [
      "Epoch: 0\n",
      "The model classified 79.0% of the examples correctly\n",
      "converged\n"
     ]
    }
   ],
   "source": [
    "w_filter = pegasos_v2(train, valid, epoch=250, l_reg=1e-2, tol=1e-2)"
   ]
  },
  {
   "cell_type": "code",
   "execution_count": 35,
   "metadata": {},
   "outputs": [
    {
     "data": {
      "text/plain": [
       "84.6"
      ]
     },
     "execution_count": 35,
     "metadata": {},
     "output_type": "execute_result"
    }
   ],
   "source": [
    "loss(valid, w_filter)"
   ]
  },
  {
   "cell_type": "markdown",
   "metadata": {},
   "source": [
    "Using stopwords filter improved the performance of the model."
   ]
  },
  {
   "cell_type": "code",
   "execution_count": 36,
   "metadata": {},
   "outputs": [
    {
     "data": {
      "text/plain": [
       "[11,\n",
       " 15,\n",
       " 24,\n",
       " 27,\n",
       " 28,\n",
       " 38,\n",
       " 40,\n",
       " 43,\n",
       " 46,\n",
       " 50,\n",
       " 53,\n",
       " 63,\n",
       " 69,\n",
       " 73,\n",
       " 78,\n",
       " 86,\n",
       " 94,\n",
       " 98,\n",
       " 107,\n",
       " 113]"
      ]
     },
     "execution_count": 36,
     "metadata": {},
     "output_type": "execute_result"
    }
   ],
   "source": [
    "list_idx = []\n",
    "for i in range(len(valid)):\n",
    "    y_i = valid[i][-1]\n",
    "    x_i = bag_of_words(valid[i][:-1])\n",
    "    pred = dotProduct(w_filter,x_i)\n",
    "    if pred/y_i < 0:\n",
    "        list_idx.append(i)\n",
    "list_idx[:20]"
   ]
  },
  {
   "cell_type": "code",
   "execution_count": 38,
   "metadata": {},
   "outputs": [
    {
     "data": {
      "text/html": [
       "<div>\n",
       "<style scoped>\n",
       "    .dataframe tbody tr th:only-of-type {\n",
       "        vertical-align: middle;\n",
       "    }\n",
       "\n",
       "    .dataframe tbody tr th {\n",
       "        vertical-align: top;\n",
       "    }\n",
       "\n",
       "    .dataframe thead th {\n",
       "        text-align: right;\n",
       "    }\n",
       "</style>\n",
       "<table border=\"1\" class=\"dataframe\">\n",
       "  <thead>\n",
       "    <tr style=\"text-align: right;\">\n",
       "      <th></th>\n",
       "      <th>score</th>\n",
       "      <th>weight</th>\n",
       "      <th>feature_value</th>\n",
       "      <th>feature_name</th>\n",
       "    </tr>\n",
       "  </thead>\n",
       "  <tbody>\n",
       "    <tr>\n",
       "      <th>11</th>\n",
       "      <td>0.270704</td>\n",
       "      <td>-0.135352</td>\n",
       "      <td>2</td>\n",
       "      <td>reason</td>\n",
       "    </tr>\n",
       "    <tr>\n",
       "      <th>105</th>\n",
       "      <td>0.209089</td>\n",
       "      <td>-0.069696</td>\n",
       "      <td>3</td>\n",
       "      <td>would</td>\n",
       "    </tr>\n",
       "    <tr>\n",
       "      <th>34</th>\n",
       "      <td>0.206059</td>\n",
       "      <td>-0.051515</td>\n",
       "      <td>4</td>\n",
       "      <td>save</td>\n",
       "    </tr>\n",
       "    <tr>\n",
       "      <th>27</th>\n",
       "      <td>0.205048</td>\n",
       "      <td>0.029293</td>\n",
       "      <td>7</td>\n",
       "      <td>keaton</td>\n",
       "    </tr>\n",
       "    <tr>\n",
       "      <th>107</th>\n",
       "      <td>0.183837</td>\n",
       "      <td>0.091918</td>\n",
       "      <td>2</td>\n",
       "      <td>seen</td>\n",
       "    </tr>\n",
       "    <tr>\n",
       "      <th>52</th>\n",
       "      <td>0.175756</td>\n",
       "      <td>0.058585</td>\n",
       "      <td>3</td>\n",
       "      <td>movies</td>\n",
       "    </tr>\n",
       "    <tr>\n",
       "      <th>55</th>\n",
       "      <td>0.160604</td>\n",
       "      <td>-0.053535</td>\n",
       "      <td>3</td>\n",
       "      <td>kill</td>\n",
       "    </tr>\n",
       "    <tr>\n",
       "      <th>50</th>\n",
       "      <td>0.153534</td>\n",
       "      <td>-0.076767</td>\n",
       "      <td>2</td>\n",
       "      <td>could</td>\n",
       "    </tr>\n",
       "    <tr>\n",
       "      <th>79</th>\n",
       "      <td>0.151514</td>\n",
       "      <td>0.050505</td>\n",
       "      <td>3</td>\n",
       "      <td>many</td>\n",
       "    </tr>\n",
       "    <tr>\n",
       "      <th>151</th>\n",
       "      <td>0.149493</td>\n",
       "      <td>-0.074747</td>\n",
       "      <td>2</td>\n",
       "      <td>even</td>\n",
       "    </tr>\n",
       "  </tbody>\n",
       "</table>\n",
       "</div>"
      ],
      "text/plain": [
       "        score    weight  feature_value feature_name\n",
       "11   0.270704 -0.135352              2       reason\n",
       "105  0.209089 -0.069696              3        would\n",
       "34   0.206059 -0.051515              4         save\n",
       "27   0.205048  0.029293              7       keaton\n",
       "107  0.183837  0.091918              2         seen\n",
       "52   0.175756  0.058585              3       movies\n",
       "55   0.160604 -0.053535              3         kill\n",
       "50   0.153534 -0.076767              2        could\n",
       "79   0.151514  0.050505              3         many\n",
       "151  0.149493 -0.074747              2         even"
      ]
     },
     "execution_count": 38,
     "metadata": {},
     "output_type": "execute_result"
    }
   ],
   "source": [
    "#Pick example that had wrong prediction:\n",
    "\n",
    "fel_example = bag_of_words(valid[113][:-1])\n",
    "y = valid[113][-1]\n",
    "\n",
    "#initialize empty lists\n",
    "score = []\n",
    "weight = []\n",
    "feature_value = []\n",
    "feature_name = []\n",
    "\n",
    "for f,v in fel_example.items():\n",
    "    score.append(np.abs(w_filter.get(f,0)*v))\n",
    "    weight.append(w_filter.get(f,0))\n",
    "    feature_value.append(v)\n",
    "    feature_name.append(f)\n",
    "    \n",
    "error_df = pd.DataFrame({'score':score, 'weight': weight, 'feature_value': feature_value, 'feature_name': feature_name})\n",
    "error_df.sort_values(by=['score'], inplace=True, ascending = False)\n",
    "error_df.head(10)"
   ]
  },
  {
   "cell_type": "markdown",
   "metadata": {},
   "source": [
    "### Loss function with standard error"
   ]
  },
  {
   "cell_type": "code",
   "execution_count": 44,
   "metadata": {},
   "outputs": [],
   "source": [
    "def standard_error(p1, n):\n",
    "    p = np.sqrt(p1*(1-p1)/n)\n",
    "    return p\n",
    "\n",
    "def loss_std(valid, w):\n",
    "    '''\n",
    "    function that takes a sparse weight vector w and a collection of (x,y) pairs,\n",
    "    and returns the percent error when predicting y using sign(w^Tx) and the standard error. \n",
    "    \n",
    "    '''\n",
    "    count = 0\n",
    "    for i in range(len(valid)):\n",
    "        y_i = valid[i][-1]\n",
    "        x_i = bag_of_words(valid[i][:-1])\n",
    "        pred = dotProduct(w,x_i)\n",
    "        \n",
    "        if (pred/y_i) > 0: #occurs when y_i and w^Tx_i have the same sign (ie correct prediction)\n",
    "            count += 1\n",
    "            \n",
    "    percent = (count/(len(valid)))\n",
    "    \n",
    "    std = standard_error(percent, len(valid))\n",
    "    \n",
    "    return print('The percent error is {0:.2f} % with a standard error of +/- {1:.2f} %'.format(percent*100, std*100))"
   ]
  },
  {
   "cell_type": "code",
   "execution_count": 45,
   "metadata": {},
   "outputs": [
    {
     "name": "stdout",
     "output_type": "stream",
     "text": [
      "The percent error is 84.60 % with a standard error of +/- 1.61 %\n"
     ]
    }
   ],
   "source": [
    "loss_std(valid, w_filter)"
   ]
  },
  {
   "cell_type": "markdown",
   "metadata": {},
   "source": [
    "### Other ideas for new features:\n",
    "\n",
    "- create new feature when a word is preceded by not (ex: 'not', 'good'  --> 'not good')\n",
    "- add/remove special characters\n",
    "- construct a list of negative words\n",
    "- implement TF-IDF instead of raw word counts to increase the weight of rare words"
   ]
  },
  {
   "cell_type": "code",
   "execution_count": null,
   "metadata": {},
   "outputs": [],
   "source": []
  },
  {
   "cell_type": "code",
   "execution_count": null,
   "metadata": {},
   "outputs": [],
   "source": []
  }
 ],
 "metadata": {
  "kernelspec": {
   "display_name": "Python 3",
   "language": "python",
   "name": "python3"
  },
  "language_info": {
   "codemirror_mode": {
    "name": "ipython",
    "version": 3
   },
   "file_extension": ".py",
   "mimetype": "text/x-python",
   "name": "python",
   "nbconvert_exporter": "python",
   "pygments_lexer": "ipython3",
   "version": "3.7.0"
  },
  "toc": {
   "base_numbering": 1,
   "nav_menu": {},
   "number_sections": false,
   "sideBar": true,
   "skip_h1_title": true,
   "title_cell": "Table of Contents",
   "title_sidebar": "Contents",
   "toc_cell": true,
   "toc_position": {
    "height": "calc(100% - 180px)",
    "left": "10px",
    "top": "150px",
    "width": "303.837px"
   },
   "toc_section_display": true,
   "toc_window_display": true
  }
 },
 "nbformat": 4,
 "nbformat_minor": 4
}
