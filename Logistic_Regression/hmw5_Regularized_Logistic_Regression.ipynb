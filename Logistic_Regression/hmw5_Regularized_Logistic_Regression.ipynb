{
 "cells": [
  {
   "cell_type": "markdown",
   "metadata": {
    "toc": true
   },
   "source": [
    "<h1>Table of Contents<span class=\"tocSkip\"></span></h1>\n",
    "<div class=\"toc\"><ul class=\"toc-item\"><li><span><a href=\"#Load-the-data\" data-toc-modified-id=\"Load-the-data-1\"><span class=\"toc-item-num\">1&nbsp;&nbsp;</span>Load the data</a></span><ul class=\"toc-item\"><li><span><a href=\"#Standardize-the-data\" data-toc-modified-id=\"Standardize-the-data-1.1\"><span class=\"toc-item-num\">1.1&nbsp;&nbsp;</span>Standardize the data</a></span><ul class=\"toc-item\"><li><span><a href=\"#Option-1\" data-toc-modified-id=\"Option-1-1.1.1\"><span class=\"toc-item-num\">1.1.1&nbsp;&nbsp;</span>Option 1</a></span></li><li><span><a href=\"#Option-2\" data-toc-modified-id=\"Option-2-1.1.2\"><span class=\"toc-item-num\">1.1.2&nbsp;&nbsp;</span>Option 2</a></span></li></ul></li></ul></li><li><span><a href=\"#Objective-function\" data-toc-modified-id=\"Objective-function-2\"><span class=\"toc-item-num\">2&nbsp;&nbsp;</span>Objective function</a></span></li><li><span><a href=\"#Fitting-logistic-regression\" data-toc-modified-id=\"Fitting-logistic-regression-3\"><span class=\"toc-item-num\">3&nbsp;&nbsp;</span>Fitting logistic regression</a></span></li><li><span><a href=\"#Hyperparameter-optimization\" data-toc-modified-id=\"Hyperparameter-optimization-4\"><span class=\"toc-item-num\">4&nbsp;&nbsp;</span>Hyperparameter optimization</a></span></li><li><span><a href=\"#Calibration\" data-toc-modified-id=\"Calibration-5\"><span class=\"toc-item-num\">5&nbsp;&nbsp;</span>Calibration</a></span></li></ul></div>"
   ]
  },
  {
   "cell_type": "markdown",
   "metadata": {},
   "source": [
    "# Regularized Logistic Regression\n",
    "Solving the problem from homework 5 of the [foundations of machine learning course](https://bloomberg.github.io/foml/#home)."
   ]
  },
  {
   "cell_type": "code",
   "execution_count": 1,
   "metadata": {},
   "outputs": [],
   "source": [
    "import numpy as np\n",
    "import matplotlib.pyplot as plt\n",
    "import sklearn\n",
    "import scipy.spatial\n",
    "import functools\n",
    "from scipy.optimize import minimize\n",
    "import pandas as pd\n",
    "import seaborn as sns\n",
    "\n",
    "%matplotlib inline"
   ]
  },
  {
   "cell_type": "markdown",
   "metadata": {},
   "source": [
    "For a dataset $D = ((x_1,y_1),...,(x_n,y_n))$ drawn from $R^d \\times \\{-1,1\\}$, the regularized logistic regression objective function can be defined as $$ J_{logistic}(w) = \\hat{R_n}(w) + \\lambda \\|w\\|^2$$  $$J_{logistic}(w) = \\frac{1}{n} \\sum_{i=1}^n log(1 + exp(-y_i w^T x_i)) +  \\lambda \\|w\\|^2$$  \n",
    "\n",
    "Is $ J_{logistic}(w) $ convex?  \n",
    "\n",
    "- $-y_i w^T x_i$ is an affine function of $w$\n",
    "- $exp(\\cdot)$ is a convex function\n",
    "- The composition of a convex function with an affine function is convex so $exp(-y_i w^T x_i)$ is convex  \n",
    "\n",
    "\n",
    "- Log-Sum-Exp: $(x_1,..., x_n) \\to log (e^{x_1} + ... + e^{x_n})$ is convex on $R^n$ so $log(1 + exp(-y_i w^T x_i))$ is convex on $R^n$\n",
    "- Non-negative weighted sums of convex functions is convex so $\\frac{1}{n} \\sum_{i=1}^n log(1 + exp(-y_i w^T x_i))$ is convex\n",
    "- Every norm on $R^n$ is convex therefore $\\|w\\|^2$ is convex. $\\lambda > 0$ so $\\lambda \\|w\\|^2$ is convex"
   ]
  },
  {
   "cell_type": "markdown",
   "metadata": {},
   "source": [
    "## Load the data"
   ]
  },
  {
   "cell_type": "code",
   "execution_count": 2,
   "metadata": {},
   "outputs": [],
   "source": [
    "def load_data(file):\n",
    "    with open(file, 'r') as f:\n",
    "        lines = []   \n",
    "        for line in f.readlines():\n",
    "            lines.append([float(x) for x in line.strip().split(',')])\n",
    "       \n",
    "    return np.asarray(lines)"
   ]
  },
  {
   "cell_type": "code",
   "execution_count": 3,
   "metadata": {},
   "outputs": [],
   "source": [
    "X_train = load_data('X_train.txt')\n",
    "X_val = load_data('X_val.txt')\n",
    "y_train = load_data('y_train.txt')\n",
    "y_val = load_data('y_val.txt')"
   ]
  },
  {
   "cell_type": "code",
   "execution_count": 4,
   "metadata": {},
   "outputs": [],
   "source": [
    "#transform the classes from {0,1} to {-1,1}\n",
    "\n",
    "y_train = y_train.reshape(-1)\n",
    "y_train[y_train == 0]=-1\n",
    "\n",
    "y_val = y_val.reshape(-1)\n",
    "y_val[y_val == 0]=-1"
   ]
  },
  {
   "cell_type": "markdown",
   "metadata": {},
   "source": [
    "### Standardize the data"
   ]
  },
  {
   "cell_type": "markdown",
   "metadata": {},
   "source": [
    "#### Option 1"
   ]
  },
  {
   "cell_type": "code",
   "execution_count": 5,
   "metadata": {},
   "outputs": [],
   "source": [
    "def feature_normalization(train, test):\n",
    "    \"\"\"Rescale the data so that each feature in the training set is in\n",
    "    the interval [0,1], and apply the same transformations to the test\n",
    "    set, using the statistics computed on the training set.\n",
    "\n",
    "    Args:\n",
    "        train - training set, a 2D numpy array of size (num_instances, num_features)\n",
    "        test  - test set, a 2D numpy array of size (num_instances, num_features)\n",
    "    Returns:\n",
    "        train_normalized - training set after normalization with added bias\n",
    "        test_normalized  - test set after normalization with added bias\n",
    "\n",
    "    \"\"\"\n",
    "    train_normalized = (train - train.min(axis=0))/(train.max(axis=0)-train.min(axis=0))\n",
    "    test_normalized = (test - train.min(axis=0))/(train.max(axis=0)-train.min(axis=0))\n",
    "    \n",
    "    n1,d1 = train.shape\n",
    "    n2,d2 = test.shape\n",
    "    \n",
    "    X1 = np.ones((n1,1))\n",
    "    Xtrain_new = np.hstack((X1,train_normalized))\n",
    "    \n",
    "    X2 = np.ones((n2,1))\n",
    "    Xtest_new = np.hstack((X2,test_normalized))\n",
    "    \n",
    "    return (Xtrain_new, Xtest_new)"
   ]
  },
  {
   "cell_type": "code",
   "execution_count": 6,
   "metadata": {},
   "outputs": [],
   "source": [
    "X_train_normalized, X_val_normalized = feature_normalization(X_train, X_val)"
   ]
  },
  {
   "cell_type": "markdown",
   "metadata": {},
   "source": [
    "#### Option 2"
   ]
  },
  {
   "cell_type": "code",
   "execution_count": 7,
   "metadata": {},
   "outputs": [],
   "source": [
    "from sklearn import preprocessing\n",
    "\n",
    "min_max_scaler = preprocessing.MinMaxScaler()\n",
    "X_train_minmax = min_max_scaler.fit_transform(X_train)\n",
    "X_val_minmax = min_max_scaler.transform(X_val)\n",
    "\n",
    "#Add bias term\n",
    "X_train_minmax_bias = np.hstack((np.ones((X_train_minmax.shape[0],1)),X_train_minmax))\n",
    "X_val_minmax_bias = np.hstack((np.ones((X_val_minmax.shape[0],1)),X_val_minmax))"
   ]
  },
  {
   "cell_type": "markdown",
   "metadata": {},
   "source": [
    "## Objective function"
   ]
  },
  {
   "cell_type": "code",
   "execution_count": 8,
   "metadata": {},
   "outputs": [],
   "source": [
    "def f_objective(theta, X, y, l2_param=1):\n",
    "    '''\n",
    "    Args:\n",
    "        theta: 1D numpy array of size num_features\n",
    "        X: 2D numpy array of size (num_instances, num_features)\n",
    "        y: 1D numpy array of size num_instances\n",
    "        l2_param: regularization parameter\n",
    "\n",
    "    Returns:\n",
    "        objective: scalar value of objective function\n",
    "    '''\n",
    "    n,d = X.shape\n",
    "    \n",
    "    y = y.reshape(-1) #if we are given a column vector\n",
    "   \n",
    "    max_array = np.zeros(n)\n",
    "    \n",
    "    score = -y*(X@theta)\n",
    "    max_array2 = np.maximum(max_array,score)\n",
    "    \n",
    "    empirical_risk = (1/n) * np.sum((max_array2+np.logaddexp(0-max_array2,score-max_array2)))\n",
    "    \n",
    "    total_cost = empirical_risk + l2_param*theta.T@theta\n",
    "    \n",
    "    return total_cost"
   ]
  },
  {
   "cell_type": "markdown",
   "metadata": {},
   "source": [
    "## Fitting logistic regression"
   ]
  },
  {
   "cell_type": "code",
   "execution_count": 9,
   "metadata": {},
   "outputs": [],
   "source": [
    "def fit_logistic_reg(X, y, l2_param=1):\n",
    "    '''\n",
    "    Args:\n",
    "        X: 2D numpy array of size (num_instances, num_features)\n",
    "        y: 1D numpy array of size num_instances\n",
    "        objective_function: function returning the value of the objective\n",
    "        l2_param: regularization parameter\n",
    "        \n",
    "    Returns:\n",
    "        optimal_theta: 1D numpy array of size num_features\n",
    "    '''\n",
    "    \n",
    "    n,d = X.shape\n",
    "    theta0 = np.zeros(d)\n",
    "    \n",
    "    y = y.reshape(-1) #if we are given a column vector\n",
    "    \n",
    "    def f_obj(theta):\n",
    "        max_array = np.zeros(n)\n",
    "    \n",
    "        score = -y*(X@theta)\n",
    "        max_array2 = np.maximum(max_array,score)\n",
    "    \n",
    "        empirical_risk = (1/n) * np.sum((max_array2+np.logaddexp(0-max_array2,score-max_array2)))\n",
    "    \n",
    "        total_cost = empirical_risk + l2_param*theta.T@theta\n",
    "    \n",
    "        return total_cost\n",
    "\n",
    "    mini = minimize(f_obj, theta0, options={'gtol': 1e-6, 'disp': True})\n",
    "    optimal_theta=mini.x\n",
    "    print(mini.message)\n",
    "    \n",
    "    return optimal_theta"
   ]
  },
  {
   "cell_type": "code",
   "execution_count": 10,
   "metadata": {},
   "outputs": [
    {
     "name": "stdout",
     "output_type": "stream",
     "text": [
      "Optimization terminated successfully.\n",
      "         Current function value: 0.579487\n",
      "         Iterations: 50\n",
      "         Function evaluations: 1144\n",
      "         Gradient evaluations: 52\n",
      "Optimization terminated successfully.\n"
     ]
    },
    {
     "data": {
      "text/plain": [
       "array([-0.02023094,  0.05382901,  0.00464291,  0.65168235,  4.26120568,\n",
       "       -0.19470411, -0.09043079, -0.13652105, -0.1487172 , -0.24573054,\n",
       "       -2.1959969 ,  0.37614467, -0.0798709 , -0.07168626, -0.05689424,\n",
       "       -0.06982594,  0.02549784, -0.07006439, -0.4310903 , -0.25766318,\n",
       "       -0.51010758])"
      ]
     },
     "execution_count": 10,
     "metadata": {},
     "output_type": "execute_result"
    }
   ],
   "source": [
    "optimal_theta = fit_logistic_reg(X_train_normalized, y_train, l2_param=0.001)\n",
    "optimal_theta"
   ]
  },
  {
   "cell_type": "markdown",
   "metadata": {},
   "source": [
    "## Hyperparameter optimization"
   ]
  },
  {
   "cell_type": "code",
   "execution_count": 11,
   "metadata": {},
   "outputs": [
    {
     "name": "stdout",
     "output_type": "stream",
     "text": [
      "Optimization terminated successfully.\n",
      "         Current function value: 0.545428\n",
      "         Iterations: 70\n",
      "         Function evaluations: 1584\n",
      "         Gradient evaluations: 72\n",
      "Optimization terminated successfully.\n",
      "Optimization terminated successfully.\n",
      "         Current function value: 0.545473\n",
      "         Iterations: 70\n",
      "         Function evaluations: 1584\n",
      "         Gradient evaluations: 72\n",
      "Optimization terminated successfully.\n",
      "Optimization terminated successfully.\n",
      "         Current function value: 0.545918\n",
      "         Iterations: 70\n",
      "         Function evaluations: 1584\n",
      "         Gradient evaluations: 72\n",
      "Optimization terminated successfully.\n",
      "Optimization terminated successfully.\n",
      "         Current function value: 0.550154\n",
      "         Iterations: 69\n",
      "         Function evaluations: 1562\n",
      "         Gradient evaluations: 71\n",
      "Optimization terminated successfully.\n",
      "Optimization terminated successfully.\n",
      "         Current function value: 0.579487\n",
      "         Iterations: 50\n",
      "         Function evaluations: 1144\n",
      "         Gradient evaluations: 52\n",
      "Optimization terminated successfully.\n",
      "Optimization terminated successfully.\n",
      "         Current function value: 0.650549\n",
      "         Iterations: 25\n",
      "         Function evaluations: 594\n",
      "         Gradient evaluations: 27\n",
      "Optimization terminated successfully.\n",
      "Optimization terminated successfully.\n",
      "         Current function value: 0.686838\n",
      "         Iterations: 9\n",
      "         Function evaluations: 220\n",
      "         Gradient evaluations: 10\n",
      "Optimization terminated successfully.\n",
      "Optimization terminated successfully.\n",
      "         Current function value: 0.692457\n",
      "         Iterations: 3\n",
      "         Function evaluations: 154\n",
      "         Gradient evaluations: 7\n",
      "Optimization terminated successfully.\n"
     ]
    }
   ],
   "source": [
    "LL_list = []\n",
    "l2_param_list = [1.0e-7, 1e-6, 1.0e-5, 1.0e-4, 1.0e-3, 1.0e-2, 1.0e-1, 1]\n",
    "for l2_param in l2_param_list:\n",
    "    optimal_theta = fit_logistic_reg(X_train_normalized, y_train, l2_param=l2_param)\n",
    "    LL_list.append(f_objective(optimal_theta, X_val_normalized, y_val, l2_param=l2_param))\n",
    "    \n",
    "LL = {'l2_param': l2_param_list, 'Negative log-likelihood': LL_list}"
   ]
  },
  {
   "cell_type": "code",
   "execution_count": 12,
   "metadata": {},
   "outputs": [
    {
     "name": "stdout",
     "output_type": "stream",
     "text": [
      "       l2_param  Negative log-likelihood\n",
      "0  1.000000e-07                 0.587031\n",
      "1  1.000000e-06                 0.587055\n",
      "2  1.000000e-05                 0.587289\n",
      "3  1.000000e-04                 0.589581\n",
      "4  1.000000e-03                 0.607781\n",
      "5  1.000000e-02                 0.659551\n",
      "6  1.000000e-01                 0.688060\n",
      "7  1.000000e+00                 0.692599\n",
      "\n",
      "\n",
      "The regression parameter that minimized NLL on the validation set was 1.00e-07.\n"
     ]
    }
   ],
   "source": [
    "df = pd.DataFrame(LL)\n",
    "print(df)\n",
    "\n",
    "min_idx = df['Negative log-likelihood'].idxmin()\n",
    "\n",
    "print('\\n')\n",
    "print('The regression parameter that minimized NLL on the validation set was {:.2e}.'.format(df['l2_param'][min_idx]))"
   ]
  },
  {
   "cell_type": "code",
   "execution_count": 13,
   "metadata": {},
   "outputs": [
    {
     "data": {
      "text/plain": [
       "Text(0, 0.5, 'Negative-Log-likelihood')"
      ]
     },
     "execution_count": 13,
     "metadata": {},
     "output_type": "execute_result"
    },
    {
     "data": {
      "image/png": "[encoded data removed]",
      "text/plain": [
       "<Figure size 432x288 with 1 Axes>"
      ]
     },
     "metadata": {
      "needs_background": "light"
     },
     "output_type": "display_data"
    }
   ],
   "source": [
    "# Plot validation performance vs regularization parameter\n",
    "fig, ax = plt.subplots()\n",
    "\n",
    "ax.semilogx(df[\"l2_param\"], df[\"Negative log-likelihood\"])\n",
    "ax.grid()\n",
    "ax.set_title(\"Validation Set Performance vs L2 Regularization\")\n",
    "ax.set_xlabel(\"L2-Penalty Regularization Parameter\")\n",
    "ax.set_ylabel(\"Negative-Log-likelihood\")"
   ]
  },
  {
   "cell_type": "markdown",
   "metadata": {},
   "source": [
    "## Calibration\n",
    "  \n",
    "We can interpret the prediction $f(x) = \\Phi (w^Tx) = 1/(1+e^{-w^T x})$ as the probability that $y = 1$, for a randomly drawn pair $(x,y)$.  \n",
    "Since we only have a finite sample (and we are regularizing, which will bias things a bit) there is a question of how well “calibrated” our predicted probabilities are.  \n",
    "Roughly speaking, we say $f(x)$ is well calibrated if we look at all examples $(x,y)$ for which $f(x) = 0.7$ and we find that close to 70 % of those examples have $y = 1$, as predicted... and then we repeat that for all predicted probabilities in $(0, 1)$."
   ]
  },
  {
   "cell_type": "code",
   "execution_count": 14,
   "metadata": {},
   "outputs": [],
   "source": [
    "def sigmoid(theta, xi):\n",
    "    score = np.dot(theta.T,xi)\n",
    "    sig = 1/(1+np.exp(-score))\n",
    "    return sig"
   ]
  },
  {
   "cell_type": "code",
   "execution_count": 15,
   "metadata": {},
   "outputs": [
    {
     "name": "stdout",
     "output_type": "stream",
     "text": [
      "Optimization terminated successfully.\n",
      "         Current function value: 0.545918\n",
      "         Iterations: 70\n",
      "         Function evaluations: 1584\n",
      "         Gradient evaluations: 72\n",
      "Optimization terminated successfully.\n"
     ]
    },
    {
     "data": {
      "text/html": [
       "<div>\n",
       "<style scoped>\n",
       "    .dataframe tbody tr th:only-of-type {\n",
       "        vertical-align: middle;\n",
       "    }\n",
       "\n",
       "    .dataframe tbody tr th {\n",
       "        vertical-align: top;\n",
       "    }\n",
       "\n",
       "    .dataframe thead th {\n",
       "        text-align: right;\n",
       "    }\n",
       "</style>\n",
       "<table border=\"1\" class=\"dataframe\">\n",
       "  <thead>\n",
       "    <tr style=\"text-align: right;\">\n",
       "      <th></th>\n",
       "      <th>Prediction</th>\n",
       "      <th>True class</th>\n",
       "    </tr>\n",
       "  </thead>\n",
       "  <tbody>\n",
       "    <tr>\n",
       "      <th>0</th>\n",
       "      <td>0.319346</td>\n",
       "      <td>-1.0</td>\n",
       "    </tr>\n",
       "    <tr>\n",
       "      <th>1</th>\n",
       "      <td>0.740077</td>\n",
       "      <td>1.0</td>\n",
       "    </tr>\n",
       "    <tr>\n",
       "      <th>2</th>\n",
       "      <td>0.221699</td>\n",
       "      <td>-1.0</td>\n",
       "    </tr>\n",
       "    <tr>\n",
       "      <th>3</th>\n",
       "      <td>0.114294</td>\n",
       "      <td>1.0</td>\n",
       "    </tr>\n",
       "    <tr>\n",
       "      <th>4</th>\n",
       "      <td>0.795415</td>\n",
       "      <td>-1.0</td>\n",
       "    </tr>\n",
       "    <tr>\n",
       "      <th>...</th>\n",
       "      <td>...</td>\n",
       "      <td>...</td>\n",
       "    </tr>\n",
       "    <tr>\n",
       "      <th>395</th>\n",
       "      <td>0.791300</td>\n",
       "      <td>1.0</td>\n",
       "    </tr>\n",
       "    <tr>\n",
       "      <th>396</th>\n",
       "      <td>0.229150</td>\n",
       "      <td>-1.0</td>\n",
       "    </tr>\n",
       "    <tr>\n",
       "      <th>397</th>\n",
       "      <td>0.330077</td>\n",
       "      <td>-1.0</td>\n",
       "    </tr>\n",
       "    <tr>\n",
       "      <th>398</th>\n",
       "      <td>0.463779</td>\n",
       "      <td>1.0</td>\n",
       "    </tr>\n",
       "    <tr>\n",
       "      <th>399</th>\n",
       "      <td>0.096608</td>\n",
       "      <td>-1.0</td>\n",
       "    </tr>\n",
       "  </tbody>\n",
       "</table>\n",
       "<p>400 rows × 2 columns</p>\n",
       "</div>"
      ],
      "text/plain": [
       "     Prediction  True class\n",
       "0      0.319346        -1.0\n",
       "1      0.740077         1.0\n",
       "2      0.221699        -1.0\n",
       "3      0.114294         1.0\n",
       "4      0.795415        -1.0\n",
       "..          ...         ...\n",
       "395    0.791300         1.0\n",
       "396    0.229150        -1.0\n",
       "397    0.330077        -1.0\n",
       "398    0.463779         1.0\n",
       "399    0.096608        -1.0\n",
       "\n",
       "[400 rows x 2 columns]"
      ]
     },
     "execution_count": 15,
     "metadata": {},
     "output_type": "execute_result"
    }
   ],
   "source": [
    "optimal_theta = fit_logistic_reg(X_train_normalized, y_train, l2_param=0.00001)\n",
    "pred=[]\n",
    "for i in range(len(X_val_normalized)):\n",
    "    pred.append(sigmoid(optimal_theta,X_val_normalized[i,:]))\n",
    "    \n",
    "calibration = {'Prediction': pred, 'True class': y_val}\n",
    "\n",
    "df_calib = pd.DataFrame(calibration)\n",
    "df_calib"
   ]
  },
  {
   "cell_type": "code",
   "execution_count": 22,
   "metadata": {},
   "outputs": [
    {
     "data": {
      "text/html": [
       "<div>\n",
       "<style scoped>\n",
       "    .dataframe tbody tr th:only-of-type {\n",
       "        vertical-align: middle;\n",
       "    }\n",
       "\n",
       "    .dataframe tbody tr th {\n",
       "        vertical-align: top;\n",
       "    }\n",
       "\n",
       "    .dataframe thead th {\n",
       "        text-align: right;\n",
       "    }\n",
       "</style>\n",
       "<table border=\"1\" class=\"dataframe\">\n",
       "  <thead>\n",
       "    <tr style=\"text-align: right;\">\n",
       "      <th></th>\n",
       "      <th>count</th>\n",
       "      <th>sum</th>\n",
       "      <th>fraction of positives</th>\n",
       "      <th>Categories</th>\n",
       "    </tr>\n",
       "    <tr>\n",
       "      <th>Prediction</th>\n",
       "      <th></th>\n",
       "      <th></th>\n",
       "      <th></th>\n",
       "      <th></th>\n",
       "    </tr>\n",
       "  </thead>\n",
       "  <tbody>\n",
       "    <tr>\n",
       "      <th>(0.0, 0.1]</th>\n",
       "      <td>7</td>\n",
       "      <td>2</td>\n",
       "      <td>0.285714</td>\n",
       "      <td>0.1</td>\n",
       "    </tr>\n",
       "    <tr>\n",
       "      <th>(0.1, 0.2]</th>\n",
       "      <td>40</td>\n",
       "      <td>12</td>\n",
       "      <td>0.300000</td>\n",
       "      <td>0.2</td>\n",
       "    </tr>\n",
       "    <tr>\n",
       "      <th>(0.2, 0.3]</th>\n",
       "      <td>60</td>\n",
       "      <td>15</td>\n",
       "      <td>0.250000</td>\n",
       "      <td>0.3</td>\n",
       "    </tr>\n",
       "    <tr>\n",
       "      <th>(0.3, 0.4]</th>\n",
       "      <td>63</td>\n",
       "      <td>14</td>\n",
       "      <td>0.222222</td>\n",
       "      <td>0.4</td>\n",
       "    </tr>\n",
       "    <tr>\n",
       "      <th>(0.4, 0.5]</th>\n",
       "      <td>50</td>\n",
       "      <td>20</td>\n",
       "      <td>0.400000</td>\n",
       "      <td>0.5</td>\n",
       "    </tr>\n",
       "    <tr>\n",
       "      <th>(0.5, 0.6]</th>\n",
       "      <td>37</td>\n",
       "      <td>19</td>\n",
       "      <td>0.513514</td>\n",
       "      <td>0.6</td>\n",
       "    </tr>\n",
       "    <tr>\n",
       "      <th>(0.6, 0.7]</th>\n",
       "      <td>33</td>\n",
       "      <td>28</td>\n",
       "      <td>0.848485</td>\n",
       "      <td>0.7</td>\n",
       "    </tr>\n",
       "    <tr>\n",
       "      <th>(0.7, 0.8]</th>\n",
       "      <td>35</td>\n",
       "      <td>31</td>\n",
       "      <td>0.885714</td>\n",
       "      <td>0.8</td>\n",
       "    </tr>\n",
       "    <tr>\n",
       "      <th>(0.8, 0.9]</th>\n",
       "      <td>40</td>\n",
       "      <td>32</td>\n",
       "      <td>0.800000</td>\n",
       "      <td>0.9</td>\n",
       "    </tr>\n",
       "  </tbody>\n",
       "</table>\n",
       "</div>"
      ],
      "text/plain": [
       "            count  sum  fraction of positives  Categories\n",
       "Prediction                                               \n",
       "(0.0, 0.1]      7    2               0.285714         0.1\n",
       "(0.1, 0.2]     40   12               0.300000         0.2\n",
       "(0.2, 0.3]     60   15               0.250000         0.3\n",
       "(0.3, 0.4]     63   14               0.222222         0.4\n",
       "(0.4, 0.5]     50   20               0.400000         0.5\n",
       "(0.5, 0.6]     37   19               0.513514         0.6\n",
       "(0.6, 0.7]     33   28               0.848485         0.7\n",
       "(0.7, 0.8]     35   31               0.885714         0.8\n",
       "(0.8, 0.9]     40   32               0.800000         0.9"
      ]
     },
     "execution_count": 22,
     "metadata": {},
     "output_type": "execute_result"
    }
   ],
   "source": [
    "#Revert back to 0-1 classes, easier for summing \n",
    "df_calib['True class 0-1'] = 1 \n",
    "df_calib.loc[df_calib['True class']== -1, 'True class 0-1'] = 0\n",
    "\n",
    "#Divide the predictions into groups of same values\n",
    "bins = [0,0.1,0.2,0.3,0.4,0.5,0.6,0.7,0.8,0.9]\n",
    "cats = pd.cut(df_calib['Prediction'], bins, right=True)\n",
    "grouped = df_calib['True class 0-1'].groupby(cats)\n",
    "\n",
    "#Function returning the count of elements in each group and the sum of errors\n",
    "def get_stats(group):\n",
    "    return {'count': group.count(), 'sum': group.sum()}\n",
    "\n",
    "df2 = grouped.apply(get_stats).unstack()\n",
    "\n",
    "#Calculate the fraction of predictions for y=1\n",
    "df2['fraction of positives'] = (df2['sum']/df2['count'])\n",
    "\n",
    "#Add column for plotting\n",
    "df2['Categories'] = [0.1,0.2,0.3,0.4,0.5,0.6,0.7,0.8,0.9]\n",
    "df2"
   ]
  },
  {
   "cell_type": "code",
   "execution_count": 24,
   "metadata": {},
   "outputs": [
    {
     "data": {
      "text/plain": [
       "Text(0.5, 1.0, 'Calibration plots (reliability curve)')"
      ]
     },
     "execution_count": 24,
     "metadata": {},
     "output_type": "execute_result"
    },
    {
     "data": {
      "image/png": "[encoded data removed]",
      "text/plain": [
       "<Figure size 432x288 with 1 Axes>"
      ]
     },
     "metadata": {
      "needs_background": "light"
     },
     "output_type": "display_data"
    }
   ],
   "source": [
    "fig, ax = plt.subplots()\n",
    "ax.plot(df2[\"Categories\"], df2[\"fraction of positives\"], label='Logistic regression', marker='X')\n",
    "ax.plot(df2[\"Categories\"], df2[\"Categories\"], label='Perfectly calibrated', marker='X')\n",
    "\n",
    "ax.legend(loc='best')\n",
    "ax.set_title('Calibration plots (reliability curve)')"
   ]
  }
 ],
 "metadata": {
  "kernelspec": {
   "display_name": "Python 3",
   "language": "python",
   "name": "python3"
  },
  "language_info": {
   "codemirror_mode": {
    "name": "ipython",
    "version": 3
   },
   "file_extension": ".py",
   "mimetype": "text/x-python",
   "name": "python",
   "nbconvert_exporter": "python",
   "pygments_lexer": "ipython3",
   "version": "3.8.5"
  },
  "toc": {
   "base_numbering": 1,
   "nav_menu": {},
   "number_sections": true,
   "sideBar": true,
   "skip_h1_title": true,
   "title_cell": "Table of Contents",
   "title_sidebar": "Contents",
   "toc_cell": true,
   "toc_position": {},
   "toc_section_display": true,
   "toc_window_display": true
  }
 },
 "nbformat": 4,
 "nbformat_minor": 4
}
